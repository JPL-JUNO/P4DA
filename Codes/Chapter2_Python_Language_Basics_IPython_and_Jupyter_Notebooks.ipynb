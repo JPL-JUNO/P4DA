{
 "cells": [
  {
   "cell_type": "markdown",
   "id": "fd4786a7",
   "metadata": {},
   "source": [
    "In my opinion, it is not necessary to become proficient at building good software in\n",
    "Python to be able to productively do data analysis. I encourage you to use the IPython shell and Jupyter notebooks to experiment with the code examples and to\n",
    "explore the documentation for the various types, functions, and methods.\n",
    "# IPython Basics\n",
    "## Running the IPython Shell\n",
    "$ ipython\n",
    "\n",
    "## Running the Jupyter Notebook\n",
    "One of the major components of the Jupyter project is the notebook, a type of interac‐\n",
    "tive document for code, text (with or without markup), data visualizations, and other\n",
    "output."
   ]
  },
  {
   "cell_type": "markdown",
   "id": "f76e2efa",
   "metadata": {
    "ExecuteTime": {
     "end_time": "2022-10-04T09:52:57.958977Z",
     "start_time": "2022-10-04T09:52:57.951456Z"
    }
   },
   "source": [
    "## Introspection"
   ]
  },
  {
   "cell_type": "markdown",
   "id": "3ae1ca55",
   "metadata": {},
   "source": [
    "Using a question mark (?) before or after a variable will display some general information about the object"
   ]
  },
  {
   "cell_type": "code",
   "execution_count": 5,
   "id": "432832eb",
   "metadata": {
    "ExecuteTime": {
     "end_time": "2022-10-04T10:01:36.657117Z",
     "start_time": "2022-10-04T10:01:36.652065Z"
    }
   },
   "outputs": [],
   "source": [
    "b = [1, 2, 3]"
   ]
  },
  {
   "cell_type": "markdown",
   "id": "084b6011",
   "metadata": {
    "ExecuteTime": {
     "end_time": "2022-10-04T10:03:02.376756Z",
     "start_time": "2022-10-04T10:03:02.365032Z"
    }
   },
   "source": [
    "Using ?? will also show the function’s source code if possible:"
   ]
  },
  {
   "cell_type": "markdown",
   "id": "794bf1e6",
   "metadata": {},
   "source": [
    "? has a final usage, which is for searching the IPython namespace in a manner similar\n",
    "to the standard Unix or Windows command line. A number of characters combined\n",
    "with the wildcard (*) will show all names matching the wildcard expression."
   ]
  },
  {
   "cell_type": "markdown",
   "id": "0f4b1677",
   "metadata": {},
   "source": [
    "## About Magic Commands\n",
    "Some magic functions behave like Python functions and their output can be assigned\n",
    "to a variable:"
   ]
  },
  {
   "cell_type": "code",
   "execution_count": 10,
   "id": "fa0c615c",
   "metadata": {
    "ExecuteTime": {
     "end_time": "2022-10-04T10:13:06.099632Z",
     "start_time": "2022-10-04T10:13:06.085969Z"
    }
   },
   "outputs": [
    {
     "data": {
      "text/plain": [
       "'D:\\\\DS_Works\\\\DWWP'"
      ]
     },
     "execution_count": 10,
     "metadata": {},
     "output_type": "execute_result"
    }
   ],
   "source": [
    "%pwd"
   ]
  },
  {
   "cell_type": "code",
   "execution_count": 11,
   "id": "5bd1feca",
   "metadata": {
    "ExecuteTime": {
     "end_time": "2022-10-04T10:13:57.897562Z",
     "start_time": "2022-10-04T10:13:57.885489Z"
    }
   },
   "outputs": [
    {
     "data": {
      "text/plain": [
       "'D:\\\\DS_Works\\\\DWWP'"
      ]
     },
     "execution_count": 11,
     "metadata": {},
     "output_type": "execute_result"
    }
   ],
   "source": [
    "foo = %pwd\n",
    "foo"
   ]
  },
  {
   "cell_type": "code",
   "execution_count": 12,
   "id": "f9f3f177",
   "metadata": {
    "ExecuteTime": {
     "end_time": "2022-10-04T10:14:15.612218Z",
     "start_time": "2022-10-04T10:14:15.592687Z"
    }
   },
   "outputs": [],
   "source": [
    "# %quickref"
   ]
  },
  {
   "cell_type": "markdown",
   "id": "f02f8954",
   "metadata": {},
   "source": [
    "## Matplotlib Integration\n",
    "In Jupyter, the command is"
   ]
  },
  {
   "cell_type": "code",
   "execution_count": 13,
   "id": "f46ba024",
   "metadata": {
    "ExecuteTime": {
     "end_time": "2022-10-04T10:16:27.003127Z",
     "start_time": "2022-10-04T10:16:25.681434Z"
    }
   },
   "outputs": [],
   "source": [
    "%matplotlib inline"
   ]
  },
  {
   "cell_type": "markdown",
   "id": "ab9ddc2d",
   "metadata": {},
   "source": [
    "# Python Language Basics\n",
    "## Language Semantics\n",
    "The Python language design is distinguished by its emphasis on readability, simplicity, and explicitness. Some people go so far as to liken it to “executable pseudocode.”\n",
    "### Indentation, not braces\n",
    "Python uses whitespace (tabs or spaces) to structure code instead of using braces as in\n",
    "many other languages like R, C++, Java, and Perl.\n",
    "\n",
    "A colon denotes the start of an indented code block after which all of the code must\n",
    "be indented by the same amount until the end of the block.\n",
    "\n",
    "By and large, four spaces is\n",
    "the standard adopted by the vast majority of Python programmers,\n",
    "so I recommend doing that in the absence of a compelling reason\n",
    "otherwise.\n",
    "\n",
    "### Everything is an object\n",
    "An important characteristic of the Python language is the consistency of its object\n",
    "model. Every number, string, data structure, function, class, module, and so on exists\n",
    "in the Python interpreter in its own “box,” which is referred to as a Python object.\n",
    "Each object has an associated type (e.g., string or function) and internal data. In prac‐\n",
    "tice this makes the language very flexible, as even functions can be treated like any\n",
    "other object.\n",
    "\n",
    "### Comments\n",
    "Any text preceded by the hash mark (pound sign) # is ignored by the Python inter‐\n",
    "preter. This is often used to add comments to code. At times you may also want to\n",
    "exclude certain blocks of code without deleting them. An easy solution is to comment\n",
    "out the code.\n",
    "\n",
    "### Function and object method calls\n",
    "You call functions using parentheses and passing zero or more arguments, optionally\n",
    "assigning the returned value to a variable. Almost every object in Python has attached functions, known as methods, that have\n",
    "access to the object’s internal contents. \n",
    "\n",
    "### Variables and argument passing\n",
    "When assigning a variable (or name) in Python, you are creating a reference to the\n",
    "object on the righthand side of the equals sign. In practical terms, consider a list of\n",
    "integers:"
   ]
  },
  {
   "cell_type": "code",
   "execution_count": 16,
   "id": "4b34e3a1",
   "metadata": {
    "ExecuteTime": {
     "end_time": "2022-10-04T10:27:10.815636Z",
     "start_time": "2022-10-04T10:27:10.805635Z"
    }
   },
   "outputs": [],
   "source": [
    "a = [1, 2, 3]"
   ]
  },
  {
   "cell_type": "markdown",
   "id": "fd6d3e54",
   "metadata": {},
   "source": [
    "Suppose we assign a to a new variable b:"
   ]
  },
  {
   "cell_type": "code",
   "execution_count": 17,
   "id": "aad8a4dc",
   "metadata": {
    "ExecuteTime": {
     "end_time": "2022-10-04T10:27:11.195726Z",
     "start_time": "2022-10-04T10:27:11.181625Z"
    }
   },
   "outputs": [],
   "source": [
    "b = a"
   ]
  },
  {
   "cell_type": "markdown",
   "id": "1ede3ec8",
   "metadata": {},
   "source": [
    "In some languages, this assignment would cause the data [1, 2, 3] to be copied. In\n",
    "Python, a and b actually now refer to the same object, the original list [1, 2, 3]. You can prove this to yourself by appending an element to\n",
    "a and then examining b:"
   ]
  },
  {
   "cell_type": "code",
   "execution_count": 18,
   "id": "bded4068",
   "metadata": {
    "ExecuteTime": {
     "end_time": "2022-10-04T10:27:24.187757Z",
     "start_time": "2022-10-04T10:27:24.171514Z"
    }
   },
   "outputs": [
    {
     "data": {
      "text/plain": [
       "[1, 2, 3, 4]"
      ]
     },
     "execution_count": 18,
     "metadata": {},
     "output_type": "execute_result"
    }
   ],
   "source": [
    "a.append(4)\n",
    "b"
   ]
  },
  {
   "cell_type": "markdown",
   "id": "b08ff72e",
   "metadata": {},
   "source": [
    "**Assignment is also referred to as binding, as we are binding a name\n",
    "to an object.**\n",
    "\n",
    "**When you pass objects as arguments to a function, new local variables are created referencing the original objects without any copying.**"
   ]
  },
  {
   "cell_type": "code",
   "execution_count": 31,
   "id": "14de8c0b",
   "metadata": {
    "ExecuteTime": {
     "end_time": "2022-10-04T10:42:15.860278Z",
     "start_time": "2022-10-04T10:42:15.841394Z"
    }
   },
   "outputs": [
    {
     "name": "stdout",
     "output_type": "stream",
     "text": [
      "[1, 2, 3, 4]\n",
      "[1, 2, 3, 4]\n"
     ]
    }
   ],
   "source": [
    "def append_element(some_list):\n",
    "    some_list.append(4)\n",
    "    print(some_list)\n",
    "    \n",
    "lst = [1, 2, 3]\n",
    "append_element(lst)\n",
    "print(lst)"
   ]
  },
  {
   "cell_type": "markdown",
   "id": "aacc27c4",
   "metadata": {},
   "source": [
    "**If you bind a new object to a variable inside a function, that change will not be reflected in the parent scope.**"
   ]
  },
  {
   "cell_type": "code",
   "execution_count": 32,
   "id": "901a2e47",
   "metadata": {
    "ExecuteTime": {
     "end_time": "2022-10-04T10:42:23.775638Z",
     "start_time": "2022-10-04T10:42:23.760071Z"
    }
   },
   "outputs": [
    {
     "name": "stdout",
     "output_type": "stream",
     "text": [
      "['1', '2', '3', '4', '5', '6', '7']\n",
      "[1, 2, 3]\n"
     ]
    }
   ],
   "source": [
    "def append_element(some_list):\n",
    "    some_list = list('1234567')\n",
    "    print(some_list)\n",
    "    \n",
    "lst = [1, 2, 3]\n",
    "append_element(lst)\n",
    "print(lst)"
   ]
  },
  {
   "cell_type": "markdown",
   "id": "ec211728",
   "metadata": {},
   "source": [
    "### Dynamic references, strong types\n",
    "In contrast with many compiled languages, such as Java and C++, object references in\n",
    "Python have no type associated with them. There is no problem with the following:"
   ]
  },
  {
   "cell_type": "code",
   "execution_count": 33,
   "id": "d4d37b45",
   "metadata": {
    "ExecuteTime": {
     "end_time": "2022-10-04T12:42:27.456627Z",
     "start_time": "2022-10-04T12:42:27.427485Z"
    }
   },
   "outputs": [
    {
     "data": {
      "text/plain": [
       "int"
      ]
     },
     "execution_count": 33,
     "metadata": {},
     "output_type": "execute_result"
    }
   ],
   "source": [
    "a = 5\n",
    "type(a)"
   ]
  },
  {
   "cell_type": "code",
   "execution_count": 34,
   "id": "945aff12",
   "metadata": {
    "ExecuteTime": {
     "end_time": "2022-10-04T12:42:37.913342Z",
     "start_time": "2022-10-04T12:42:37.894859Z"
    }
   },
   "outputs": [
    {
     "data": {
      "text/plain": [
       "str"
      ]
     },
     "execution_count": 34,
     "metadata": {},
     "output_type": "execute_result"
    }
   ],
   "source": [
    "a = 'foo'\n",
    "type(a)"
   ]
  },
  {
   "cell_type": "markdown",
   "id": "f455871a",
   "metadata": {},
   "source": [
    "Variables are names for objects within a particular namespace; the type information is\n",
    "stored in the object itself.\n",
    "\n",
    "Python is considered a strongly typed language, which means that every object\n",
    "has a specific type (or class), and implicit conversions will occur only in certain obvi‐\n",
    "ous circumstances, such as the following:"
   ]
  },
  {
   "cell_type": "code",
   "execution_count": 35,
   "id": "0eb89bad",
   "metadata": {
    "ExecuteTime": {
     "end_time": "2022-10-04T13:33:01.058166Z",
     "start_time": "2022-10-04T13:33:00.985115Z"
    }
   },
   "outputs": [
    {
     "ename": "TypeError",
     "evalue": "unsupported operand type(s) for +: 'int' and 'str'",
     "output_type": "error",
     "traceback": [
      "\u001b[1;31m---------------------------------------------------------------------------\u001b[0m",
      "\u001b[1;31mTypeError\u001b[0m                                 Traceback (most recent call last)",
      "Input \u001b[1;32mIn [35]\u001b[0m, in \u001b[0;36m<cell line: 1>\u001b[1;34m()\u001b[0m\n\u001b[1;32m----> 1\u001b[0m \u001b[38;5;241;43m5\u001b[39;49m\u001b[43m \u001b[49m\u001b[38;5;241;43m+\u001b[39;49m\u001b[43m \u001b[49m\u001b[38;5;124;43m'\u001b[39;49m\u001b[38;5;124;43m5\u001b[39;49m\u001b[38;5;124;43m'\u001b[39;49m\n",
      "\u001b[1;31mTypeError\u001b[0m: unsupported operand type(s) for +: 'int' and 'str'"
     ]
    }
   ],
   "source": [
    "5 + '5'"
   ]
  },
  {
   "cell_type": "code",
   "execution_count": 36,
   "id": "68bbf1c7",
   "metadata": {
    "ExecuteTime": {
     "end_time": "2022-10-04T13:42:53.951286Z",
     "start_time": "2022-10-04T13:42:53.947321Z"
    }
   },
   "outputs": [
    {
     "name": "stdout",
     "output_type": "stream",
     "text": [
      "a is <class 'float'>, b is <class 'int'>\n"
     ]
    }
   ],
   "source": [
    "a = 4.5\n",
    "b = 2\n",
    "print('a is {}, b is {}'.format(type(a), type(b)))"
   ]
  },
  {
   "cell_type": "code",
   "execution_count": 37,
   "id": "d7241b2b",
   "metadata": {
    "ExecuteTime": {
     "end_time": "2022-10-04T13:42:57.496486Z",
     "start_time": "2022-10-04T13:42:57.489360Z"
    }
   },
   "outputs": [
    {
     "data": {
      "text/plain": [
       "2.25"
      ]
     },
     "execution_count": 37,
     "metadata": {},
     "output_type": "execute_result"
    }
   ],
   "source": [
    "a / b"
   ]
  },
  {
   "cell_type": "markdown",
   "id": "36ae6802",
   "metadata": {},
   "source": [
    "You can check that an object is an instance of a particular type using the isinstance function:"
   ]
  },
  {
   "cell_type": "code",
   "execution_count": 38,
   "id": "e23e0eeb",
   "metadata": {
    "ExecuteTime": {
     "end_time": "2022-10-04T13:46:30.559462Z",
     "start_time": "2022-10-04T13:46:30.543428Z"
    }
   },
   "outputs": [
    {
     "data": {
      "text/plain": [
       "True"
      ]
     },
     "execution_count": 38,
     "metadata": {},
     "output_type": "execute_result"
    }
   ],
   "source": [
    "a = 5\n",
    "isinstance(a, int)"
   ]
  },
  {
   "cell_type": "markdown",
   "id": "640bc4e7",
   "metadata": {},
   "source": [
    "isinstance can accept a tuple of types if you want to check that an object’s type is\n",
    "among those present in the tuple:"
   ]
  },
  {
   "cell_type": "code",
   "execution_count": 39,
   "id": "d3277c11",
   "metadata": {
    "ExecuteTime": {
     "end_time": "2022-10-04T13:47:47.538849Z",
     "start_time": "2022-10-04T13:47:47.523140Z"
    }
   },
   "outputs": [
    {
     "data": {
      "text/plain": [
       "True"
      ]
     },
     "execution_count": 39,
     "metadata": {},
     "output_type": "execute_result"
    }
   ],
   "source": [
    "a = 5; b = 4.5\n",
    "isinstance(a, (int, float))"
   ]
  },
  {
   "cell_type": "code",
   "execution_count": 40,
   "id": "d1795adf",
   "metadata": {
    "ExecuteTime": {
     "end_time": "2022-10-04T13:47:59.478403Z",
     "start_time": "2022-10-04T13:47:59.459873Z"
    }
   },
   "outputs": [
    {
     "data": {
      "text/plain": [
       "True"
      ]
     },
     "execution_count": 40,
     "metadata": {},
     "output_type": "execute_result"
    }
   ],
   "source": [
    "isinstance(b, (int, float))"
   ]
  },
  {
   "cell_type": "markdown",
   "id": "4e6e4c51",
   "metadata": {},
   "source": [
    "### Attributes and methods\n",
    "Objects in Python typically have both attributes (other Python objects stored “inside”\n",
    "the object) and methods (functions associated with an object that can have access to\n",
    "the object’s internal data). Both of them are accessed via the syntax\n",
    "obj.attribute_name.\n",
    "\n",
    "Attributes and methods can also be accessed by name via the getattr function:"
   ]
  },
  {
   "cell_type": "code",
   "execution_count": 45,
   "id": "ec187b3a",
   "metadata": {
    "ExecuteTime": {
     "end_time": "2022-10-04T13:55:33.311157Z",
     "start_time": "2022-10-04T13:55:33.297219Z"
    }
   },
   "outputs": [
    {
     "data": {
      "text/plain": [
       "<function str.lower()>"
      ]
     },
     "execution_count": 45,
     "metadata": {},
     "output_type": "execute_result"
    }
   ],
   "source": [
    "a = 'Stephen'\n",
    "getattr(a, 'lower')"
   ]
  },
  {
   "cell_type": "code",
   "execution_count": null,
   "id": "b0dee52b",
   "metadata": {},
   "outputs": [],
   "source": []
  },
  {
   "cell_type": "markdown",
   "id": "ca194d29",
   "metadata": {},
   "source": [
    "### Duck typing\n",
    "Often you may not care about the type of an object but rather only whether it has\n",
    "certain methods or behavior. This is sometimes called “duck typing,” after the saying\n",
    "“If it walks like a duck and quacks like a duck, then it’s a duck.” "
   ]
  },
  {
   "cell_type": "code",
   "execution_count": 46,
   "id": "59466c7d",
   "metadata": {
    "ExecuteTime": {
     "end_time": "2022-10-04T14:11:07.824581Z",
     "start_time": "2022-10-04T14:11:07.807550Z"
    }
   },
   "outputs": [],
   "source": [
    "def isiterable(obj):\n",
    "    try:\n",
    "        iter(obj)\n",
    "        return True\n",
    "    except TypeError:\n",
    "        return False"
   ]
  },
  {
   "cell_type": "code",
   "execution_count": 47,
   "id": "6abb9e4a",
   "metadata": {
    "ExecuteTime": {
     "end_time": "2022-10-04T14:12:08.071928Z",
     "start_time": "2022-10-04T14:12:08.063317Z"
    }
   },
   "outputs": [
    {
     "data": {
      "text/plain": [
       "True"
      ]
     },
     "execution_count": 47,
     "metadata": {},
     "output_type": "execute_result"
    }
   ],
   "source": [
    "isiterable('a string')"
   ]
  },
  {
   "cell_type": "code",
   "execution_count": 49,
   "id": "14c7cfa6",
   "metadata": {
    "ExecuteTime": {
     "end_time": "2022-10-04T14:12:43.738484Z",
     "start_time": "2022-10-04T14:12:43.722274Z"
    }
   },
   "outputs": [
    {
     "data": {
      "text/plain": [
       "True"
      ]
     },
     "execution_count": 49,
     "metadata": {},
     "output_type": "execute_result"
    }
   ],
   "source": [
    "isiterable([1, 2, 3])"
   ]
  },
  {
   "cell_type": "code",
   "execution_count": 50,
   "id": "5c88d8b8",
   "metadata": {
    "ExecuteTime": {
     "end_time": "2022-10-04T14:12:56.513208Z",
     "start_time": "2022-10-04T14:12:56.495031Z"
    }
   },
   "outputs": [
    {
     "data": {
      "text/plain": [
       "False"
      ]
     },
     "execution_count": 50,
     "metadata": {},
     "output_type": "execute_result"
    }
   ],
   "source": [
    "isiterable(5)"
   ]
  },
  {
   "cell_type": "code",
   "execution_count": 54,
   "id": "911999ae",
   "metadata": {
    "ExecuteTime": {
     "end_time": "2022-10-04T14:16:32.639606Z",
     "start_time": "2022-10-04T14:16:32.622745Z"
    }
   },
   "outputs": [],
   "source": [
    "x = '5789'\n",
    "if not isinstance(x, list) and isiterable(x):\n",
    "    x = list(x)"
   ]
  },
  {
   "cell_type": "markdown",
   "id": "495501f7",
   "metadata": {},
   "source": [
    "A place where I use this functionality all the time is to write functions that can accept\n",
    "multiple kinds of input.\n",
    "\n",
    "### Imports\n",
    "In Python a module is simply a file with the .py extension containing Python code.\n",
    "\n",
    "By using the as keyword you can give imports different variable names.\n",
    "\n",
    "### Binary operators and comparisons\n",
    "Most of the binary math operations and comparisons are as you might expect:"
   ]
  },
  {
   "cell_type": "code",
   "execution_count": 57,
   "id": "6678fa65",
   "metadata": {
    "ExecuteTime": {
     "end_time": "2022-10-04T14:22:41.974178Z",
     "start_time": "2022-10-04T14:22:41.964146Z"
    }
   },
   "outputs": [
    {
     "data": {
      "text/plain": [
       "-2"
      ]
     },
     "execution_count": 57,
     "metadata": {},
     "output_type": "execute_result"
    }
   ],
   "source": [
    "5 - 7"
   ]
  },
  {
   "cell_type": "code",
   "execution_count": 59,
   "id": "609c817d",
   "metadata": {
    "ExecuteTime": {
     "end_time": "2022-10-04T14:23:09.012305Z",
     "start_time": "2022-10-04T14:23:08.998274Z"
    }
   },
   "outputs": [
    {
     "data": {
      "text/plain": [
       "60.5"
      ]
     },
     "execution_count": 59,
     "metadata": {},
     "output_type": "execute_result"
    }
   ],
   "source": [
    "10 + 50.5"
   ]
  },
  {
   "cell_type": "code",
   "execution_count": 60,
   "id": "5d641f74",
   "metadata": {
    "ExecuteTime": {
     "end_time": "2022-10-04T14:23:16.519062Z",
     "start_time": "2022-10-04T14:23:16.511058Z"
    }
   },
   "outputs": [
    {
     "data": {
      "text/plain": [
       "False"
      ]
     },
     "execution_count": 60,
     "metadata": {},
     "output_type": "execute_result"
    }
   ],
   "source": [
    "5 <= 2"
   ]
  },
  {
   "cell_type": "markdown",
   "id": "3d39713d",
   "metadata": {},
   "source": [
    "To check if two **references refer to the same object**, use the is keyword. is not is also\n",
    "perfectly valid if you want to check that two objects are not the same:"
   ]
  },
  {
   "cell_type": "code",
   "execution_count": 61,
   "id": "8cb20bbc",
   "metadata": {
    "ExecuteTime": {
     "end_time": "2022-10-04T14:26:11.529163Z",
     "start_time": "2022-10-04T14:26:11.516023Z"
    }
   },
   "outputs": [],
   "source": [
    "a = [1, 2, 3]\n",
    "b = a\n",
    "c = list(a)"
   ]
  },
  {
   "cell_type": "code",
   "execution_count": 67,
   "id": "3becc52c",
   "metadata": {
    "ExecuteTime": {
     "end_time": "2022-10-04T14:44:40.505484Z",
     "start_time": "2022-10-04T14:44:40.498487Z"
    }
   },
   "outputs": [
    {
     "data": {
      "text/plain": [
       "True"
      ]
     },
     "execution_count": 67,
     "metadata": {},
     "output_type": "execute_result"
    }
   ],
   "source": [
    "a is b"
   ]
  },
  {
   "cell_type": "code",
   "execution_count": 68,
   "id": "2faaa2f3",
   "metadata": {
    "ExecuteTime": {
     "end_time": "2022-10-04T14:44:52.787528Z",
     "start_time": "2022-10-04T14:44:52.778531Z"
    }
   },
   "outputs": [
    {
     "data": {
      "text/plain": [
       "True"
      ]
     },
     "execution_count": 68,
     "metadata": {},
     "output_type": "execute_result"
    }
   ],
   "source": [
    "a is not c"
   ]
  },
  {
   "cell_type": "code",
   "execution_count": 69,
   "id": "b03ebd88",
   "metadata": {
    "ExecuteTime": {
     "end_time": "2022-10-04T14:45:28.572061Z",
     "start_time": "2022-10-04T14:45:28.554031Z"
    }
   },
   "outputs": [
    {
     "data": {
      "text/plain": [
       "(3037267060800, 3037267060800, 3037270754368)"
      ]
     },
     "execution_count": 69,
     "metadata": {},
     "output_type": "execute_result"
    }
   ],
   "source": [
    "id(a), id(b), id(c)"
   ]
  },
  {
   "cell_type": "markdown",
   "id": "4aca8899",
   "metadata": {},
   "source": [
    "Since list always creates a new Python list (i.e., a copy), we can be sure that c is dis‐\n",
    "tinct from a. Comparing with is is not the same as the == operator, because in this\n",
    "case we have:"
   ]
  },
  {
   "cell_type": "code",
   "execution_count": 70,
   "id": "01aa39bb",
   "metadata": {
    "ExecuteTime": {
     "end_time": "2022-10-04T14:47:10.326809Z",
     "start_time": "2022-10-04T14:47:10.307233Z"
    }
   },
   "outputs": [
    {
     "data": {
      "text/plain": [
       "True"
      ]
     },
     "execution_count": 70,
     "metadata": {},
     "output_type": "execute_result"
    }
   ],
   "source": [
    "a == c"
   ]
  },
  {
   "cell_type": "markdown",
   "id": "4a19794d",
   "metadata": {},
   "source": [
    "A very common use of is and is not **is to check if a variable is None**, since there is\n",
    "only one instance of None:"
   ]
  },
  {
   "cell_type": "code",
   "execution_count": 71,
   "id": "02898d9d",
   "metadata": {
    "ExecuteTime": {
     "end_time": "2022-10-04T14:48:24.651788Z",
     "start_time": "2022-10-04T14:48:24.635575Z"
    }
   },
   "outputs": [
    {
     "data": {
      "text/plain": [
       "True"
      ]
     },
     "execution_count": 71,
     "metadata": {},
     "output_type": "execute_result"
    }
   ],
   "source": [
    "a = None\n",
    "a is None"
   ]
  },
  {
   "cell_type": "markdown",
   "id": "1c72bc01",
   "metadata": {},
   "source": [
    "|Operation|Description|\n",
    "|---|---|\n",
    "a + b|Add a and b\n",
    "a - b|Subtract b from a\n",
    "a * b|Multiply a by b\n",
    "a / b|Divide a by b\n",
    "a // b|Floor-divide a by b, dropping any fractional remainder\n",
    "a ** b|Raise a to the b power\n",
    "a & b|True if both a and b are True; for integers, take the bitwise AND\n",
    "a \\| b|True if either a or b is True; for integers, take the bitwise OR\n",
    "**a ^ b**|**For booleans, True if a or b is True, but not both; for integers, take the bitwise EXCLUSIVE-OR**\n",
    "a == b|True if a equals b\n",
    "a != b|True if a is not equal to b\n",
    "a <= b, a < b|True if a is less than (less than or equal) to b\n",
    "a > b, a >= b|True if a is greater than (greater than or equal) to b\n",
    "a is b|True if a and b reference the same Python object\n",
    "a is not b|True if a and b reference different Python objects"
   ]
  },
  {
   "cell_type": "code",
   "execution_count": 73,
   "id": "47b42842",
   "metadata": {
    "ExecuteTime": {
     "end_time": "2022-10-04T14:51:07.775771Z",
     "start_time": "2022-10-04T14:51:07.761995Z"
    }
   },
   "outputs": [
    {
     "data": {
      "text/plain": [
       "0"
      ]
     },
     "execution_count": 73,
     "metadata": {},
     "output_type": "execute_result"
    }
   ],
   "source": [
    "0 ^ 0"
   ]
  },
  {
   "cell_type": "code",
   "execution_count": 83,
   "id": "48905d9d",
   "metadata": {
    "ExecuteTime": {
     "end_time": "2022-10-04T14:59:43.305176Z",
     "start_time": "2022-10-04T14:59:43.299607Z"
    }
   },
   "outputs": [
    {
     "data": {
      "text/plain": [
       "14"
      ]
     },
     "execution_count": 83,
     "metadata": {},
     "output_type": "execute_result"
    }
   ],
   "source": [
    "8 ^ 6"
   ]
  },
  {
   "cell_type": "code",
   "execution_count": 86,
   "id": "5f770520",
   "metadata": {
    "ExecuteTime": {
     "end_time": "2022-10-04T15:00:21.607810Z",
     "start_time": "2022-10-04T15:00:21.598777Z"
    }
   },
   "outputs": [
    {
     "data": {
      "text/plain": [
       "('0b1000', '0b101')"
      ]
     },
     "execution_count": 86,
     "metadata": {},
     "output_type": "execute_result"
    }
   ],
   "source": [
    "bin(8), bin(5)"
   ]
  },
  {
   "cell_type": "code",
   "execution_count": 87,
   "id": "c8280194",
   "metadata": {
    "ExecuteTime": {
     "end_time": "2022-10-04T15:00:43.651069Z",
     "start_time": "2022-10-04T15:00:43.643509Z"
    }
   },
   "outputs": [
    {
     "data": {
      "text/plain": [
       "13"
      ]
     },
     "execution_count": 87,
     "metadata": {},
     "output_type": "execute_result"
    }
   ],
   "source": [
    "0b1101"
   ]
  },
  {
   "cell_type": "markdown",
   "id": "b9c81fec",
   "metadata": {},
   "source": [
    "### Mutable and immutable objects\n",
    "Most objects in Python, such as lists, dicts, NumPy arrays, and most user-defined\n",
    "types (classes), are mutable. This means that the object or values that they contain can\n",
    "be modified:"
   ]
  },
  {
   "cell_type": "code",
   "execution_count": 88,
   "id": "d296ec57",
   "metadata": {
    "ExecuteTime": {
     "end_time": "2022-10-04T15:05:34.005008Z",
     "start_time": "2022-10-04T15:05:33.991246Z"
    }
   },
   "outputs": [
    {
     "data": {
      "text/plain": [
       "['foo', 2, (3, 4)]"
      ]
     },
     "execution_count": 88,
     "metadata": {},
     "output_type": "execute_result"
    }
   ],
   "source": [
    "a_list = ['foo', 2, [4, 5]]\n",
    "a_list[2] = (3, 4)\n",
    "a_list"
   ]
  },
  {
   "cell_type": "markdown",
   "id": "ff6a9564",
   "metadata": {},
   "source": [
    "Others, like strings and tuples, are immutable:"
   ]
  },
  {
   "cell_type": "code",
   "execution_count": 89,
   "id": "58caf5e4",
   "metadata": {
    "ExecuteTime": {
     "end_time": "2022-10-04T15:09:10.411543Z",
     "start_time": "2022-10-04T15:09:10.390177Z"
    }
   },
   "outputs": [
    {
     "ename": "TypeError",
     "evalue": "'tuple' object does not support item assignment",
     "output_type": "error",
     "traceback": [
      "\u001b[1;31m---------------------------------------------------------------------------\u001b[0m",
      "\u001b[1;31mTypeError\u001b[0m                                 Traceback (most recent call last)",
      "Input \u001b[1;32mIn [89]\u001b[0m, in \u001b[0;36m<cell line: 2>\u001b[1;34m()\u001b[0m\n\u001b[0;32m      1\u001b[0m a_tuple \u001b[38;5;241m=\u001b[39m (\u001b[38;5;241m3\u001b[39m, \u001b[38;5;241m5\u001b[39m, (\u001b[38;5;241m4\u001b[39m, \u001b[38;5;241m5\u001b[39m))\n\u001b[1;32m----> 2\u001b[0m a_tuple[\u001b[38;5;241m1\u001b[39m] \u001b[38;5;241m=\u001b[39m \u001b[38;5;124m'\u001b[39m\u001b[38;5;124mfour\u001b[39m\u001b[38;5;124m'\u001b[39m\n",
      "\u001b[1;31mTypeError\u001b[0m: 'tuple' object does not support item assignment"
     ]
    }
   ],
   "source": [
    "a_tuple = (3, 5, (4, 5))\n",
    "a_tuple[1] = 'four'"
   ]
  },
  {
   "cell_type": "markdown",
   "id": "15cf7427",
   "metadata": {},
   "source": [
    "Remember that just because you can mutate an object does not mean that you always should. Such actions are known as side effects. If possible, I recommend trying to avoid side effects and favor immutability, even though there may be mutable objects involved.If possible, I recommend trying to avoid side effects and favor immutability, even though there may be mutable objects involved.\n",
    "\n",
    "## Scalar Types\n",
    "Python along with its standard library has a small set of built-in types for handling\n",
    "numerical data, strings, boolean (True or False) values, and dates and time. These\n",
    "“single value” types are sometimes called scalar types and we refer to them in this\n",
    "book as scalars.\n",
    "\n",
    "|Type|Description|\n",
    "|---|---|\n",
    "None|The Python “null” value (only one instance of the None object exists)\n",
    "str|String type; holds Unicode (UTF-8 encoded) strings\n",
    "bytes|Raw ASCII bytes (or Unicode encoded as bytes)\n",
    "float|Double-precision (64-bit) floating-point number (note there is no separate double type)\n",
    "bool|A True or False value\n",
    "int|Arbitrary precision signed integer\n",
    "\n",
    "### Numeric types\n",
    "The primary Python types for numbers are int and float. An int can store arbitrarily large numbers:"
   ]
  },
  {
   "cell_type": "code",
   "execution_count": 95,
   "id": "16212224",
   "metadata": {
    "ExecuteTime": {
     "end_time": "2022-10-04T16:13:19.762783Z",
     "start_time": "2022-10-04T16:13:19.749733Z"
    }
   },
   "outputs": [
    {
     "data": {
      "text/plain": [
       "4444776514818367223522115848560207047841971416909503010826526003"
      ]
     },
     "execution_count": 95,
     "metadata": {},
     "output_type": "execute_result"
    }
   ],
   "source": [
    "ival = 1237513627\n",
    "ival ** 7"
   ]
  },
  {
   "cell_type": "markdown",
   "id": "e42283fc",
   "metadata": {},
   "source": [
    "Floating-point numbers are represented with the Python float type. Under the hood each one is a double-precision (64-bit) value. They can also be expressed with scientific notation:"
   ]
  },
  {
   "cell_type": "code",
   "execution_count": 98,
   "id": "61b17e8f",
   "metadata": {
    "ExecuteTime": {
     "end_time": "2022-10-04T16:18:06.618936Z",
     "start_time": "2022-10-04T16:18:06.609927Z"
    }
   },
   "outputs": [
    {
     "data": {
      "text/plain": [
       "7.243"
      ]
     },
     "execution_count": 98,
     "metadata": {},
     "output_type": "execute_result"
    }
   ],
   "source": [
    "fval = 7.243\n",
    "fval"
   ]
  },
  {
   "cell_type": "code",
   "execution_count": 97,
   "id": "050ee37a",
   "metadata": {
    "ExecuteTime": {
     "end_time": "2022-10-04T16:18:00.826265Z",
     "start_time": "2022-10-04T16:18:00.808090Z"
    }
   },
   "outputs": [
    {
     "data": {
      "text/plain": [
       "6.78e-05"
      ]
     },
     "execution_count": 97,
     "metadata": {},
     "output_type": "execute_result"
    }
   ],
   "source": [
    "fval2 = 6.78e-5\n",
    "fval2"
   ]
  },
  {
   "cell_type": "markdown",
   "id": "ea9fb056",
   "metadata": {},
   "source": [
    "Integer division not resulting in a whole number will always yield a floating-point\n",
    "number:"
   ]
  },
  {
   "cell_type": "code",
   "execution_count": 1,
   "id": "4871b1dc",
   "metadata": {
    "ExecuteTime": {
     "end_time": "2022-10-05T05:01:44.273063Z",
     "start_time": "2022-10-05T05:01:44.247296Z"
    }
   },
   "outputs": [
    {
     "data": {
      "text/plain": [
       "1.5"
      ]
     },
     "execution_count": 1,
     "metadata": {},
     "output_type": "execute_result"
    }
   ],
   "source": [
    "3 / 2"
   ]
  },
  {
   "cell_type": "markdown",
   "id": "18d8ed56",
   "metadata": {},
   "source": [
    "To get C-style integer division (which drops the fractional part if the result is not a\n",
    "whole number), use the floor division operator //:"
   ]
  },
  {
   "cell_type": "code",
   "execution_count": 2,
   "id": "d624dc7a",
   "metadata": {
    "ExecuteTime": {
     "end_time": "2022-10-05T05:01:58.625570Z",
     "start_time": "2022-10-05T05:01:58.615925Z"
    }
   },
   "outputs": [
    {
     "data": {
      "text/plain": [
       "1"
      ]
     },
     "execution_count": 2,
     "metadata": {},
     "output_type": "execute_result"
    }
   ],
   "source": [
    "3 // 2"
   ]
  },
  {
   "cell_type": "markdown",
   "id": "dca94617",
   "metadata": {},
   "source": [
    "### Strings\n",
    "You can write string literals using either single quotes ' or double quotes \":"
   ]
  },
  {
   "cell_type": "code",
   "execution_count": 3,
   "id": "a2a66b14",
   "metadata": {
    "ExecuteTime": {
     "end_time": "2022-10-05T05:03:00.220652Z",
     "start_time": "2022-10-05T05:03:00.208654Z"
    }
   },
   "outputs": [],
   "source": [
    "a = 'one way of writing a string'\n",
    "b = \"another way\""
   ]
  },
  {
   "cell_type": "markdown",
   "id": "d3ba8248",
   "metadata": {},
   "source": [
    "For multiline strings with line breaks, you can use triple quotes, either ''' or \"\"\":"
   ]
  },
  {
   "cell_type": "code",
   "execution_count": 4,
   "id": "fb249fa4",
   "metadata": {
    "ExecuteTime": {
     "end_time": "2022-10-05T05:03:45.211704Z",
     "start_time": "2022-10-05T05:03:45.207699Z"
    }
   },
   "outputs": [],
   "source": [
    "c = \"\"\"\n",
    "This is a longer string that \n",
    "spans multiple lines\n",
    "\"\"\""
   ]
  },
  {
   "cell_type": "markdown",
   "id": "1bdce05e",
   "metadata": {},
   "source": [
    "The line breaks after \"\"\" and after lines are included in the string. We can count the new line characters with the count method on c:"
   ]
  },
  {
   "cell_type": "code",
   "execution_count": 5,
   "id": "ebe3e8ba",
   "metadata": {
    "ExecuteTime": {
     "end_time": "2022-10-05T05:04:23.340531Z",
     "start_time": "2022-10-05T05:04:23.333989Z"
    }
   },
   "outputs": [
    {
     "data": {
      "text/plain": [
       "3"
      ]
     },
     "execution_count": 5,
     "metadata": {},
     "output_type": "execute_result"
    }
   ],
   "source": [
    "c.count('\\n')"
   ]
  },
  {
   "cell_type": "markdown",
   "id": "b5603f82",
   "metadata": {},
   "source": [
    "Python strings are immutable; you cannot modify a string:"
   ]
  },
  {
   "cell_type": "code",
   "execution_count": 6,
   "id": "68de1879",
   "metadata": {
    "ExecuteTime": {
     "end_time": "2022-10-05T05:04:53.344457Z",
     "start_time": "2022-10-05T05:04:52.899579Z"
    }
   },
   "outputs": [
    {
     "ename": "TypeError",
     "evalue": "'str' object does not support item assignment",
     "output_type": "error",
     "traceback": [
      "\u001b[1;31m---------------------------------------------------------------------------\u001b[0m",
      "\u001b[1;31mTypeError\u001b[0m                                 Traceback (most recent call last)",
      "Input \u001b[1;32mIn [6]\u001b[0m, in \u001b[0;36m<cell line: 2>\u001b[1;34m()\u001b[0m\n\u001b[0;32m      1\u001b[0m a \u001b[38;5;241m=\u001b[39m \u001b[38;5;124m'\u001b[39m\u001b[38;5;124mthis is a string\u001b[39m\u001b[38;5;124m'\u001b[39m\n\u001b[1;32m----> 2\u001b[0m a[\u001b[38;5;241m10\u001b[39m] \u001b[38;5;241m=\u001b[39m \u001b[38;5;124m'\u001b[39m\u001b[38;5;124mf\u001b[39m\u001b[38;5;124m'\u001b[39m\n",
      "\u001b[1;31mTypeError\u001b[0m: 'str' object does not support item assignment"
     ]
    }
   ],
   "source": [
    "a = 'this is a string'\n",
    "a[10] = 'f'"
   ]
  },
  {
   "cell_type": "code",
   "execution_count": 8,
   "id": "6b70c066",
   "metadata": {
    "ExecuteTime": {
     "end_time": "2022-10-05T05:05:35.882975Z",
     "start_time": "2022-10-05T05:05:35.877936Z"
    }
   },
   "outputs": [
    {
     "data": {
      "text/plain": [
       "('this is a longer string', 'this is a string')"
      ]
     },
     "execution_count": 8,
     "metadata": {},
     "output_type": "execute_result"
    }
   ],
   "source": [
    "b = a.replace('string', 'longer string')\n",
    "b, a"
   ]
  },
  {
   "cell_type": "markdown",
   "id": "3398edd8",
   "metadata": {},
   "source": [
    "Many Python objects can be converted to a string using the str function:"
   ]
  },
  {
   "cell_type": "code",
   "execution_count": 9,
   "id": "f7cfe6f1",
   "metadata": {
    "ExecuteTime": {
     "end_time": "2022-10-05T05:06:13.907461Z",
     "start_time": "2022-10-05T05:06:13.893123Z"
    }
   },
   "outputs": [
    {
     "name": "stdout",
     "output_type": "stream",
     "text": [
      "5.6\n"
     ]
    }
   ],
   "source": [
    "a = 5.6\n",
    "s = str(a)\n",
    "print(s)"
   ]
  },
  {
   "cell_type": "markdown",
   "id": "31f14254",
   "metadata": {},
   "source": [
    "Strings are a sequence of Unicode characters and therefore can be treated like other\n",
    "sequences, such as lists and tuples:"
   ]
  },
  {
   "cell_type": "code",
   "execution_count": 10,
   "id": "936e2af5",
   "metadata": {
    "ExecuteTime": {
     "end_time": "2022-10-05T05:06:44.451593Z",
     "start_time": "2022-10-05T05:06:44.440119Z"
    }
   },
   "outputs": [
    {
     "data": {
      "text/plain": [
       "['P', 'y', 't', 'h', 'o', 'n']"
      ]
     },
     "execution_count": 10,
     "metadata": {},
     "output_type": "execute_result"
    }
   ],
   "source": [
    "s = 'Python'\n",
    "list(s)"
   ]
  },
  {
   "cell_type": "code",
   "execution_count": 11,
   "id": "2475729c",
   "metadata": {
    "ExecuteTime": {
     "end_time": "2022-10-05T05:06:49.873908Z",
     "start_time": "2022-10-05T05:06:49.867905Z"
    }
   },
   "outputs": [
    {
     "data": {
      "text/plain": [
       "'Pyt'"
      ]
     },
     "execution_count": 11,
     "metadata": {},
     "output_type": "execute_result"
    }
   ],
   "source": [
    "s[: 3]"
   ]
  },
  {
   "cell_type": "markdown",
   "id": "3e9c3fb0",
   "metadata": {},
   "source": [
    "The backslash character \\ is an escape character, meaning that it is used to specify\n",
    "special characters like newline \\n or Unicode characters. To write a string literal with\n",
    "backslashes, you need to escape them:"
   ]
  },
  {
   "cell_type": "code",
   "execution_count": 12,
   "id": "df96133d",
   "metadata": {
    "ExecuteTime": {
     "end_time": "2022-10-05T05:07:43.456481Z",
     "start_time": "2022-10-05T05:07:43.441230Z"
    }
   },
   "outputs": [
    {
     "name": "stdout",
     "output_type": "stream",
     "text": [
      "12\\34\n"
     ]
    }
   ],
   "source": [
    "s = '12\\\\34'\n",
    "print(s)"
   ]
  },
  {
   "cell_type": "markdown",
   "id": "39597895",
   "metadata": {},
   "source": [
    "You can preface the leading quote of the string with r,\n",
    "which means that the characters should be interpreted as is. The r stands for raw."
   ]
  },
  {
   "cell_type": "code",
   "execution_count": 16,
   "id": "171bcae3",
   "metadata": {
    "ExecuteTime": {
     "end_time": "2022-10-05T05:19:32.552372Z",
     "start_time": "2022-10-05T05:19:32.545879Z"
    }
   },
   "outputs": [
    {
     "data": {
      "text/plain": [
       "'this\\\\has\\\\no\\\\sepcial\\\\characters'"
      ]
     },
     "execution_count": 16,
     "metadata": {},
     "output_type": "execute_result"
    }
   ],
   "source": [
    "s = r'this\\has\\no\\sepcial\\characters'\n",
    "s"
   ]
  },
  {
   "cell_type": "code",
   "execution_count": 17,
   "id": "50a1265b",
   "metadata": {
    "ExecuteTime": {
     "end_time": "2022-10-05T05:19:33.402759Z",
     "start_time": "2022-10-05T05:19:33.397761Z"
    }
   },
   "outputs": [
    {
     "name": "stdout",
     "output_type": "stream",
     "text": [
      "this\\has\\no\\sepcial\\characters\n"
     ]
    }
   ],
   "source": [
    "print(s)"
   ]
  },
  {
   "cell_type": "markdown",
   "id": "958e8175",
   "metadata": {},
   "source": [
    "Adding two strings together concatenates them and produces a new string:"
   ]
  },
  {
   "cell_type": "code",
   "execution_count": 19,
   "id": "4dc5eb4a",
   "metadata": {
    "ExecuteTime": {
     "end_time": "2022-10-05T05:20:35.658961Z",
     "start_time": "2022-10-05T05:20:35.652962Z"
    }
   },
   "outputs": [
    {
     "data": {
      "text/plain": [
       "'This is the first half and this is the second half'"
      ]
     },
     "execution_count": 19,
     "metadata": {},
     "output_type": "execute_result"
    }
   ],
   "source": [
    "a = 'This is the first half '\n",
    "b = 'and this is the second half'\n",
    "a + b"
   ]
  },
  {
   "cell_type": "markdown",
   "id": "e3e9c815",
   "metadata": {},
   "source": [
    "String templating or formatting is another important topic. Here I will briefly describe the\n",
    "mechanics of one of the main interfaces. String objects have a format method that\n",
    "can be used to substitute formatted arguments into the string, producing a new\n",
    "string:"
   ]
  },
  {
   "cell_type": "code",
   "execution_count": 20,
   "id": "e0133c4c",
   "metadata": {
    "ExecuteTime": {
     "end_time": "2022-10-05T05:21:54.181950Z",
     "start_time": "2022-10-05T05:21:54.167396Z"
    }
   },
   "outputs": [],
   "source": [
    "template = '{0:.2f} {1:s} are worth US${2:d}'"
   ]
  },
  {
   "cell_type": "markdown",
   "id": "42ffb5bf",
   "metadata": {},
   "source": [
    "In this string,\n",
    "- {0:.2f} means to format the first argument as a floating-point number with two decimal places.\n",
    "- {1:s} means to format the second argument as a string.\n",
    "- {2:d} means to format the third argument as an exact integer.\n",
    "\n",
    "To substitute arguments for these format parameters, we pass a sequence of argu‐\n",
    "ments to the format method:"
   ]
  },
  {
   "cell_type": "code",
   "execution_count": 24,
   "id": "8a0242ec",
   "metadata": {
    "ExecuteTime": {
     "end_time": "2022-10-05T05:23:31.663232Z",
     "start_time": "2022-10-05T05:23:31.648699Z"
    }
   },
   "outputs": [
    {
     "data": {
      "text/plain": [
       "'4.56 Argentine Pesos are worth US$2'"
      ]
     },
     "execution_count": 24,
     "metadata": {},
     "output_type": "execute_result"
    }
   ],
   "source": [
    "template.format(4.5560, 'Argentine Pesos', 2)"
   ]
  },
  {
   "cell_type": "markdown",
   "id": "2666bc0d",
   "metadata": {},
   "source": [
    "String formatting is a deep topic; there are multiple methods and numerous options\n",
    "and tweaks available to control how values are formatted in the resulting string. To\n",
    "learn more, I recommend consulting the official Python documentation."
   ]
  },
  {
   "cell_type": "markdown",
   "id": "f627e060",
   "metadata": {},
   "source": [
    "### Bytes and Unicode\n",
    "In modern Python (i.e., Python 3.0 and up), Unicode has become the first-class string\n",
    "type to enable more consistent handling of ASCII and non-ASCII text."
   ]
  },
  {
   "cell_type": "code",
   "execution_count": 26,
   "id": "7a514157",
   "metadata": {
    "ExecuteTime": {
     "end_time": "2022-10-05T05:28:21.747333Z",
     "start_time": "2022-10-05T05:28:21.742336Z"
    }
   },
   "outputs": [
    {
     "data": {
      "text/plain": [
       "'español'"
      ]
     },
     "execution_count": 26,
     "metadata": {},
     "output_type": "execute_result"
    }
   ],
   "source": [
    "val = 'español'\n",
    "val"
   ]
  },
  {
   "cell_type": "markdown",
   "id": "6d59ccce",
   "metadata": {},
   "source": [
    "We can convert this Unicode string to its UTF-8 bytes representation using the\n",
    "encode method:"
   ]
  },
  {
   "cell_type": "code",
   "execution_count": 28,
   "id": "4c8a12ec",
   "metadata": {
    "ExecuteTime": {
     "end_time": "2022-10-05T05:29:03.088255Z",
     "start_time": "2022-10-05T05:29:03.072218Z"
    }
   },
   "outputs": [
    {
     "data": {
      "text/plain": [
       "b'espa\\xc3\\xb1ol'"
      ]
     },
     "execution_count": 28,
     "metadata": {},
     "output_type": "execute_result"
    }
   ],
   "source": [
    "val_utf8 = val.encode('utf-8')\n",
    "val_utf8"
   ]
  },
  {
   "cell_type": "markdown",
   "id": "3d89eab8",
   "metadata": {},
   "source": [
    "Assuming you know the Unicode encoding of a bytes object, you can go back using\n",
    "the decode method:"
   ]
  },
  {
   "cell_type": "code",
   "execution_count": 29,
   "id": "a42f3f2d",
   "metadata": {
    "ExecuteTime": {
     "end_time": "2022-10-05T05:29:43.497464Z",
     "start_time": "2022-10-05T05:29:43.488436Z"
    }
   },
   "outputs": [
    {
     "data": {
      "text/plain": [
       "'español'"
      ]
     },
     "execution_count": 29,
     "metadata": {},
     "output_type": "execute_result"
    }
   ],
   "source": [
    "val_utf8.decode('utf-8')"
   ]
  },
  {
   "cell_type": "markdown",
   "id": "4bd3bf17",
   "metadata": {},
   "source": [
    "While it’s become preferred to use UTF-8 for any encoding, for historical reasons you\n",
    "may encounter data in any number of different encodings:"
   ]
  },
  {
   "cell_type": "code",
   "execution_count": 30,
   "id": "15ce9570",
   "metadata": {
    "ExecuteTime": {
     "end_time": "2022-10-05T05:34:44.753141Z",
     "start_time": "2022-10-05T05:34:44.744140Z"
    }
   },
   "outputs": [
    {
     "data": {
      "text/plain": [
       "b'espa\\xf1ol'"
      ]
     },
     "execution_count": 30,
     "metadata": {},
     "output_type": "execute_result"
    }
   ],
   "source": [
    "val.encode('latin1')"
   ]
  },
  {
   "cell_type": "code",
   "execution_count": 31,
   "id": "7c358a31",
   "metadata": {
    "ExecuteTime": {
     "end_time": "2022-10-05T05:35:01.136567Z",
     "start_time": "2022-10-05T05:35:01.119536Z"
    }
   },
   "outputs": [
    {
     "data": {
      "text/plain": [
       "b'\\xff\\xfee\\x00s\\x00p\\x00a\\x00\\xf1\\x00o\\x00l\\x00'"
      ]
     },
     "execution_count": 31,
     "metadata": {},
     "output_type": "execute_result"
    }
   ],
   "source": [
    "val.encode('utf-16')"
   ]
  },
  {
   "cell_type": "code",
   "execution_count": 33,
   "id": "3ef68459",
   "metadata": {
    "ExecuteTime": {
     "end_time": "2022-10-05T05:35:23.988893Z",
     "start_time": "2022-10-05T05:35:23.970623Z"
    }
   },
   "outputs": [
    {
     "data": {
      "text/plain": [
       "b'e\\x00s\\x00p\\x00a\\x00\\xf1\\x00o\\x00l\\x00'"
      ]
     },
     "execution_count": 33,
     "metadata": {},
     "output_type": "execute_result"
    }
   ],
   "source": [
    "val.encode('utf-16le')"
   ]
  },
  {
   "cell_type": "markdown",
   "id": "e7eabfa9",
   "metadata": {},
   "source": [
    "It is most common to encounter bytes objects in the context of working with files,\n",
    "where implicitly decoding all data to Unicode strings may not be desired.\n",
    "\n",
    "Though you may seldom need to do so, you can define your own byte literals by pre‐\n",
    "fixing a string with b:"
   ]
  },
  {
   "cell_type": "code",
   "execution_count": 34,
   "id": "f86c8753",
   "metadata": {
    "ExecuteTime": {
     "end_time": "2022-10-05T05:45:13.069417Z",
     "start_time": "2022-10-05T05:45:13.054412Z"
    }
   },
   "outputs": [
    {
     "data": {
      "text/plain": [
       "b'this is bytes'"
      ]
     },
     "execution_count": 34,
     "metadata": {},
     "output_type": "execute_result"
    }
   ],
   "source": [
    "bytes_val = b'this is bytes'\n",
    "bytes_val"
   ]
  },
  {
   "cell_type": "code",
   "execution_count": 36,
   "id": "47a4088d",
   "metadata": {
    "ExecuteTime": {
     "end_time": "2022-10-05T05:45:40.526139Z",
     "start_time": "2022-10-05T05:45:40.508954Z"
    }
   },
   "outputs": [
    {
     "data": {
      "text/plain": [
       "'this is bytes'"
      ]
     },
     "execution_count": 36,
     "metadata": {},
     "output_type": "execute_result"
    }
   ],
   "source": [
    "decoded = bytes_val.decode('utf8')\n",
    "decoded"
   ]
  },
  {
   "cell_type": "markdown",
   "id": "9bda96ec",
   "metadata": {},
   "source": [
    "### Booleans\n",
    "The two boolean values in Python are written as True and False. Comparisons and\n",
    "other conditional expressions evaluate to either True or False. Boolean values are\n",
    "combined with the and and or keywords:"
   ]
  },
  {
   "cell_type": "code",
   "execution_count": 37,
   "id": "aabfb401",
   "metadata": {
    "ExecuteTime": {
     "end_time": "2022-10-05T06:43:52.918788Z",
     "start_time": "2022-10-05T06:43:52.903748Z"
    }
   },
   "outputs": [
    {
     "data": {
      "text/plain": [
       "True"
      ]
     },
     "execution_count": 37,
     "metadata": {},
     "output_type": "execute_result"
    }
   ],
   "source": [
    "True and True"
   ]
  },
  {
   "cell_type": "code",
   "execution_count": 38,
   "id": "dc6dcc33",
   "metadata": {
    "ExecuteTime": {
     "end_time": "2022-10-05T06:44:02.472364Z",
     "start_time": "2022-10-05T06:44:02.454164Z"
    }
   },
   "outputs": [
    {
     "data": {
      "text/plain": [
       "True"
      ]
     },
     "execution_count": 38,
     "metadata": {},
     "output_type": "execute_result"
    }
   ],
   "source": [
    "False or True"
   ]
  },
  {
   "cell_type": "markdown",
   "id": "2c210043",
   "metadata": {},
   "source": [
    "### Type casting\n",
    "The str, bool, int, and float types are also functions that can be used to cast values\n",
    "to those types:"
   ]
  },
  {
   "cell_type": "code",
   "execution_count": 41,
   "id": "e0fcdfd2",
   "metadata": {
    "ExecuteTime": {
     "end_time": "2022-10-05T07:24:55.988324Z",
     "start_time": "2022-10-05T07:24:55.981804Z"
    }
   },
   "outputs": [
    {
     "data": {
      "text/plain": [
       "float"
      ]
     },
     "execution_count": 41,
     "metadata": {},
     "output_type": "execute_result"
    }
   ],
   "source": [
    "s = '3.14159'\n",
    "fval = float(s)\n",
    "type(fval)"
   ]
  },
  {
   "cell_type": "code",
   "execution_count": 42,
   "id": "c746bcf3",
   "metadata": {
    "ExecuteTime": {
     "end_time": "2022-10-05T07:25:06.089998Z",
     "start_time": "2022-10-05T07:25:06.081984Z"
    }
   },
   "outputs": [
    {
     "data": {
      "text/plain": [
       "3"
      ]
     },
     "execution_count": 42,
     "metadata": {},
     "output_type": "execute_result"
    }
   ],
   "source": [
    "int(fval)"
   ]
  },
  {
   "cell_type": "code",
   "execution_count": 43,
   "id": "329f72c4",
   "metadata": {
    "ExecuteTime": {
     "end_time": "2022-10-05T07:25:15.946302Z",
     "start_time": "2022-10-05T07:25:15.883076Z"
    }
   },
   "outputs": [
    {
     "data": {
      "text/plain": [
       "True"
      ]
     },
     "execution_count": 43,
     "metadata": {},
     "output_type": "execute_result"
    }
   ],
   "source": [
    "bool(fval)"
   ]
  },
  {
   "cell_type": "code",
   "execution_count": 44,
   "id": "328deba9",
   "metadata": {
    "ExecuteTime": {
     "end_time": "2022-10-05T07:52:19.909885Z",
     "start_time": "2022-10-05T07:52:19.904865Z"
    }
   },
   "outputs": [
    {
     "data": {
      "text/plain": [
       "False"
      ]
     },
     "execution_count": 44,
     "metadata": {},
     "output_type": "execute_result"
    }
   ],
   "source": [
    "bool(0)"
   ]
  },
  {
   "cell_type": "markdown",
   "id": "854746c4",
   "metadata": {},
   "source": [
    "### None\n",
    "None is the Python null value type. If a function does not explicitly return a value, it\n",
    "implicitly returns None:"
   ]
  },
  {
   "cell_type": "code",
   "execution_count": 45,
   "id": "ea860916",
   "metadata": {
    "ExecuteTime": {
     "end_time": "2022-10-05T08:01:11.673698Z",
     "start_time": "2022-10-05T08:01:11.652021Z"
    }
   },
   "outputs": [
    {
     "data": {
      "text/plain": [
       "True"
      ]
     },
     "execution_count": 45,
     "metadata": {},
     "output_type": "execute_result"
    }
   ],
   "source": [
    "a = None\n",
    "a is None"
   ]
  },
  {
   "cell_type": "code",
   "execution_count": 47,
   "id": "b2623159",
   "metadata": {
    "ExecuteTime": {
     "end_time": "2022-10-05T08:01:28.279427Z",
     "start_time": "2022-10-05T08:01:28.272393Z"
    }
   },
   "outputs": [
    {
     "data": {
      "text/plain": [
       "True"
      ]
     },
     "execution_count": 47,
     "metadata": {},
     "output_type": "execute_result"
    }
   ],
   "source": [
    "b = 5\n",
    "b is not None"
   ]
  },
  {
   "cell_type": "markdown",
   "id": "c126014c",
   "metadata": {},
   "source": [
    "None is also a common default value for function arguments:"
   ]
  },
  {
   "cell_type": "code",
   "execution_count": 48,
   "id": "61f92703",
   "metadata": {
    "ExecuteTime": {
     "end_time": "2022-10-05T08:03:02.550023Z",
     "start_time": "2022-10-05T08:03:02.542404Z"
    }
   },
   "outputs": [],
   "source": [
    "def add_and_maybe_mutiply(a, b, c=None):\n",
    "    result = a + b\n",
    "    \n",
    "    if c is not None:\n",
    "        result = result * c\n",
    "    \n",
    "    return result"
   ]
  },
  {
   "cell_type": "markdown",
   "id": "1d5ba740",
   "metadata": {},
   "source": [
    "While a technical point, it’s worth bearing in mind that None is not only a reserved\n",
    "keyword but also a unique instance of NoneType:"
   ]
  },
  {
   "cell_type": "code",
   "execution_count": 49,
   "id": "8e1f884a",
   "metadata": {
    "ExecuteTime": {
     "end_time": "2022-10-05T09:35:26.876740Z",
     "start_time": "2022-10-05T09:35:26.868736Z"
    }
   },
   "outputs": [
    {
     "data": {
      "text/plain": [
       "NoneType"
      ]
     },
     "execution_count": 49,
     "metadata": {},
     "output_type": "execute_result"
    }
   ],
   "source": [
    "type(None)"
   ]
  },
  {
   "cell_type": "markdown",
   "id": "3ec95f35",
   "metadata": {},
   "source": [
    "### Dates and times\n",
    "The built-in Python datetime module provides datetime, date, and time types."
   ]
  },
  {
   "cell_type": "code",
   "execution_count": 51,
   "id": "3d3c631b",
   "metadata": {
    "ExecuteTime": {
     "end_time": "2022-10-05T10:55:35.702591Z",
     "start_time": "2022-10-05T10:55:35.684521Z"
    }
   },
   "outputs": [
    {
     "data": {
      "text/plain": [
       "(5, 53)"
      ]
     },
     "execution_count": 51,
     "metadata": {},
     "output_type": "execute_result"
    }
   ],
   "source": [
    "from datetime import datetime, date, time\n",
    "dt = datetime(2022, 10, 5, 18, 53, 55)\n",
    "dt.day, dt.minute"
   ]
  },
  {
   "cell_type": "markdown",
   "id": "b355579a",
   "metadata": {},
   "source": [
    "Given a datetime instance, you can extract the equivalent date and time objects by\n",
    "calling methods on the datetime of the same name:"
   ]
  },
  {
   "cell_type": "code",
   "execution_count": 52,
   "id": "5cd19eac",
   "metadata": {
    "ExecuteTime": {
     "end_time": "2022-10-05T14:44:19.371084Z",
     "start_time": "2022-10-05T14:44:19.356097Z"
    }
   },
   "outputs": [
    {
     "data": {
      "text/plain": [
       "datetime.date(2022, 10, 5)"
      ]
     },
     "execution_count": 52,
     "metadata": {},
     "output_type": "execute_result"
    }
   ],
   "source": [
    "dt.date()"
   ]
  },
  {
   "cell_type": "code",
   "execution_count": 53,
   "id": "a671cb75",
   "metadata": {
    "ExecuteTime": {
     "end_time": "2022-10-05T14:44:27.666108Z",
     "start_time": "2022-10-05T14:44:27.647903Z"
    }
   },
   "outputs": [
    {
     "data": {
      "text/plain": [
       "datetime.time(18, 53, 55)"
      ]
     },
     "execution_count": 53,
     "metadata": {},
     "output_type": "execute_result"
    }
   ],
   "source": [
    "dt.time()"
   ]
  },
  {
   "cell_type": "markdown",
   "id": "354cc6de",
   "metadata": {},
   "source": [
    "The strftime method formats a datetime as a string:"
   ]
  },
  {
   "cell_type": "code",
   "execution_count": 54,
   "id": "3f51b200",
   "metadata": {
    "ExecuteTime": {
     "end_time": "2022-10-05T14:45:19.276615Z",
     "start_time": "2022-10-05T14:45:19.256595Z"
    }
   },
   "outputs": [
    {
     "data": {
      "text/plain": [
       "'10/05/2022 18:53'"
      ]
     },
     "execution_count": 54,
     "metadata": {},
     "output_type": "execute_result"
    }
   ],
   "source": [
    "dt.strftime('%m/%d/%Y %H:%M')"
   ]
  },
  {
   "cell_type": "markdown",
   "id": "880dd618",
   "metadata": {},
   "source": [
    "Strings can be converted (parsed) into datetime objects with the strptime function:"
   ]
  },
  {
   "cell_type": "code",
   "execution_count": 56,
   "id": "90e8476d",
   "metadata": {
    "ExecuteTime": {
     "end_time": "2022-10-05T14:54:17.656776Z",
     "start_time": "2022-10-05T14:54:17.637749Z"
    }
   },
   "outputs": [
    {
     "data": {
      "text/plain": [
       "datetime.datetime(2022, 10, 5, 0, 0)"
      ]
     },
     "execution_count": 56,
     "metadata": {},
     "output_type": "execute_result"
    }
   ],
   "source": [
    "datetime.strptime('20221005', '%Y%m%d')"
   ]
  },
  {
   "cell_type": "markdown",
   "id": "7f0e84f4",
   "metadata": {},
   "source": [
    "When you are aggregating or otherwise grouping time series data, it will occasionally\n",
    "be useful to replace time fields of a series of datetimes"
   ]
  },
  {
   "cell_type": "code",
   "execution_count": 57,
   "id": "e8da36f1",
   "metadata": {
    "ExecuteTime": {
     "end_time": "2022-10-05T14:56:31.962323Z",
     "start_time": "2022-10-05T14:56:31.946641Z"
    }
   },
   "outputs": [
    {
     "data": {
      "text/plain": [
       "datetime.datetime(2022, 10, 5, 18, 0)"
      ]
     },
     "execution_count": 57,
     "metadata": {},
     "output_type": "execute_result"
    }
   ],
   "source": [
    "dt.replace(minute=0, second=0)"
   ]
  },
  {
   "cell_type": "markdown",
   "id": "e7e60667",
   "metadata": {},
   "source": [
    "Since datetime.datetime is an immutable type, methods like these always produce\n",
    "new objects.\n",
    "\n",
    "The difference of two datetime objects produces a datetime.timedelta type:"
   ]
  },
  {
   "cell_type": "code",
   "execution_count": 59,
   "id": "ceccc79c",
   "metadata": {
    "ExecuteTime": {
     "end_time": "2022-10-05T14:58:05.285015Z",
     "start_time": "2022-10-05T14:58:05.266429Z"
    }
   },
   "outputs": [
    {
     "data": {
      "text/plain": [
       "datetime.timedelta(days=4, seconds=62297)"
      ]
     },
     "execution_count": 59,
     "metadata": {},
     "output_type": "execute_result"
    }
   ],
   "source": [
    "dt2 = datetime(2022, 10, 10, 12, 12, 12)\n",
    "delta = dt2 - dt\n",
    "delta"
   ]
  },
  {
   "cell_type": "code",
   "execution_count": 60,
   "id": "3607cfb6",
   "metadata": {
    "ExecuteTime": {
     "end_time": "2022-10-05T14:58:22.063815Z",
     "start_time": "2022-10-05T14:58:22.047695Z"
    }
   },
   "outputs": [
    {
     "data": {
      "text/plain": [
       "datetime.timedelta"
      ]
     },
     "execution_count": 60,
     "metadata": {},
     "output_type": "execute_result"
    }
   ],
   "source": [
    "type(delta)"
   ]
  },
  {
   "cell_type": "markdown",
   "id": "2c3e2275",
   "metadata": {},
   "source": [
    "Adding a timedelta to a datetime produces a new shifted datetime:"
   ]
  },
  {
   "cell_type": "code",
   "execution_count": 62,
   "id": "5b890aa3",
   "metadata": {
    "ExecuteTime": {
     "end_time": "2022-10-05T14:59:36.455465Z",
     "start_time": "2022-10-05T14:59:36.445465Z"
    }
   },
   "outputs": [
    {
     "data": {
      "text/plain": [
       "(datetime.datetime(2022, 10, 5, 18, 53, 55),\n",
       " datetime.datetime(2022, 10, 10, 12, 12, 12))"
      ]
     },
     "execution_count": 62,
     "metadata": {},
     "output_type": "execute_result"
    }
   ],
   "source": [
    "dt, dt + delta"
   ]
  },
  {
   "cell_type": "markdown",
   "id": "3245187f",
   "metadata": {},
   "source": [
    "Type|Description\n",
    "---|---\n",
    "%Y|Four-digit year\n",
    "%y|Two-digit year\n",
    "%m|Two-digit month [01, 12]\n",
    "%d|Two-digit day [01, 31]\n",
    "%H|Hour (24-hour clock) [00, 23]\n",
    "%I|Hour (12-hour clock) [01, 12]\n",
    "%M|Two-digit minute [00, 59]\n",
    "%S|Second [00, 61] (seconds 60, 61 account for leap seconds)\n",
    "%w|Weekday as integer [0 (Sunday), 6]\n",
    "%U|Week number of the year [00, 53]; Sunday is considered the first day of the week, and days before the first Sunday of the year are “week 0”\n",
    "%W|Week number of the year [00, 53]; Monday is considered the first day of the week, and days before the first Monday of the year are “week 0”\n",
    "%z|UTC time zone offset as +HHMM or -HHMM; empty if time zone naive\n",
    "%F|Shortcut for %Y-%m-%d (e.g., 2012-4-18)\n",
    "%D|Shortcut for %m/%d/%y (e.g., 04/18/12)"
   ]
  },
  {
   "cell_type": "markdown",
   "id": "437671f0",
   "metadata": {},
   "source": [
    "## Control Flow\n",
    "Python has several built-in keywords for conditional logic, loops, and other standard\n",
    "control flow concepts found in other programming languages.\n",
    "\n",
    "### if, elif, and else\n",
    "The if statement is one of the most well-known control flow statement types. It\n",
    "checks a condition that, if True, evaluates the code in the block that follows:"
   ]
  },
  {
   "cell_type": "code",
   "execution_count": 67,
   "id": "300713c0",
   "metadata": {
    "ExecuteTime": {
     "end_time": "2022-10-05T15:06:36.281908Z",
     "start_time": "2022-10-05T15:06:36.272746Z"
    }
   },
   "outputs": [],
   "source": [
    "x = 3\n",
    "if x < 0:\n",
    "    print(\"It's negative\")"
   ]
  },
  {
   "cell_type": "markdown",
   "id": "faeebf70",
   "metadata": {},
   "source": [
    "An if statement can be optionally followed by one or more elif blocks and a catchall else block if all of the conditions are False:"
   ]
  },
  {
   "cell_type": "code",
   "execution_count": 69,
   "id": "eb4dda41",
   "metadata": {
    "ExecuteTime": {
     "end_time": "2022-10-05T15:07:09.852673Z",
     "start_time": "2022-10-05T15:07:09.844394Z"
    }
   },
   "outputs": [
    {
     "name": "stdout",
     "output_type": "stream",
     "text": [
      "Positive but smaller than 5\n"
     ]
    }
   ],
   "source": [
    "if x < 0:\n",
    "    print('It\\'s negative')\n",
    "elif x == 0:\n",
    "    print('Equal to zero')\n",
    "elif 0 < x < 5:\n",
    "    print('Positive but smaller than 5')\n",
    "else:\n",
    "    print('Positive and larger than or equal to 5')"
   ]
  },
  {
   "cell_type": "markdown",
   "id": "1f2c488f",
   "metadata": {},
   "source": [
    "With a compound condition using and or or, conditions are evaluated left to right and will\n",
    "short-circuit:"
   ]
  },
  {
   "cell_type": "code",
   "execution_count": 70,
   "id": "54c27855",
   "metadata": {
    "ExecuteTime": {
     "end_time": "2022-10-05T15:09:18.047048Z",
     "start_time": "2022-10-05T15:09:18.030650Z"
    }
   },
   "outputs": [],
   "source": [
    "a = 5; b = 7\n",
    "c = 8; d = 4"
   ]
  },
  {
   "cell_type": "code",
   "execution_count": 71,
   "id": "fee1e0af",
   "metadata": {
    "ExecuteTime": {
     "end_time": "2022-10-05T15:09:40.757186Z",
     "start_time": "2022-10-05T15:09:40.738215Z"
    }
   },
   "outputs": [
    {
     "name": "stdout",
     "output_type": "stream",
     "text": [
      "Made it\n"
     ]
    }
   ],
   "source": [
    "if a < b or c > d:\n",
    "    print('Made it')"
   ]
  },
  {
   "cell_type": "markdown",
   "id": "a39f3d13",
   "metadata": {},
   "source": [
    "It is also possible to chain comparisons:"
   ]
  },
  {
   "cell_type": "code",
   "execution_count": 75,
   "id": "601fee82",
   "metadata": {
    "ExecuteTime": {
     "end_time": "2022-10-05T15:10:55.151483Z",
     "start_time": "2022-10-05T15:10:55.144087Z"
    }
   },
   "outputs": [
    {
     "data": {
      "text/plain": [
       "(False, True)"
      ]
     },
     "execution_count": 75,
     "metadata": {},
     "output_type": "execute_result"
    }
   ],
   "source": [
    "4 > 3 > 6 > 1, 4 > 3 > 2 > 1"
   ]
  },
  {
   "cell_type": "markdown",
   "id": "b736cbde",
   "metadata": {},
   "source": [
    "### for loops\n",
    "for loops are for iterating over a collection (like a list or tuple) or an iterater.\n",
    "\n",
    "You can advance a for loop to the next iteration, skipping the remainder of the block,\n",
    "using the continue keyword."
   ]
  },
  {
   "cell_type": "code",
   "execution_count": 76,
   "id": "e1dcb3d2",
   "metadata": {
    "ExecuteTime": {
     "end_time": "2022-10-05T15:13:22.122737Z",
     "start_time": "2022-10-05T15:13:22.109659Z"
    }
   },
   "outputs": [],
   "source": [
    "sequence = [1, 2, None, 4, None, 5]\n",
    "total = 0\n",
    "for value in sequence:\n",
    "    if value is None:\n",
    "        continue\n",
    "    total += value"
   ]
  },
  {
   "cell_type": "markdown",
   "id": "09a87ffd",
   "metadata": {},
   "source": [
    "A for loop can be exited altogether with the break keyword. "
   ]
  },
  {
   "cell_type": "code",
   "execution_count": 77,
   "id": "e225943e",
   "metadata": {
    "ExecuteTime": {
     "end_time": "2022-10-05T15:14:47.014714Z",
     "start_time": "2022-10-05T15:14:46.954580Z"
    }
   },
   "outputs": [],
   "source": [
    "sequence = [1, 2, 3, 4, 7, 6, 5, 0, 9, 1]\n",
    "total_until_5 = 0\n",
    "for value in sequence:\n",
    "    if value == 5:\n",
    "        break\n",
    "    total_until_5 += value"
   ]
  },
  {
   "cell_type": "markdown",
   "id": "6fdebc13",
   "metadata": {},
   "source": [
    "The break keyword only terminates the innermost for loop; any outer for loops will\n",
    "continue to run:"
   ]
  },
  {
   "cell_type": "code",
   "execution_count": 79,
   "id": "7200ad3e",
   "metadata": {
    "ExecuteTime": {
     "end_time": "2022-10-05T15:15:57.588955Z",
     "start_time": "2022-10-05T15:15:57.578191Z"
    }
   },
   "outputs": [
    {
     "name": "stdout",
     "output_type": "stream",
     "text": [
      "(0, 0),(1, 0),(1, 1),(2, 0),(2, 1),(2, 2),(3, 0),(3, 1),(3, 2),(3, 3),"
     ]
    }
   ],
   "source": [
    "for i in range(4):\n",
    "    for j in range(4):\n",
    "        if j > i:\n",
    "            break\n",
    "        print((i, j), end=',')"
   ]
  },
  {
   "cell_type": "markdown",
   "id": "c940b7b8",
   "metadata": {},
   "source": [
    "As we will see in more detail, if the elements in the collection or iterator are sequen‐\n",
    "ces (tuples or lists, say), they can be conveniently unpacked into variables in the for\n",
    "loop statement.\n",
    "\n",
    "### while loops\n",
    "A while loop specifies a condition and a block of code that is to be executed until the\n",
    "condition evaluates to False or the loop is explicitly ended with break:"
   ]
  },
  {
   "cell_type": "code",
   "execution_count": 82,
   "id": "353a31cf",
   "metadata": {
    "ExecuteTime": {
     "end_time": "2022-10-05T15:35:31.802722Z",
     "start_time": "2022-10-05T15:35:31.786802Z"
    }
   },
   "outputs": [],
   "source": [
    "x = 256\n",
    "total = 0\n",
    "while x > 0:\n",
    "    if total > 500:\n",
    "        break\n",
    "    total += x\n",
    "    x = x // 2"
   ]
  },
  {
   "cell_type": "markdown",
   "id": "e5967871",
   "metadata": {},
   "source": [
    "### pass\n",
    "pass is the “no-op” statement in Python. It can be used in blocks where no action is to\n",
    "be taken (or as a placeholder for code not yet implemented); it is only required\n",
    "because Python uses whitespace to delimit blocks:"
   ]
  },
  {
   "cell_type": "code",
   "execution_count": 83,
   "id": "19b217b3",
   "metadata": {
    "ExecuteTime": {
     "end_time": "2022-10-05T15:37:47.542371Z",
     "start_time": "2022-10-05T15:37:47.526457Z"
    }
   },
   "outputs": [
    {
     "name": "stdout",
     "output_type": "stream",
     "text": [
      "positive!\n"
     ]
    }
   ],
   "source": [
    "if x < 0:\n",
    "    print('negative!')\n",
    "elif x == 0:\n",
    "    pass\n",
    "else:\n",
    "    print('positive!')"
   ]
  },
  {
   "cell_type": "markdown",
   "id": "bf439eff",
   "metadata": {},
   "source": [
    "### range\n",
    "The range function returns an iterator that yields a sequence of evenly spaced\n",
    "integers:"
   ]
  },
  {
   "cell_type": "code",
   "execution_count": 84,
   "id": "da425dcb",
   "metadata": {
    "ExecuteTime": {
     "end_time": "2022-10-05T15:39:16.695387Z",
     "start_time": "2022-10-05T15:39:16.690381Z"
    }
   },
   "outputs": [
    {
     "data": {
      "text/plain": [
       "range(0, 10)"
      ]
     },
     "execution_count": 84,
     "metadata": {},
     "output_type": "execute_result"
    }
   ],
   "source": [
    "range(10)"
   ]
  },
  {
   "cell_type": "code",
   "execution_count": 85,
   "id": "3c52cdb5",
   "metadata": {
    "ExecuteTime": {
     "end_time": "2022-10-05T15:39:29.580612Z",
     "start_time": "2022-10-05T15:39:29.565734Z"
    }
   },
   "outputs": [
    {
     "data": {
      "text/plain": [
       "[0, 1, 2, 3, 4, 5, 6, 7, 8, 9]"
      ]
     },
     "execution_count": 85,
     "metadata": {},
     "output_type": "execute_result"
    }
   ],
   "source": [
    "list(range(10))"
   ]
  },
  {
   "cell_type": "markdown",
   "id": "22088e40",
   "metadata": {},
   "source": [
    "Both a start, end, and step (which may be negative) can be given:"
   ]
  },
  {
   "cell_type": "code",
   "execution_count": 87,
   "id": "c8e8c9ee",
   "metadata": {
    "ExecuteTime": {
     "end_time": "2022-10-05T15:41:11.154541Z",
     "start_time": "2022-10-05T15:41:11.149563Z"
    }
   },
   "outputs": [
    {
     "data": {
      "text/plain": [
       "[0, 2, 4, 6, 8, 10, 12, 14, 16, 18]"
      ]
     },
     "execution_count": 87,
     "metadata": {},
     "output_type": "execute_result"
    }
   ],
   "source": [
    "list(range(0, 20, 2))"
   ]
  },
  {
   "cell_type": "code",
   "execution_count": 86,
   "id": "01e949a3",
   "metadata": {
    "ExecuteTime": {
     "end_time": "2022-10-05T15:39:44.511756Z",
     "start_time": "2022-10-05T15:39:44.493695Z"
    }
   },
   "outputs": [
    {
     "data": {
      "text/plain": [
       "[5, 4, 3, 2, 1]"
      ]
     },
     "execution_count": 86,
     "metadata": {},
     "output_type": "execute_result"
    }
   ],
   "source": [
    "list(range(5, 0, -1))"
   ]
  },
  {
   "cell_type": "markdown",
   "id": "9be2deda",
   "metadata": {},
   "source": [
    "As you can see, range produces integers up to but not including the endpoint. A\n",
    "common use of range is for iterating through sequences by index:"
   ]
  },
  {
   "cell_type": "code",
   "execution_count": 90,
   "id": "9a81a081",
   "metadata": {
    "ExecuteTime": {
     "end_time": "2022-10-05T15:42:53.745515Z",
     "start_time": "2022-10-05T15:42:53.741513Z"
    }
   },
   "outputs": [],
   "source": [
    "seq = [1, 2, 3, 4]\n",
    "for i in range(len(seq)):\n",
    "    val = seq[i]"
   ]
  },
  {
   "cell_type": "markdown",
   "id": "5f2b29f1",
   "metadata": {},
   "source": [
    "While you can use functions like list to store all the integers generated by range in\n",
    "some other data structure, often the default iterator form will be what you want."
   ]
  },
  {
   "cell_type": "code",
   "execution_count": 91,
   "id": "4d94089a",
   "metadata": {
    "ExecuteTime": {
     "end_time": "2022-10-05T15:45:27.666958Z",
     "start_time": "2022-10-05T15:45:27.640938Z"
    }
   },
   "outputs": [],
   "source": [
    "sum = 0\n",
    "for i in range(100000):\n",
    "    if i % 3 == 0 or i % 5 == 0:\n",
    "        sum += i"
   ]
  },
  {
   "cell_type": "markdown",
   "id": "70618dfd",
   "metadata": {},
   "source": [
    "While the range generated can be arbitrarily large, the memory use at any given time\n",
    "may be very small.\n",
    "\n",
    "### Ternary expressions\n",
    "A ternary expression in Python allows you to combine an if-else block that pro‐\n",
    "duces a value into a single line or expression. The syntax for this in Python is:\n",
    "\n",
    "```python\n",
    "value = true-expr if condition else false-expr\n",
    "```\n",
    "\n",
    "Here, true-expr and false-expr can be any Python expressions."
   ]
  },
  {
   "cell_type": "code",
   "execution_count": 92,
   "id": "312e3c57",
   "metadata": {
    "ExecuteTime": {
     "end_time": "2022-10-05T15:50:06.901778Z",
     "start_time": "2022-10-05T15:50:06.885130Z"
    }
   },
   "outputs": [
    {
     "data": {
      "text/plain": [
       "'Non-negative'"
      ]
     },
     "execution_count": 92,
     "metadata": {},
     "output_type": "execute_result"
    }
   ],
   "source": [
    "x = 5\n",
    "'Non-negative' if x >= 0 else 'Negative'"
   ]
  },
  {
   "cell_type": "markdown",
   "id": "c42dedf2",
   "metadata": {},
   "source": [
    "As with if-else blocks, only one of the expressions will be executed. Thus, the “if”\n",
    "and “else” sides of the ternary expression could contain costly computations, but only\n",
    "the true branch is ever evaluated."
   ]
  },
  {
   "cell_type": "markdown",
   "id": "347dcfcc",
   "metadata": {},
   "source": [
    "While it may be tempting to always use ternary expressions to condense your code,\n",
    "realize that you may sacrifice readability if the condition as well as the true and false\n",
    "expressions are very complex."
   ]
  }
 ],
 "metadata": {
  "kernelspec": {
   "display_name": "Python 3 (ipykernel)",
   "language": "python",
   "name": "python3"
  },
  "language_info": {
   "codemirror_mode": {
    "name": "ipython",
    "version": 3
   },
   "file_extension": ".py",
   "mimetype": "text/x-python",
   "name": "python",
   "nbconvert_exporter": "python",
   "pygments_lexer": "ipython3",
   "version": "3.9.12"
  },
  "latex_envs": {
   "LaTeX_envs_menu_present": true,
   "autoclose": false,
   "autocomplete": true,
   "bibliofile": "biblio.bib",
   "cite_by": "apalike",
   "current_citInitial": 1,
   "eqLabelWithNumbers": true,
   "eqNumInitial": 1,
   "hotkeys": {
    "equation": "Ctrl-E",
    "itemize": "Ctrl-I"
   },
   "labels_anchors": false,
   "latex_user_defs": false,
   "report_style_numbering": false,
   "user_envs_cfg": false
  },
  "toc": {
   "base_numbering": 1,
   "nav_menu": {},
   "number_sections": true,
   "sideBar": true,
   "skip_h1_title": false,
   "title_cell": "Table of Contents",
   "title_sidebar": "Contents",
   "toc_cell": false,
   "toc_position": {},
   "toc_section_display": true,
   "toc_window_display": false
  },
  "varInspector": {
   "cols": {
    "lenName": 16,
    "lenType": 16,
    "lenVar": 40
   },
   "kernels_config": {
    "python": {
     "delete_cmd_postfix": "",
     "delete_cmd_prefix": "del ",
     "library": "var_list.py",
     "varRefreshCmd": "print(var_dic_list())"
    },
    "r": {
     "delete_cmd_postfix": ") ",
     "delete_cmd_prefix": "rm(",
     "library": "var_list.r",
     "varRefreshCmd": "cat(var_dic_list()) "
    }
   },
   "types_to_exclude": [
    "module",
    "function",
    "builtin_function_or_method",
    "instance",
    "_Feature"
   ],
   "window_display": false
  },
  "vp": {
   "vp_config_version": "1.0.0",
   "vp_menu_width": 273,
   "vp_note_display": false,
   "vp_note_width": 0,
   "vp_position": {
    "width": 278
   },
   "vp_section_display": false,
   "vp_signature": "VisualPython"
  }
 },
 "nbformat": 4,
 "nbformat_minor": 5
}
