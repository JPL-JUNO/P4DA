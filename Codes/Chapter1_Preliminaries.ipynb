{
 "cells": [
  {
   "cell_type": "markdown",
   "id": "e7be0a78",
   "metadata": {},
   "source": [
    "# What Is This Book About?"
   ]
  },
  {
   "cell_type": "markdown",
   "id": "70081429",
   "metadata": {},
   "source": [
    "This book is concerned with the nuts and bolts of manipulating, processing, cleaning,\n",
    "and crunching data in Python."
   ]
  },
  {
   "cell_type": "markdown",
   "id": "300e879c",
   "metadata": {},
   "source": [
    "## What Kinds of Data?"
   ]
  },
  {
   "cell_type": "markdown",
   "id": "e03a3e8d",
   "metadata": {},
   "source": [
    "When I say “data,” what am I referring to exactly? The primary focus is on structured\n",
    "data, a deliberately vague term that encompasses many different common forms of\n",
    "data, such as:"
   ]
  },
  {
   "cell_type": "markdown",
   "id": "aec57d4e",
   "metadata": {},
   "source": [
    "- Tabular or spreadsheet-like data in which each column may be a different type(string, numeric, date, or otherwise). This includes most kinds of data commonly stored in relational databases or tab- or comma-delimited text files.\n",
    "- Multidimensional arrays (matrices).\n",
    "- Multiple tables of data interrelated by key columns (what would be primary or foreign keys for a SQL user).\n",
    "- Evenly or unevenly spaced time series."
   ]
  },
  {
   "cell_type": "markdown",
   "id": "5a8857f7",
   "metadata": {},
   "source": [
    "# Why Python for Data Analysis?"
   ]
  },
  {
   "cell_type": "markdown",
   "id": "4ad90722",
   "metadata": {},
   "source": [
    "## Why Not Python?"
   ]
  },
  {
   "cell_type": "markdown",
   "id": "f112aebe",
   "metadata": {},
   "source": [
    "As Python is an interpreted programming language, in general most Python code will run substantially slower than code written in a compiled language like Java or C++."
   ]
  },
  {
   "cell_type": "markdown",
   "id": "62b4e5d9",
   "metadata": {},
   "source": [
    "# Essential Python Libraries\n",
    "## NumPy\n",
    "NumPy, short for Numerical Python, has long been a cornerstone of numerical com‐\n",
    "puting in Python. NumPy contains, among other things:\n",
    "- A fast and efficient multidimensional array object ndarray\n",
    "- Functions for performing element-wise computations with arrays or mathematical operations between arrays\n",
    "- Tools for reading and writing array-based datasets to disk\n",
    "- Linear algebra operations, Fourier transform, and random number generation\n",
    "- A mature C API to enable Python extensions and native C or C++ code to access NumPy’s data structures and computational facilities\n",
    "\n",
    "## pandas\n",
    "pandas provides high-level data structures and functions designed to make working\n",
    "with structured or tabular data fast, easy, and expressive.\n",
    "\n",
    "The pandas name itself is derived from panel data, an econometrics term for multidimensional structured datasets, and a play on the phrase Python data analysis itself.\n",
    "\n",
    "## matplotlib\n",
    "matplotlib is the most popular Python library for producing plots and other two-dimensional data visualizations. \n",
    "\n",
    "## IPython and Jupyter\n",
    "The IPython project began in 2001 as Fernando Pérez’s side project to make a better\n",
    "interactive Python interpreter. It encourages an execute-explore workflow instead of the typical edit-compile-run workflow of many other programming languages. Since much of data analysis coding involves exploration, trial and error, and iteration, IPython can help you get the job done faster.\n",
    "\n",
    "In 2014, Fernando and the IPython team announced the Jupyter project, a broader\n",
    "initiative to design language-agnostic interactive computing tools. The IPython web\n",
    "notebook became the Jupyter notebook, with support now for over 40 programming\n",
    "languages.\n",
    "\n",
    "## SciPy\n",
    "SciPy is a collection of packages addressing a number of foundational problems\n",
    "in scientific computing. Here is a sampling of the packages included:\n",
    "- scipy.integrate： Numerical integration routines and differential equation solvers\n",
    "- scipy.linalg： Linear algebra routines and matrix decompositions extending beyond those provided in numpy.linalg\n",
    "- scipy.optimize： Function optimizers (minimizers) and root finding algorithms \n",
    "- scipy.signal： Signal processing tools\n",
    "- scipy.sparse： Sparse matrices and sparse linear system solvers\n",
    "- scipy.special： Wrapper around SPECFUN, a Fortran library implementing many common mathematical functions, such as the gamma function\n",
    "- scipy.stats： Standard continuous and discrete probability distributions (density functions, samplers, continuous distribution functions), various statistical tests, and more descriptive statistics\n",
    "\n",
    "## scikit-learn\n",
    "Since the project’s inception in 2010, scikit-learn has become the premier general-purpose machine learning toolkit for Python programmers. It includes submodules for such models as:\n",
    "- Classification: SVM, nearest neighbors, random forest, logistic regression, etc.\n",
    "- Regression: Lasso, ridge regression, etc.\n",
    "- Clustering: k-means, spectral clustering, etc.\n",
    "- Dimensionality reduction: PCA, feature selection, matrix factorization, etc.\n",
    "- Model selection: Grid search, cross-validation, metrics\n",
    "- Preprocessing: Feature extraction, normalization\n",
    "\n",
    "## statsmodels\n",
    "statsmodels is a statistical analysis package that was seeded by work from Stanford\n",
    "University statistics professor Jonathan Taylor, who implemented a number of regression analysis models popular in the R programming language.\n",
    "Compared with scikit-learn, statsmodels contains algorithms for classical (primarily\n",
    "frequentist) statistics and econometrics. This includes such submodules as:\n",
    "- Regression models: Linear regression, generalized linear models, robust linear models, linear mixed effects models, etc.\n",
    "- Analysis of variance (ANOVA)\n",
    "- Time series analysis: AR, ARMA, ARIMA, VAR, and other models\n",
    "- Nonparametric methods: Kernel density estimation, kernel regression\n",
    "- Visualization of statistical model results\n",
    "\n",
    "statsmodels is more focused on statistical inference, providing uncertainty estimates\n",
    "and p-values for parameters. scikit-learn, by contrast, is more prediction-focused."
   ]
  },
  {
   "cell_type": "markdown",
   "id": "76a02589",
   "metadata": {},
   "source": [
    "# Navigating This Book\n",
    "## Import Conventions\n",
    "It’s considered bad practice in Python software develop‐\n",
    "ment to import everything (from numpy import *) from a large package like NumPy.\n",
    "\n",
    "## Jargon\n",
    "I’ll use some terms common both to programming and data science that you may not\n",
    "be familiar with. Thus, here are some brief definitions:\n",
    "\n",
    "- *Munge/munging/wrangling*： Describes the overall process of manipulating unstructured and/or messy data into a structured or clean form. The word has snuck its way into the jargon of many modern-day data hackers. “Munge” rhymes with “grunge.”\n",
    "- *Pseudocode*： A description of an algorithm or process that takes a code-like form while likely not being actual valid source code.\n",
    "- *Syntactic sugar*： Programming syntax that does not add new features, but makes something more convenient or easier to type."
   ]
  },
  {
   "cell_type": "code",
   "execution_count": null,
   "id": "f3a1531b",
   "metadata": {},
   "outputs": [],
   "source": []
  }
 ],
 "metadata": {
  "kernelspec": {
   "display_name": "Python 3 (ipykernel)",
   "language": "python",
   "name": "python3"
  },
  "language_info": {
   "codemirror_mode": {
    "name": "ipython",
    "version": 3
   },
   "file_extension": ".py",
   "mimetype": "text/x-python",
   "name": "python",
   "nbconvert_exporter": "python",
   "pygments_lexer": "ipython3",
   "version": "3.9.12"
  },
  "latex_envs": {
   "LaTeX_envs_menu_present": true,
   "autoclose": false,
   "autocomplete": true,
   "bibliofile": "biblio.bib",
   "cite_by": "apalike",
   "current_citInitial": 1,
   "eqLabelWithNumbers": true,
   "eqNumInitial": 1,
   "hotkeys": {
    "equation": "Ctrl-E",
    "itemize": "Ctrl-I"
   },
   "labels_anchors": false,
   "latex_user_defs": false,
   "report_style_numbering": false,
   "user_envs_cfg": false
  },
  "toc": {
   "base_numbering": 1,
   "nav_menu": {},
   "number_sections": true,
   "sideBar": true,
   "skip_h1_title": false,
   "title_cell": "Table of Contents",
   "title_sidebar": "Contents",
   "toc_cell": false,
   "toc_position": {},
   "toc_section_display": true,
   "toc_window_display": false
  },
  "varInspector": {
   "cols": {
    "lenName": 16,
    "lenType": 16,
    "lenVar": 40
   },
   "kernels_config": {
    "python": {
     "delete_cmd_postfix": "",
     "delete_cmd_prefix": "del ",
     "library": "var_list.py",
     "varRefreshCmd": "print(var_dic_list())"
    },
    "r": {
     "delete_cmd_postfix": ") ",
     "delete_cmd_prefix": "rm(",
     "library": "var_list.r",
     "varRefreshCmd": "cat(var_dic_list()) "
    }
   },
   "types_to_exclude": [
    "module",
    "function",
    "builtin_function_or_method",
    "instance",
    "_Feature"
   ],
   "window_display": false
  },
  "vp": {
   "vp_config_version": "1.0.0",
   "vp_menu_width": 273,
   "vp_note_display": false,
   "vp_note_width": 0,
   "vp_position": {
    "width": 278
   },
   "vp_section_display": false,
   "vp_signature": "VisualPython"
  }
 },
 "nbformat": 4,
 "nbformat_minor": 5
}
