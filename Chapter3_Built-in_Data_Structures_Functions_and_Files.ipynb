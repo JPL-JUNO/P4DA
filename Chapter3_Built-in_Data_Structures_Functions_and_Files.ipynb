{
 "cells": [
  {
   "cell_type": "markdown",
   "id": "54d89a67",
   "metadata": {},
   "source": [
    "This chapter discusses capabilities built into the Python language that will be used\n",
    "ubiquitously throughout the book.\n",
    "\n",
    "We’ll start with Python’s workhorse data structures: tuples, lists, dicts, and sets. Then,\n",
    "we’ll discuss creating your own reusable Python functions. Finally, we’ll look at the\n",
    "mechanics of Python file objects and interacting with your local hard drive."
   ]
  },
  {
   "cell_type": "markdown",
   "id": "eee86fa4",
   "metadata": {
    "heading_collapsed": true
   },
   "source": [
    "# Data Structures and Sequences"
   ]
  },
  {
   "cell_type": "markdown",
   "id": "36dbe395",
   "metadata": {
    "heading_collapsed": true,
    "hidden": true
   },
   "source": [
    "## Tuple\n",
    "A tuple is a fixed-length, immutable sequence of Python objects. The easiest way to\n",
    "create one is with a comma-separated sequence of values:"
   ]
  },
  {
   "cell_type": "code",
   "execution_count": 1,
   "id": "4c1092e5",
   "metadata": {
    "ExecuteTime": {
     "end_time": "2022-10-06T05:30:24.559546Z",
     "start_time": "2022-10-06T05:30:24.530362Z"
    },
    "hidden": true
   },
   "outputs": [
    {
     "data": {
      "text/plain": [
       "(4, 5, 6)"
      ]
     },
     "execution_count": 1,
     "metadata": {},
     "output_type": "execute_result"
    }
   ],
   "source": [
    "tup = 4, 5, 6\n",
    "tup"
   ]
  },
  {
   "cell_type": "markdown",
   "id": "7776f247",
   "metadata": {
    "hidden": true
   },
   "source": [
    "When you’re defining tuples in more complicated expressions, it’s often necessary to\n",
    "enclose the values in parentheses."
   ]
  },
  {
   "cell_type": "code",
   "execution_count": 3,
   "id": "66eef9a4",
   "metadata": {
    "ExecuteTime": {
     "end_time": "2022-10-06T05:31:28.418761Z",
     "start_time": "2022-10-06T05:31:28.399646Z"
    },
    "hidden": true
   },
   "outputs": [
    {
     "data": {
      "text/plain": [
       "((4, 5, 6), (7, 8))"
      ]
     },
     "execution_count": 3,
     "metadata": {},
     "output_type": "execute_result"
    }
   ],
   "source": [
    "nested_tup = (4, 5, 6), (7, 8)\n",
    "nested_tup"
   ]
  },
  {
   "cell_type": "markdown",
   "id": "b75a2fc3",
   "metadata": {
    "hidden": true
   },
   "source": [
    "You can convert any sequence or iterator to a tuple by invoking tuple:"
   ]
  },
  {
   "cell_type": "code",
   "execution_count": 4,
   "id": "c231f1c5",
   "metadata": {
    "ExecuteTime": {
     "end_time": "2022-10-06T05:32:29.160199Z",
     "start_time": "2022-10-06T05:32:29.150656Z"
    },
    "hidden": true
   },
   "outputs": [
    {
     "data": {
      "text/plain": [
       "(1, 2, 3)"
      ]
     },
     "execution_count": 4,
     "metadata": {},
     "output_type": "execute_result"
    }
   ],
   "source": [
    "tuple([1, 2, 3])"
   ]
  },
  {
   "cell_type": "code",
   "execution_count": 5,
   "id": "3b2c8621",
   "metadata": {
    "ExecuteTime": {
     "end_time": "2022-10-06T05:32:51.751410Z",
     "start_time": "2022-10-06T05:32:51.732246Z"
    },
    "hidden": true
   },
   "outputs": [
    {
     "data": {
      "text/plain": [
       "('s', 't', 'r', 'i', 'n', 'g')"
      ]
     },
     "execution_count": 5,
     "metadata": {},
     "output_type": "execute_result"
    }
   ],
   "source": [
    "tup = tuple('string')\n",
    "tup"
   ]
  },
  {
   "cell_type": "markdown",
   "id": "f5df5bff",
   "metadata": {
    "hidden": true
   },
   "source": [
    "Elements can be accessed with square brackets [] as with most other sequence types.\n",
    "As in C, C++, Java, and many other languages, sequences are 0-indexed in Python:"
   ]
  },
  {
   "cell_type": "code",
   "execution_count": 7,
   "id": "24603036",
   "metadata": {
    "ExecuteTime": {
     "end_time": "2022-10-06T05:36:05.404593Z",
     "start_time": "2022-10-06T05:36:05.398922Z"
    },
    "hidden": true
   },
   "outputs": [
    {
     "data": {
      "text/plain": [
       "'s'"
      ]
     },
     "execution_count": 7,
     "metadata": {},
     "output_type": "execute_result"
    }
   ],
   "source": [
    "tup[0]"
   ]
  },
  {
   "cell_type": "markdown",
   "id": "62388583",
   "metadata": {
    "hidden": true
   },
   "source": [
    "While the objects stored in a tuple may be mutable themselves, once the tuple is cre‐\n",
    "ated it’s not possible to modify which object is stored in each slot:"
   ]
  },
  {
   "cell_type": "code",
   "execution_count": 12,
   "id": "8ead159e",
   "metadata": {
    "ExecuteTime": {
     "end_time": "2022-10-06T05:39:44.711407Z",
     "start_time": "2022-10-06T05:39:44.686638Z"
    },
    "hidden": true
   },
   "outputs": [
    {
     "ename": "TypeError",
     "evalue": "'tuple' object does not support item assignment",
     "output_type": "error",
     "traceback": [
      "\u001b[1;31m---------------------------------------------------------------------------\u001b[0m",
      "\u001b[1;31mTypeError\u001b[0m                                 Traceback (most recent call last)",
      "Input \u001b[1;32mIn [12]\u001b[0m, in \u001b[0;36m<cell line: 2>\u001b[1;34m()\u001b[0m\n\u001b[0;32m      1\u001b[0m tup \u001b[38;5;241m=\u001b[39m \u001b[38;5;28mtuple\u001b[39m([\u001b[38;5;124m'\u001b[39m\u001b[38;5;124mfoo\u001b[39m\u001b[38;5;124m'\u001b[39m, [\u001b[38;5;241m1\u001b[39m, \u001b[38;5;241m2\u001b[39m], \u001b[38;5;28;01mTrue\u001b[39;00m])\n\u001b[1;32m----> 2\u001b[0m tup[\u001b[38;5;241m2\u001b[39m] \u001b[38;5;241m=\u001b[39m \u001b[38;5;28;01mFalse\u001b[39;00m\n",
      "\u001b[1;31mTypeError\u001b[0m: 'tuple' object does not support item assignment"
     ]
    }
   ],
   "source": [
    "tup = tuple(['foo', [1, 2], True])\n",
    "tup[2] = False"
   ]
  },
  {
   "cell_type": "markdown",
   "id": "b9eebc51",
   "metadata": {
    "hidden": true
   },
   "source": [
    "If an object inside a tuple is mutable, such as a list, you can modify it in-place:"
   ]
  },
  {
   "cell_type": "code",
   "execution_count": 13,
   "id": "37732784",
   "metadata": {
    "ExecuteTime": {
     "end_time": "2022-10-06T05:39:46.432536Z",
     "start_time": "2022-10-06T05:39:46.420471Z"
    },
    "hidden": true
   },
   "outputs": [
    {
     "data": {
      "text/plain": [
       "('foo', [1, 2, 3], True)"
      ]
     },
     "execution_count": 13,
     "metadata": {},
     "output_type": "execute_result"
    }
   ],
   "source": [
    "tup[1].append(3)\n",
    "tup"
   ]
  },
  {
   "cell_type": "markdown",
   "id": "34297f4e",
   "metadata": {
    "hidden": true
   },
   "source": [
    "You can concatenate tuples using the + operator to produce longer tuples:"
   ]
  },
  {
   "cell_type": "code",
   "execution_count": 14,
   "id": "d5f4e55b",
   "metadata": {
    "ExecuteTime": {
     "end_time": "2022-10-06T05:40:33.463991Z",
     "start_time": "2022-10-06T05:40:33.455946Z"
    },
    "hidden": true
   },
   "outputs": [
    {
     "data": {
      "text/plain": [
       "(4, None, 'foo', 6, 0, 'bar')"
      ]
     },
     "execution_count": 14,
     "metadata": {},
     "output_type": "execute_result"
    }
   ],
   "source": [
    "(4, None, 'foo') + (6, 0) + ('bar', )"
   ]
  },
  {
   "cell_type": "markdown",
   "id": "0bbdf644",
   "metadata": {
    "hidden": true
   },
   "source": [
    "Multiplying a tuple by an integer, as with lists, has the effect of concatenating together\n",
    "that many copies of the tuple:"
   ]
  },
  {
   "cell_type": "code",
   "execution_count": 16,
   "id": "96fc1a7f",
   "metadata": {
    "ExecuteTime": {
     "end_time": "2022-10-06T05:41:34.793072Z",
     "start_time": "2022-10-06T05:41:34.779641Z"
    },
    "hidden": true
   },
   "outputs": [
    {
     "data": {
      "text/plain": [
       "('foo', 'bar', 'foo', 'bar', 'foo', 'bar', 'foo', 'bar')"
      ]
     },
     "execution_count": 16,
     "metadata": {},
     "output_type": "execute_result"
    }
   ],
   "source": [
    "('foo', 'bar') * 4"
   ]
  },
  {
   "cell_type": "markdown",
   "id": "dc7edf9f",
   "metadata": {
    "hidden": true
   },
   "source": [
    "**Note that the objects themselves are not copied, only the references to them.**"
   ]
  },
  {
   "cell_type": "code",
   "execution_count": 29,
   "id": "db4ea056",
   "metadata": {
    "ExecuteTime": {
     "end_time": "2022-10-06T05:44:05.513106Z",
     "start_time": "2022-10-06T05:44:05.501570Z"
    },
    "hidden": true
   },
   "outputs": [
    {
     "name": "stdout",
     "output_type": "stream",
     "text": [
      "(4, [1, 2], 4, [1, 2])\n",
      "(4, [1, 7], 4, [1, 7])\n"
     ]
    }
   ],
   "source": [
    "a = (4, [1, 2])\n",
    "b = a * 2\n",
    "print(b)\n",
    "a[1][1] = 7\n",
    "print(b)"
   ]
  },
  {
   "cell_type": "markdown",
   "id": "eb7c955f",
   "metadata": {
    "hidden": true
   },
   "source": [
    "### Unpacking tuples\n",
    "If you try to assign to a tuple-like expression of variables, Python will attempt to\n",
    "unpack the value on the righthand side of the equals sign:"
   ]
  },
  {
   "cell_type": "code",
   "execution_count": 31,
   "id": "8b3bc697",
   "metadata": {
    "ExecuteTime": {
     "end_time": "2022-10-06T05:45:27.603211Z",
     "start_time": "2022-10-06T05:45:27.594693Z"
    },
    "hidden": true
   },
   "outputs": [
    {
     "data": {
      "text/plain": [
       "7"
      ]
     },
     "execution_count": 31,
     "metadata": {},
     "output_type": "execute_result"
    }
   ],
   "source": [
    "tup = (5, 7, 9)\n",
    "a, b, c = tup\n",
    "b"
   ]
  },
  {
   "cell_type": "markdown",
   "id": "2891e6c1",
   "metadata": {
    "hidden": true
   },
   "source": [
    "Even sequences with nested tuples can be unpacked:"
   ]
  },
  {
   "cell_type": "code",
   "execution_count": 32,
   "id": "6daaee30",
   "metadata": {
    "ExecuteTime": {
     "end_time": "2022-10-06T05:46:29.723175Z",
     "start_time": "2022-10-06T05:46:29.710168Z"
    },
    "hidden": true
   },
   "outputs": [
    {
     "data": {
      "text/plain": [
       "5"
      ]
     },
     "execution_count": 32,
     "metadata": {},
     "output_type": "execute_result"
    }
   ],
   "source": [
    "tup = 4, 5, (6, 7)\n",
    "a, b, (c, d) = tup\n",
    "b"
   ]
  },
  {
   "cell_type": "markdown",
   "id": "da1064fe",
   "metadata": {
    "hidden": true
   },
   "source": [
    "Using this functionality you can easily swap variable names."
   ]
  },
  {
   "cell_type": "code",
   "execution_count": 33,
   "id": "ab4a5cf8",
   "metadata": {
    "ExecuteTime": {
     "end_time": "2022-10-06T05:47:28.860341Z",
     "start_time": "2022-10-06T05:47:28.851078Z"
    },
    "hidden": true
   },
   "outputs": [],
   "source": [
    "a, b = 1, 2"
   ]
  },
  {
   "cell_type": "code",
   "execution_count": 34,
   "id": "bde1cd43",
   "metadata": {
    "ExecuteTime": {
     "end_time": "2022-10-06T05:47:36.587370Z",
     "start_time": "2022-10-06T05:47:36.577412Z"
    },
    "hidden": true
   },
   "outputs": [],
   "source": [
    "b, a = a, b"
   ]
  },
  {
   "cell_type": "markdown",
   "id": "7682a9fc",
   "metadata": {
    "hidden": true
   },
   "source": [
    "**A common use of variable unpacking is iterating over sequences of tuples or lists:**"
   ]
  },
  {
   "cell_type": "code",
   "execution_count": 35,
   "id": "df752ae2",
   "metadata": {
    "ExecuteTime": {
     "end_time": "2022-10-06T05:54:39.050805Z",
     "start_time": "2022-10-06T05:54:39.036860Z"
    },
    "hidden": true
   },
   "outputs": [
    {
     "name": "stdout",
     "output_type": "stream",
     "text": [
      "a=1, b=2, c=3\n",
      "a=4, b=5, c=6\n",
      "a=7, b=8, c=9\n"
     ]
    }
   ],
   "source": [
    "seq = [(1, 2, 3), (4, 5, 6), (7, 8, 9)]\n",
    "for a, b, c in seq:\n",
    "    print('a={}, b={}, c={}'.format(a, b, c))"
   ]
  },
  {
   "cell_type": "markdown",
   "id": "0deffa54",
   "metadata": {
    "hidden": true
   },
   "source": [
    "Another common use is returning multiple values from a function.\n",
    "\n",
    "The Python language recently acquired some more advanced tuple unpacking to help\n",
    "with situations where you may want to “pluck” a few elements from the beginning of\n",
    "a tuple. This uses the special syntax *rest, which is also used in function signatures\n",
    "to capture an arbitrarily long list of positional arguments:"
   ]
  },
  {
   "cell_type": "code",
   "execution_count": 38,
   "id": "b3bc1d40",
   "metadata": {
    "ExecuteTime": {
     "end_time": "2022-10-06T06:05:54.770259Z",
     "start_time": "2022-10-06T06:05:54.760182Z"
    },
    "hidden": true
   },
   "outputs": [
    {
     "data": {
      "text/plain": [
       "(1, 2)"
      ]
     },
     "execution_count": 38,
     "metadata": {},
     "output_type": "execute_result"
    }
   ],
   "source": [
    "values = 1, 2, 3, 4, 5, 6\n",
    "a, b, *rest = values\n",
    "a, b"
   ]
  },
  {
   "cell_type": "code",
   "execution_count": 39,
   "id": "0947982c",
   "metadata": {
    "ExecuteTime": {
     "end_time": "2022-10-06T06:06:00.002415Z",
     "start_time": "2022-10-06T06:05:59.993379Z"
    },
    "hidden": true
   },
   "outputs": [
    {
     "data": {
      "text/plain": [
       "[3, 4, 5, 6]"
      ]
     },
     "execution_count": 39,
     "metadata": {},
     "output_type": "execute_result"
    }
   ],
   "source": [
    "rest"
   ]
  },
  {
   "cell_type": "markdown",
   "id": "db126e5a",
   "metadata": {
    "hidden": true
   },
   "source": [
    "This rest bit is sometimes something you want to discard; there is nothing special\n",
    "about the rest name. As a matter of convention, many Python programmers will use\n",
    "the underscore (_) for unwanted variables:"
   ]
  },
  {
   "cell_type": "code",
   "execution_count": 40,
   "id": "dd5381da",
   "metadata": {
    "ExecuteTime": {
     "end_time": "2022-10-06T06:08:00.236685Z",
     "start_time": "2022-10-06T06:08:00.224687Z"
    },
    "hidden": true
   },
   "outputs": [],
   "source": [
    "a, b, *_ = values"
   ]
  },
  {
   "cell_type": "markdown",
   "id": "6252c283",
   "metadata": {
    "hidden": true
   },
   "source": [
    "### Tuple methods\n",
    "Since the size and contents of a tuple cannot be modified, it is very light on instance\n",
    "methods. A particularly useful one (also available on lists) is count, which counts the\n",
    "number of occurrences of a value:"
   ]
  },
  {
   "cell_type": "code",
   "execution_count": 43,
   "id": "dae028c1",
   "metadata": {
    "ExecuteTime": {
     "end_time": "2022-10-06T06:10:34.833679Z",
     "start_time": "2022-10-06T06:10:34.822675Z"
    },
    "hidden": true
   },
   "outputs": [
    {
     "data": {
      "text/plain": [
       "4"
      ]
     },
     "execution_count": 43,
     "metadata": {},
     "output_type": "execute_result"
    }
   ],
   "source": [
    "a = (1, 7, 7, 7, 3, 4, 7)\n",
    "a.count(7)"
   ]
  },
  {
   "cell_type": "markdown",
   "id": "3fc727bc",
   "metadata": {
    "heading_collapsed": true,
    "hidden": true
   },
   "source": [
    "## List\n",
    "In contrast with tuples, lists are variable-length and their contents can be modified\n",
    "in-place. You can define them using square brackets [] or using the list type func‐\n",
    "tion:"
   ]
  },
  {
   "cell_type": "code",
   "execution_count": 45,
   "id": "cad4991e",
   "metadata": {
    "ExecuteTime": {
     "end_time": "2022-10-06T06:13:38.263963Z",
     "start_time": "2022-10-06T06:13:38.246243Z"
    },
    "hidden": true
   },
   "outputs": [
    {
     "data": {
      "text/plain": [
       "['foo', 'bar', 'baz']"
      ]
     },
     "execution_count": 45,
     "metadata": {},
     "output_type": "execute_result"
    }
   ],
   "source": [
    "a_list = [2, 3, 7, None]\n",
    "tup = ('foo', 'bar', 'baz')\n",
    "b_list = list(tup)\n",
    "b_list"
   ]
  },
  {
   "cell_type": "code",
   "execution_count": 47,
   "id": "1bbf1980",
   "metadata": {
    "ExecuteTime": {
     "end_time": "2022-10-06T06:14:20.327299Z",
     "start_time": "2022-10-06T06:14:20.306297Z"
    },
    "hidden": true
   },
   "outputs": [
    {
     "data": {
      "text/plain": [
       "['foo', 'peekaboo', 'baz']"
      ]
     },
     "execution_count": 47,
     "metadata": {},
     "output_type": "execute_result"
    }
   ],
   "source": [
    "b_list[1] = 'peekaboo'\n",
    "b_list"
   ]
  },
  {
   "cell_type": "markdown",
   "id": "97479cc3",
   "metadata": {
    "hidden": true
   },
   "source": [
    "The list function is frequently used in data processing **as a way to materialize an\n",
    "iterator or generator expression:**"
   ]
  },
  {
   "cell_type": "code",
   "execution_count": 48,
   "id": "0857acbd",
   "metadata": {
    "ExecuteTime": {
     "end_time": "2022-10-06T06:18:38.869677Z",
     "start_time": "2022-10-06T06:18:38.858063Z"
    },
    "hidden": true
   },
   "outputs": [
    {
     "data": {
      "text/plain": [
       "range(0, 10)"
      ]
     },
     "execution_count": 48,
     "metadata": {},
     "output_type": "execute_result"
    }
   ],
   "source": [
    "gen = range(10)\n",
    "gen"
   ]
  },
  {
   "cell_type": "code",
   "execution_count": 49,
   "id": "1822ebe5",
   "metadata": {
    "ExecuteTime": {
     "end_time": "2022-10-06T06:18:45.586958Z",
     "start_time": "2022-10-06T06:18:45.569420Z"
    },
    "hidden": true
   },
   "outputs": [
    {
     "data": {
      "text/plain": [
       "[0, 1, 2, 3, 4, 5, 6, 7, 8, 9]"
      ]
     },
     "execution_count": 49,
     "metadata": {},
     "output_type": "execute_result"
    }
   ],
   "source": [
    "list(gen)"
   ]
  },
  {
   "cell_type": "markdown",
   "id": "abc53e5a",
   "metadata": {
    "hidden": true
   },
   "source": [
    "### Adding and removing elements\n",
    "Elements can be appended to the end of the list with the append method:"
   ]
  },
  {
   "cell_type": "code",
   "execution_count": 50,
   "id": "c225f988",
   "metadata": {
    "ExecuteTime": {
     "end_time": "2022-10-06T06:21:08.950912Z",
     "start_time": "2022-10-06T06:21:08.936898Z"
    },
    "hidden": true
   },
   "outputs": [
    {
     "data": {
      "text/plain": [
       "['foo', 'peekaboo', 'baz', 'dwarf']"
      ]
     },
     "execution_count": 50,
     "metadata": {},
     "output_type": "execute_result"
    }
   ],
   "source": [
    "b_list.append('dwarf')\n",
    "b_list"
   ]
  },
  {
   "cell_type": "markdown",
   "id": "2128e6f4",
   "metadata": {
    "hidden": true
   },
   "source": [
    "Using insert you can insert an element at a specific location in the list:"
   ]
  },
  {
   "cell_type": "code",
   "execution_count": 51,
   "id": "e82ce21d",
   "metadata": {
    "ExecuteTime": {
     "end_time": "2022-10-06T06:24:47.637185Z",
     "start_time": "2022-10-06T06:24:47.623262Z"
    },
    "hidden": true
   },
   "outputs": [],
   "source": [
    "b_list.insert(2, 'red')"
   ]
  },
  {
   "cell_type": "markdown",
   "id": "ddc1f07d",
   "metadata": {
    "hidden": true
   },
   "source": [
    "The insertion index must be between 0 and the length of the list, inclusive.\n",
    "\n",
    "insert is computationally expensive compared with append, because references to subsequent elements have to be shifted internally to make room for the new element. If you need to insert elements at both the beginning and end of a sequence, you may wish to explore collections.deque, a double-ended queue, for this purpose.\n",
    "\n",
    "The inverse operation to insert is pop, which removes and returns an element at a\n",
    "particular index:"
   ]
  },
  {
   "cell_type": "code",
   "execution_count": 52,
   "id": "01e12a25",
   "metadata": {
    "ExecuteTime": {
     "end_time": "2022-10-06T06:39:13.969291Z",
     "start_time": "2022-10-06T06:39:13.962774Z"
    },
    "hidden": true
   },
   "outputs": [
    {
     "data": {
      "text/plain": [
       "'red'"
      ]
     },
     "execution_count": 52,
     "metadata": {},
     "output_type": "execute_result"
    }
   ],
   "source": [
    "b_list.pop(2)"
   ]
  },
  {
   "cell_type": "code",
   "execution_count": 53,
   "id": "d2f4aaa4",
   "metadata": {
    "ExecuteTime": {
     "end_time": "2022-10-06T06:39:21.900358Z",
     "start_time": "2022-10-06T06:39:21.890861Z"
    },
    "hidden": true
   },
   "outputs": [
    {
     "data": {
      "text/plain": [
       "['foo', 'peekaboo', 'baz', 'dwarf']"
      ]
     },
     "execution_count": 53,
     "metadata": {},
     "output_type": "execute_result"
    }
   ],
   "source": [
    "b_list"
   ]
  },
  {
   "cell_type": "markdown",
   "id": "4327482d",
   "metadata": {
    "hidden": true
   },
   "source": [
    "Elements can be removed by value with remove, which locates the first such value and\n",
    "removes it from the last:"
   ]
  },
  {
   "cell_type": "code",
   "execution_count": 54,
   "id": "ad96fd01",
   "metadata": {
    "ExecuteTime": {
     "end_time": "2022-10-06T06:40:57.531542Z",
     "start_time": "2022-10-06T06:40:57.513535Z"
    },
    "hidden": true
   },
   "outputs": [
    {
     "data": {
      "text/plain": [
       "['foo', 'peekaboo', 'baz', 'dwarf', 'foo']"
      ]
     },
     "execution_count": 54,
     "metadata": {},
     "output_type": "execute_result"
    }
   ],
   "source": [
    "b_list.append('foo')\n",
    "b_list"
   ]
  },
  {
   "cell_type": "code",
   "execution_count": 55,
   "id": "d8da0619",
   "metadata": {
    "ExecuteTime": {
     "end_time": "2022-10-06T06:41:11.538921Z",
     "start_time": "2022-10-06T06:41:11.528883Z"
    },
    "hidden": true
   },
   "outputs": [
    {
     "data": {
      "text/plain": [
       "['peekaboo', 'baz', 'dwarf', 'foo']"
      ]
     },
     "execution_count": 55,
     "metadata": {},
     "output_type": "execute_result"
    }
   ],
   "source": [
    "b_list.remove('foo')\n",
    "b_list"
   ]
  },
  {
   "cell_type": "markdown",
   "id": "63436aba",
   "metadata": {
    "hidden": true
   },
   "source": [
    "If performance is not a concern, by using append and remove, you can use a Python\n",
    "list as a perfectly suitable “multiset” data structure.\n",
    "\n",
    "Check if a list contains a value using the ```in``` keyword:"
   ]
  },
  {
   "cell_type": "code",
   "execution_count": 56,
   "id": "d858937d",
   "metadata": {
    "ExecuteTime": {
     "end_time": "2022-10-06T06:42:35.093197Z",
     "start_time": "2022-10-06T06:42:35.084024Z"
    },
    "hidden": true
   },
   "outputs": [
    {
     "data": {
      "text/plain": [
       "True"
      ]
     },
     "execution_count": 56,
     "metadata": {},
     "output_type": "execute_result"
    }
   ],
   "source": [
    "'dwarf' in b_list"
   ]
  },
  {
   "cell_type": "markdown",
   "id": "015d9ec7",
   "metadata": {
    "hidden": true
   },
   "source": [
    "The keyword not can be used to negate in:"
   ]
  },
  {
   "cell_type": "code",
   "execution_count": 57,
   "id": "69ac847d",
   "metadata": {
    "ExecuteTime": {
     "end_time": "2022-10-06T06:43:11.716466Z",
     "start_time": "2022-10-06T06:43:11.710427Z"
    },
    "hidden": true
   },
   "outputs": [
    {
     "data": {
      "text/plain": [
       "False"
      ]
     },
     "execution_count": 57,
     "metadata": {},
     "output_type": "execute_result"
    }
   ],
   "source": [
    "'dwarf' not in b_list"
   ]
  },
  {
   "cell_type": "markdown",
   "id": "dabe0bfc",
   "metadata": {
    "hidden": true
   },
   "source": [
    "Checking whether a list contains a value is a lot slower than doing so with dicts and\n",
    "sets, as Python makes a linear scan across the values of the list, whereas it can check the others (based on hash tables) in constant time.\n",
    "\n",
    "### Concatenating and combining lists\n",
    "Similar to tuples, adding two lists together with + concatenates them:"
   ]
  },
  {
   "cell_type": "code",
   "execution_count": 58,
   "id": "027ede43",
   "metadata": {
    "ExecuteTime": {
     "end_time": "2022-10-06T07:28:48.837049Z",
     "start_time": "2022-10-06T07:28:48.823880Z"
    },
    "hidden": true
   },
   "outputs": [
    {
     "data": {
      "text/plain": [
       "[4, None, 'foo', 7, 8, (2, 3)]"
      ]
     },
     "execution_count": 58,
     "metadata": {},
     "output_type": "execute_result"
    }
   ],
   "source": [
    "[4, None, 'foo'] + [7, 8, (2, 3)]"
   ]
  },
  {
   "cell_type": "markdown",
   "id": "5a68496f",
   "metadata": {
    "hidden": true
   },
   "source": [
    "If you have a list already defined, you can append multiple elements to it using the\n",
    "extend method:"
   ]
  },
  {
   "cell_type": "code",
   "execution_count": 60,
   "id": "cbd648df",
   "metadata": {
    "ExecuteTime": {
     "end_time": "2022-10-06T07:29:57.457367Z",
     "start_time": "2022-10-06T07:29:57.444017Z"
    },
    "hidden": true
   },
   "outputs": [
    {
     "data": {
      "text/plain": [
       "[4, None, 'foo', 7, 8, (2, 3)]"
      ]
     },
     "execution_count": 60,
     "metadata": {},
     "output_type": "execute_result"
    }
   ],
   "source": [
    "x = [4, None, 'foo']\n",
    "x.extend([7, 8, (2, 3)])\n",
    "x"
   ]
  },
  {
   "cell_type": "markdown",
   "id": "a3f767f7",
   "metadata": {
    "hidden": true
   },
   "source": [
    "**Note that list concatenation by addition is a comparatively expensive operation since\n",
    "a new list must be created and the objects copied over. Using extend to append elements to an existing list, especially if you are building up a large list, is usually preferable.**\n",
    "\n",
    "### Sorting\n",
    "You can sort a list in-place (without creating a new object) by calling its sort\n",
    "function:"
   ]
  },
  {
   "cell_type": "code",
   "execution_count": 61,
   "id": "ccfbfc1c",
   "metadata": {
    "ExecuteTime": {
     "end_time": "2022-10-06T07:32:14.453871Z",
     "start_time": "2022-10-06T07:32:14.444351Z"
    },
    "hidden": true
   },
   "outputs": [
    {
     "data": {
      "text/plain": [
       "[7, 2, 5, 3, 1]"
      ]
     },
     "execution_count": 61,
     "metadata": {},
     "output_type": "execute_result"
    }
   ],
   "source": [
    "a = [7, 2, 5, 3, 1]\n",
    "a.sort\n",
    "a"
   ]
  },
  {
   "cell_type": "markdown",
   "id": "f54dba1f",
   "metadata": {
    "hidden": true
   },
   "source": [
    "```sort``` has a few options that will occasionally come in handy. One is the ability to pass a secondary sort key—that is, a function that produces a value to use to sort the\n",
    "objects."
   ]
  },
  {
   "cell_type": "code",
   "execution_count": 62,
   "id": "028894d4",
   "metadata": {
    "ExecuteTime": {
     "end_time": "2022-10-06T07:35:49.914170Z",
     "start_time": "2022-10-06T07:35:49.895471Z"
    },
    "hidden": true
   },
   "outputs": [
    {
     "data": {
      "text/plain": [
       "['He', 'saw', 'six', 'small', 'foxes']"
      ]
     },
     "execution_count": 62,
     "metadata": {},
     "output_type": "execute_result"
    }
   ],
   "source": [
    "b = ['saw', 'small', 'He', 'foxes', 'six']\n",
    "b.sort(key=len)\n",
    "b"
   ]
  },
  {
   "cell_type": "markdown",
   "id": "e8da0957",
   "metadata": {
    "hidden": true
   },
   "source": [
    "### Binary search and maintaining a sorted list\n",
    "The built-in bisect module implements binary search and insertion into a sorted list.\n",
    "bisect.bisect finds the location where an element should be inserted to keep it sor‐\n",
    "ted, while bisect.insort actually inserts the element into that location:"
   ]
  },
  {
   "cell_type": "code",
   "execution_count": 67,
   "id": "3af97961",
   "metadata": {
    "ExecuteTime": {
     "end_time": "2022-10-06T07:40:29.266114Z",
     "start_time": "2022-10-06T07:40:29.260112Z"
    },
    "hidden": true
   },
   "outputs": [
    {
     "data": {
      "text/plain": [
       "(2, 4)"
      ]
     },
     "execution_count": 67,
     "metadata": {},
     "output_type": "execute_result"
    }
   ],
   "source": [
    "import bisect\n",
    "c = [1, 2, 4, 5, 7]\n",
    "bisect.bisect(c, 3), bisect.bisect(c, 6)"
   ]
  },
  {
   "cell_type": "code",
   "execution_count": 68,
   "id": "3ccd4500",
   "metadata": {
    "ExecuteTime": {
     "end_time": "2022-10-06T07:40:29.643274Z",
     "start_time": "2022-10-06T07:40:29.620825Z"
    },
    "hidden": true
   },
   "outputs": [
    {
     "data": {
      "text/plain": [
       "[1, 2, 4, 5, 7, 7]"
      ]
     },
     "execution_count": 68,
     "metadata": {},
     "output_type": "execute_result"
    }
   ],
   "source": [
    "bisect.insort(c, 7)\n",
    "c"
   ]
  },
  {
   "cell_type": "markdown",
   "id": "4fb22f0f",
   "metadata": {
    "hidden": true
   },
   "source": [
    "**The bisect module functions do not check whether the list is sorted, as doing so would be computationally expensive. Thus, using them with an unsorted list will succeed without error but may lead to incorrect results.**\n",
    "\n",
    "### Slicing\n",
    "You can select sections of most sequence types by using slice notation, which in its\n",
    "basic form consists of start:stop passed to the indexing operator []:"
   ]
  },
  {
   "cell_type": "code",
   "execution_count": 69,
   "id": "1bd672b5",
   "metadata": {
    "ExecuteTime": {
     "end_time": "2022-10-06T07:44:12.096057Z",
     "start_time": "2022-10-06T07:44:12.083880Z"
    },
    "hidden": true
   },
   "outputs": [
    {
     "data": {
      "text/plain": [
       "[2, 3, 7, 5]"
      ]
     },
     "execution_count": 69,
     "metadata": {},
     "output_type": "execute_result"
    }
   ],
   "source": [
    "seq = [7, 2, 3, 7, 5, 6, 0, 1]\n",
    "seq[1: 5]"
   ]
  },
  {
   "cell_type": "markdown",
   "id": "93401e12",
   "metadata": {
    "hidden": true
   },
   "source": [
    "Slices can also be assigned to with a sequence:"
   ]
  },
  {
   "cell_type": "code",
   "execution_count": 71,
   "id": "60966587",
   "metadata": {
    "ExecuteTime": {
     "end_time": "2022-10-06T07:49:20.032666Z",
     "start_time": "2022-10-06T07:49:20.017716Z"
    },
    "hidden": true
   },
   "outputs": [
    {
     "data": {
      "text/plain": [
       "[7, 2, 3, 6, 3, 5, 6, 0, 1]"
      ]
     },
     "execution_count": 71,
     "metadata": {},
     "output_type": "execute_result"
    }
   ],
   "source": [
    "seq[3: 4] = [6, 3]\n",
    "seq"
   ]
  },
  {
   "cell_type": "markdown",
   "id": "38633a69",
   "metadata": {
    "hidden": true
   },
   "source": [
    "While the element at the start index is included, the stop index is not included, so that the number of elements in the result is stop - start.\n",
    "\n",
    "Either the start or stop can be omitted, in which case they default to the start of the\n",
    "sequence and the end of the sequence, respectively:"
   ]
  },
  {
   "cell_type": "code",
   "execution_count": 72,
   "id": "03f87230",
   "metadata": {
    "ExecuteTime": {
     "end_time": "2022-10-06T07:50:07.851893Z",
     "start_time": "2022-10-06T07:50:07.836706Z"
    },
    "hidden": true
   },
   "outputs": [
    {
     "data": {
      "text/plain": [
       "[7, 2, 3, 6, 3]"
      ]
     },
     "execution_count": 72,
     "metadata": {},
     "output_type": "execute_result"
    }
   ],
   "source": [
    "seq[: 5]"
   ]
  },
  {
   "cell_type": "code",
   "execution_count": 73,
   "id": "321fcc00",
   "metadata": {
    "ExecuteTime": {
     "end_time": "2022-10-06T07:50:14.816685Z",
     "start_time": "2022-10-06T07:50:14.812660Z"
    },
    "hidden": true
   },
   "outputs": [
    {
     "data": {
      "text/plain": [
       "[6, 3, 5, 6, 0, 1]"
      ]
     },
     "execution_count": 73,
     "metadata": {},
     "output_type": "execute_result"
    }
   ],
   "source": [
    "seq[3: ]"
   ]
  },
  {
   "cell_type": "markdown",
   "id": "0c25dadf",
   "metadata": {
    "hidden": true
   },
   "source": [
    "Negative indices slice the sequence relative to the end:"
   ]
  },
  {
   "cell_type": "code",
   "execution_count": 74,
   "id": "c1ca0180",
   "metadata": {
    "ExecuteTime": {
     "end_time": "2022-10-06T07:50:32.376201Z",
     "start_time": "2022-10-06T07:50:32.367201Z"
    },
    "hidden": true
   },
   "outputs": [
    {
     "data": {
      "text/plain": [
       "[5, 6, 0, 1]"
      ]
     },
     "execution_count": 74,
     "metadata": {},
     "output_type": "execute_result"
    }
   ],
   "source": [
    "seq[-4: ]"
   ]
  },
  {
   "cell_type": "code",
   "execution_count": 75,
   "id": "487dcc84",
   "metadata": {
    "ExecuteTime": {
     "end_time": "2022-10-06T07:50:39.319231Z",
     "start_time": "2022-10-06T07:50:39.308059Z"
    },
    "hidden": true
   },
   "outputs": [
    {
     "data": {
      "text/plain": [
       "[6, 3, 5, 6]"
      ]
     },
     "execution_count": 75,
     "metadata": {},
     "output_type": "execute_result"
    }
   ],
   "source": [
    "seq[-6: -2]"
   ]
  },
  {
   "cell_type": "markdown",
   "id": "42971c92",
   "metadata": {
    "hidden": true
   },
   "source": [
    "A step can also be used after a second colon to, say, take every other element:"
   ]
  },
  {
   "cell_type": "code",
   "execution_count": 77,
   "id": "7c785bde",
   "metadata": {
    "ExecuteTime": {
     "end_time": "2022-10-06T07:51:11.935651Z",
     "start_time": "2022-10-06T07:51:11.925419Z"
    },
    "hidden": true
   },
   "outputs": [
    {
     "data": {
      "text/plain": [
       "[7, 3, 3, 6, 1]"
      ]
     },
     "execution_count": 77,
     "metadata": {},
     "output_type": "execute_result"
    }
   ],
   "source": [
    "seq[: : 2]"
   ]
  },
  {
   "cell_type": "markdown",
   "id": "aece4ad6",
   "metadata": {
    "hidden": true
   },
   "source": [
    "A clever use of this is to pass -1, which has the useful effect of reversing a list or tuple:"
   ]
  },
  {
   "cell_type": "code",
   "execution_count": 78,
   "id": "055ce089",
   "metadata": {
    "ExecuteTime": {
     "end_time": "2022-10-06T07:51:41.984018Z",
     "start_time": "2022-10-06T07:51:41.968964Z"
    },
    "hidden": true
   },
   "outputs": [
    {
     "data": {
      "text/plain": [
       "[1, 0, 6, 5, 3, 6, 3, 2, 7]"
      ]
     },
     "execution_count": 78,
     "metadata": {},
     "output_type": "execute_result"
    }
   ],
   "source": [
    "seq[: : -1]"
   ]
  },
  {
   "cell_type": "markdown",
   "id": "183efdec",
   "metadata": {
    "hidden": true
   },
   "source": [
    "## Built-in Sequence Functions"
   ]
  },
  {
   "cell_type": "markdown",
   "id": "576da96b",
   "metadata": {
    "hidden": true
   },
   "source": [
    "### enumerate\n",
    "It’s common when iterating over a sequence to want to keep track of the index of the current item.\n",
    "\n",
    "Since this is so common, Python has a built-in function, enumerate, which returns a\n",
    "sequence of (i, value) tuples:\n",
    "```python\n",
    "for i, value in enumerate(collection):\n",
    "    # do something with value\n",
    "```\n",
    "\n",
    "When you are indexing data, a helpful pattern that uses enumerate is computing a\n",
    "dict mapping the values of a sequence (which are assumed to be unique) to their\n",
    "locations in the sequence:"
   ]
  },
  {
   "cell_type": "code",
   "execution_count": 80,
   "id": "48f76289",
   "metadata": {
    "ExecuteTime": {
     "end_time": "2022-10-06T11:34:25.622322Z",
     "start_time": "2022-10-06T11:34:25.591204Z"
    },
    "hidden": true
   },
   "outputs": [
    {
     "data": {
      "text/plain": [
       "{'foo': 0, 'bar': 1, 'baz': 2}"
      ]
     },
     "execution_count": 80,
     "metadata": {},
     "output_type": "execute_result"
    }
   ],
   "source": [
    "some_list = ['foo', 'bar', 'baz']\n",
    "mapping = {}\n",
    "for i, v in enumerate(some_list):\n",
    "    mapping[v] = i\n",
    "mapping"
   ]
  },
  {
   "cell_type": "markdown",
   "id": "5d8714ad",
   "metadata": {
    "hidden": true
   },
   "source": [
    "### sorted\n",
    "The sorted function returns a new sorted list from the elements of any sequence:"
   ]
  },
  {
   "cell_type": "code",
   "execution_count": 83,
   "id": "4bdafa02",
   "metadata": {
    "ExecuteTime": {
     "end_time": "2022-10-06T11:42:03.027250Z",
     "start_time": "2022-10-06T11:42:03.010214Z"
    },
    "hidden": true
   },
   "outputs": [
    {
     "data": {
      "text/plain": [
       "([0, 1, 2, 2, 3, 6, 7], [7, 1, 2, 6, 0, 3, 2])"
      ]
     },
     "execution_count": 83,
     "metadata": {},
     "output_type": "execute_result"
    }
   ],
   "source": [
    "a = [7, 1, 2, 6, 0, 3, 2]\n",
    "sorted(a), a"
   ]
  },
  {
   "cell_type": "markdown",
   "id": "3745e8f1",
   "metadata": {
    "hidden": true
   },
   "source": [
    "The sorted function accepts the same arguments as the sort method on lists."
   ]
  },
  {
   "cell_type": "markdown",
   "id": "c3bf51a1",
   "metadata": {
    "hidden": true
   },
   "source": [
    "### zip\n",
    "zip “pairs” up the elements of a number of lists, tuples, or other sequences to **create a list of tuples:**"
   ]
  },
  {
   "cell_type": "code",
   "execution_count": 84,
   "id": "80fbdffb",
   "metadata": {
    "ExecuteTime": {
     "end_time": "2022-10-06T12:49:35.108714Z",
     "start_time": "2022-10-06T12:49:35.085117Z"
    },
    "hidden": true
   },
   "outputs": [],
   "source": [
    "seq1 = ['foo', 'bar', 'baz']\n",
    "seq2 = ['one', 'two', 'three']\n",
    "zipped = zip(seq1, seq2)"
   ]
  },
  {
   "cell_type": "code",
   "execution_count": 85,
   "id": "013c7726",
   "metadata": {
    "ExecuteTime": {
     "end_time": "2022-10-06T12:50:06.879408Z",
     "start_time": "2022-10-06T12:50:06.869849Z"
    },
    "hidden": true
   },
   "outputs": [
    {
     "data": {
      "text/plain": [
       "[('foo', 'one'), ('bar', 'two'), ('baz', 'three')]"
      ]
     },
     "execution_count": 85,
     "metadata": {},
     "output_type": "execute_result"
    }
   ],
   "source": [
    "list(zipped)"
   ]
  },
  {
   "cell_type": "markdown",
   "id": "36c13439",
   "metadata": {
    "hidden": true
   },
   "source": [
    "zip can take an arbitrary number of sequences, and the number of elements it produces is determined by the shortest sequence:"
   ]
  },
  {
   "cell_type": "code",
   "execution_count": 86,
   "id": "afa91018",
   "metadata": {
    "ExecuteTime": {
     "end_time": "2022-10-06T12:59:36.569419Z",
     "start_time": "2022-10-06T12:59:36.561380Z"
    },
    "hidden": true
   },
   "outputs": [
    {
     "data": {
      "text/plain": [
       "[('foo', 'one', False), ('bar', 'two', True)]"
      ]
     },
     "execution_count": 86,
     "metadata": {},
     "output_type": "execute_result"
    }
   ],
   "source": [
    "seq3 = [False, True]\n",
    "list(zip(seq1, seq2, seq3))"
   ]
  },
  {
   "cell_type": "markdown",
   "id": "2a89ec73",
   "metadata": {
    "hidden": true
   },
   "source": [
    "A very common use of zip is simultaneously iterating over multiple sequences, possibly also combined with enumerate:"
   ]
  },
  {
   "cell_type": "code",
   "execution_count": 87,
   "id": "505728ab",
   "metadata": {
    "ExecuteTime": {
     "end_time": "2022-10-06T13:02:33.891208Z",
     "start_time": "2022-10-06T13:02:33.884139Z"
    },
    "hidden": true
   },
   "outputs": [
    {
     "name": "stdout",
     "output_type": "stream",
     "text": [
      "0: foo, one\n",
      "1: bar, two\n",
      "2: baz, three\n"
     ]
    }
   ],
   "source": [
    "for i, (a, b) in enumerate(zip(seq1, seq2)):\n",
    "    print('{}: {}, {}'.format(i, a, b))"
   ]
  },
  {
   "cell_type": "markdown",
   "id": "1799401a",
   "metadata": {
    "hidden": true
   },
   "source": [
    "Another way to think about this is converting a list of rows into a list of\n",
    "columns. The syntax, which looks a bit magical, is:"
   ]
  },
  {
   "cell_type": "code",
   "execution_count": 88,
   "id": "b63253ea",
   "metadata": {
    "ExecuteTime": {
     "end_time": "2022-10-06T13:18:44.922247Z",
     "start_time": "2022-10-06T13:18:44.894227Z"
    },
    "hidden": true
   },
   "outputs": [],
   "source": [
    "pitchers = [('Nolan', 'Ryan'), ('Roger', 'Clemens'), ('Schilling', 'Curt')]"
   ]
  },
  {
   "cell_type": "code",
   "execution_count": 93,
   "id": "3833ae0a",
   "metadata": {
    "ExecuteTime": {
     "end_time": "2022-10-06T13:19:38.194484Z",
     "start_time": "2022-10-06T13:19:38.180242Z"
    },
    "hidden": true
   },
   "outputs": [
    {
     "data": {
      "text/plain": [
       "(('Nolan', 'Roger', 'Schilling'), ('Ryan', 'Clemens', 'Curt'))"
      ]
     },
     "execution_count": 93,
     "metadata": {},
     "output_type": "execute_result"
    }
   ],
   "source": [
    "first_names, last_names = zip(*pitchers)\n",
    "first_names, last_names"
   ]
  },
  {
   "cell_type": "markdown",
   "id": "9cbba8a6",
   "metadata": {
    "hidden": true
   },
   "source": [
    "### reversed\n",
    "reversed iterates over the elements of a sequence in reverse order:"
   ]
  },
  {
   "cell_type": "code",
   "execution_count": 94,
   "id": "68266d26",
   "metadata": {
    "ExecuteTime": {
     "end_time": "2022-10-06T14:14:58.968062Z",
     "start_time": "2022-10-06T14:14:58.960025Z"
    },
    "hidden": true
   },
   "outputs": [
    {
     "data": {
      "text/plain": [
       "[0, 1, 2, 3, 4, 5, 6, 7, 8, 9]"
      ]
     },
     "execution_count": 94,
     "metadata": {},
     "output_type": "execute_result"
    }
   ],
   "source": [
    "list(range(10))"
   ]
  },
  {
   "cell_type": "markdown",
   "id": "ceab6a9a",
   "metadata": {
    "hidden": true
   },
   "source": [
    "Keep in mind that reversed is a generator, so it does not create the reversed sequence until materialized."
   ]
  },
  {
   "cell_type": "markdown",
   "id": "6f47a242",
   "metadata": {
    "hidden": true
   },
   "source": [
    "## dict\n",
    "dict is likely the most important built-in Python data structure. A more common\n",
    "name for it is hash map or associative array. It is a flexibly sized collection of key-value\n",
    "pairs, where key and value are Python objects. One approach for creating one is to use\n",
    "curly braces {} and colons to separate keys and values:"
   ]
  },
  {
   "cell_type": "code",
   "execution_count": 95,
   "id": "bbffc3e9",
   "metadata": {
    "ExecuteTime": {
     "end_time": "2022-10-06T14:20:20.637225Z",
     "start_time": "2022-10-06T14:20:20.629190Z"
    },
    "hidden": true
   },
   "outputs": [
    {
     "data": {
      "text/plain": [
       "{'a': 'some value', 'b': [1, 2, 3, 4]}"
      ]
     },
     "execution_count": 95,
     "metadata": {},
     "output_type": "execute_result"
    }
   ],
   "source": [
    "empty_dict = {}\n",
    "d1 = {'a': 'some value', 'b': [1, 2, 3, 4]}\n",
    "d1"
   ]
  },
  {
   "cell_type": "markdown",
   "id": "8ed24367",
   "metadata": {
    "hidden": true
   },
   "source": [
    "You can access, insert, or set elements using the same syntax as for accessing elements of a list or tuple:"
   ]
  },
  {
   "cell_type": "code",
   "execution_count": 96,
   "id": "2e64db47",
   "metadata": {
    "ExecuteTime": {
     "end_time": "2022-10-06T14:22:24.576088Z",
     "start_time": "2022-10-06T14:22:24.560912Z"
    },
    "hidden": true
   },
   "outputs": [
    {
     "data": {
      "text/plain": [
       "{'a': 'some value', 'b': [1, 2, 3, 4], 7: 'an integer'}"
      ]
     },
     "execution_count": 96,
     "metadata": {},
     "output_type": "execute_result"
    }
   ],
   "source": [
    "d1[7] = 'an integer'\n",
    "d1"
   ]
  },
  {
   "cell_type": "code",
   "execution_count": 97,
   "id": "e5a7d3b1",
   "metadata": {
    "ExecuteTime": {
     "end_time": "2022-10-06T14:22:34.354132Z",
     "start_time": "2022-10-06T14:22:34.341013Z"
    },
    "hidden": true
   },
   "outputs": [
    {
     "data": {
      "text/plain": [
       "[1, 2, 3, 4]"
      ]
     },
     "execution_count": 97,
     "metadata": {},
     "output_type": "execute_result"
    }
   ],
   "source": [
    "d1['b']"
   ]
  },
  {
   "cell_type": "markdown",
   "id": "d41be73e",
   "metadata": {
    "hidden": true
   },
   "source": [
    "You can **check if a dict contains a key** using the same syntax used for checking whether a list or tuple contains a value:"
   ]
  },
  {
   "cell_type": "code",
   "execution_count": 100,
   "id": "f7f7b4c6",
   "metadata": {
    "ExecuteTime": {
     "end_time": "2022-10-06T14:26:42.547119Z",
     "start_time": "2022-10-06T14:26:42.528495Z"
    },
    "hidden": true
   },
   "outputs": [
    {
     "data": {
      "text/plain": [
       "(False, True)"
      ]
     },
     "execution_count": 100,
     "metadata": {},
     "output_type": "execute_result"
    }
   ],
   "source": [
    "'some value' in d1, 'b' in d1"
   ]
  },
  {
   "cell_type": "markdown",
   "id": "ec050314",
   "metadata": {
    "hidden": true
   },
   "source": [
    "You can delete values either using the del keyword or the pop method:"
   ]
  },
  {
   "cell_type": "code",
   "execution_count": 104,
   "id": "5f7fd61d",
   "metadata": {
    "ExecuteTime": {
     "end_time": "2022-10-06T14:30:50.918350Z",
     "start_time": "2022-10-06T14:30:50.903164Z"
    },
    "hidden": true
   },
   "outputs": [
    {
     "data": {
      "text/plain": [
       "{'a': 'some value',\n",
       " 'b': [1, 2, 3, 4],\n",
       " 7: 'an integer',\n",
       " 'dummy': 'another value',\n",
       " 5: 'some value'}"
      ]
     },
     "execution_count": 104,
     "metadata": {},
     "output_type": "execute_result"
    }
   ],
   "source": [
    "d1[5] = 'some value'\n",
    "d1['dummy'] = 'another value'\n",
    "d1"
   ]
  },
  {
   "cell_type": "code",
   "execution_count": 105,
   "id": "4c2da58c",
   "metadata": {
    "ExecuteTime": {
     "end_time": "2022-10-06T14:30:52.576161Z",
     "start_time": "2022-10-06T14:30:52.560160Z"
    },
    "hidden": true
   },
   "outputs": [
    {
     "data": {
      "text/plain": [
       "{'a': 'some value',\n",
       " 'b': [1, 2, 3, 4],\n",
       " 7: 'an integer',\n",
       " 'dummy': 'another value'}"
      ]
     },
     "execution_count": 105,
     "metadata": {},
     "output_type": "execute_result"
    }
   ],
   "source": [
    "del d1[5]\n",
    "d1"
   ]
  },
  {
   "cell_type": "code",
   "execution_count": 106,
   "id": "7d9b7a7f",
   "metadata": {
    "ExecuteTime": {
     "end_time": "2022-10-06T14:31:48.826510Z",
     "start_time": "2022-10-06T14:31:48.803435Z"
    },
    "hidden": true
   },
   "outputs": [
    {
     "data": {
      "text/plain": [
       "'another value'"
      ]
     },
     "execution_count": 106,
     "metadata": {},
     "output_type": "execute_result"
    }
   ],
   "source": [
    "ret = d1.pop('dummy')\n",
    "ret"
   ]
  },
  {
   "cell_type": "code",
   "execution_count": 107,
   "id": "3fe3502f",
   "metadata": {
    "ExecuteTime": {
     "end_time": "2022-10-06T14:33:54.146167Z",
     "start_time": "2022-10-06T14:33:54.135134Z"
    },
    "hidden": true
   },
   "outputs": [
    {
     "data": {
      "text/plain": [
       "{'a': 'some value', 'b': [1, 2, 3, 4], 7: 'an integer'}"
      ]
     },
     "execution_count": 107,
     "metadata": {},
     "output_type": "execute_result"
    }
   ],
   "source": [
    "d1"
   ]
  },
  {
   "cell_type": "markdown",
   "id": "75d2be86",
   "metadata": {
    "hidden": true
   },
   "source": [
    "The keys and values method give you iterators of the dict’s keys and values, respectively. While the key-value pairs are not in any particular order, these functions output the keys and values in the same order:"
   ]
  },
  {
   "cell_type": "code",
   "execution_count": 108,
   "id": "fd7de523",
   "metadata": {
    "ExecuteTime": {
     "end_time": "2022-10-06T15:14:33.127932Z",
     "start_time": "2022-10-06T15:14:33.113370Z"
    },
    "hidden": true
   },
   "outputs": [
    {
     "data": {
      "text/plain": [
       "['a', 'b', 7]"
      ]
     },
     "execution_count": 108,
     "metadata": {},
     "output_type": "execute_result"
    }
   ],
   "source": [
    "list(d1.keys())"
   ]
  },
  {
   "cell_type": "code",
   "execution_count": 109,
   "id": "ef4526ee",
   "metadata": {
    "ExecuteTime": {
     "end_time": "2022-10-06T15:52:25.005533Z",
     "start_time": "2022-10-06T15:52:24.989537Z"
    },
    "hidden": true
   },
   "outputs": [
    {
     "data": {
      "text/plain": [
       "['some value', [1, 2, 3, 4], 'an integer']"
      ]
     },
     "execution_count": 109,
     "metadata": {},
     "output_type": "execute_result"
    }
   ],
   "source": [
    "list(d1.values())"
   ]
  },
  {
   "cell_type": "markdown",
   "id": "fc3df896",
   "metadata": {
    "ExecuteTime": {
     "end_time": "2022-10-06T15:54:23.344421Z",
     "start_time": "2022-10-06T15:54:23.316625Z"
    },
    "hidden": true
   },
   "source": [
    "You can merge one dict into another using the update method:"
   ]
  },
  {
   "cell_type": "code",
   "execution_count": 112,
   "id": "41defe0a",
   "metadata": {
    "ExecuteTime": {
     "end_time": "2022-10-06T15:55:36.868145Z",
     "start_time": "2022-10-06T15:55:36.849993Z"
    },
    "hidden": true
   },
   "outputs": [
    {
     "data": {
      "text/plain": [
       "{'a': 'some value', 'b': 'foo', 7: 'an integer', 'c': 12}"
      ]
     },
     "execution_count": 112,
     "metadata": {},
     "output_type": "execute_result"
    }
   ],
   "source": [
    "d1.update({'b': 'foo', 'c': 12})\n",
    "d1"
   ]
  },
  {
   "cell_type": "markdown",
   "id": "77d83929",
   "metadata": {
    "hidden": true
   },
   "source": [
    "The update method changes dicts in-place, so any existing keys in the data passed to update will have their old values discarded."
   ]
  },
  {
   "cell_type": "markdown",
   "id": "9841a34f",
   "metadata": {
    "hidden": true
   },
   "source": [
    "### Creating dicts from sequences\n",
    "It’s common to occasionally end up with two sequences that you want to pair up element-wise in a dict. Since a dict is essentially a collection of 2-tuples, the dict function accepts a list of\n",
    "2-tuples:"
   ]
  },
  {
   "cell_type": "code",
   "execution_count": 113,
   "id": "789d14af",
   "metadata": {
    "ExecuteTime": {
     "end_time": "2022-10-06T16:01:34.648930Z",
     "start_time": "2022-10-06T16:01:34.632064Z"
    },
    "hidden": true
   },
   "outputs": [
    {
     "data": {
      "text/plain": [
       "{0: 4, 1: 3, 2: 2, 3: 1, 4: 0}"
      ]
     },
     "execution_count": 113,
     "metadata": {},
     "output_type": "execute_result"
    }
   ],
   "source": [
    "mapping = dict(zip(range(5,), reversed(range(5))))\n",
    "mapping"
   ]
  },
  {
   "cell_type": "markdown",
   "id": "3567c2a8",
   "metadata": {
    "hidden": true
   },
   "source": [
    "Later we’ll talk about dict comprehensions, another elegant way to construct dicts."
   ]
  },
  {
   "cell_type": "markdown",
   "id": "15936a53",
   "metadata": {
    "hidden": true
   },
   "source": [
    "### Default values\n",
    "It’s very common to have logic like:\n",
    "```python\n",
    "if key in some_dict:\n",
    "    value = some_dict[key]\n",
    "else:\n",
    "    value = default_value\n",
    "```\n",
    "Thus, the dict methods get and pop can take a default value to be returned, so that\n",
    "the above if-else block can be written simply as:\n",
    "```python\n",
    "value = some_dict.get(key, default_value)\n",
    "```\n",
    "\n",
    "get by default will return None if the key is not present, while pop will raise an exception. With setting values, a common case is for the values in a dict to be other collections, like lists."
   ]
  },
  {
   "cell_type": "code",
   "execution_count": 115,
   "id": "07a4c784",
   "metadata": {
    "ExecuteTime": {
     "end_time": "2022-10-06T16:11:33.864732Z",
     "start_time": "2022-10-06T16:11:33.851581Z"
    },
    "hidden": true
   },
   "outputs": [
    {
     "data": {
      "text/plain": [
       "{'a': ['apple', 'atom'], 'b': ['bat', 'bar', 'book']}"
      ]
     },
     "execution_count": 115,
     "metadata": {},
     "output_type": "execute_result"
    }
   ],
   "source": [
    "words = ['apple', 'bat', 'bar', 'atom', 'book']\n",
    "by_letter = {}\n",
    "for word in words:\n",
    "    letter = word[0]\n",
    "    if letter not in by_letter:\n",
    "        by_letter[letter] = [word]\n",
    "    else:\n",
    "        by_letter[letter].append(word)\n",
    "by_letter"
   ]
  },
  {
   "cell_type": "markdown",
   "id": "66f65942",
   "metadata": {
    "hidden": true
   },
   "source": [
    "The setdefault dict method **inserts key with a value of default if key is not in the dictionary.** The preceding for loop can be rewritten as:"
   ]
  },
  {
   "cell_type": "code",
   "execution_count": 121,
   "id": "cb3074bb",
   "metadata": {
    "ExecuteTime": {
     "end_time": "2022-10-06T16:15:42.672051Z",
     "start_time": "2022-10-06T16:15:42.664514Z"
    },
    "hidden": true
   },
   "outputs": [
    {
     "data": {
      "text/plain": [
       "{'a': ['apple', 'atom'], 'b': ['bat', 'bar', 'book']}"
      ]
     },
     "execution_count": 121,
     "metadata": {},
     "output_type": "execute_result"
    }
   ],
   "source": [
    "words = ['apple', 'bat', 'bar', 'atom', 'book']\n",
    "by_letter = {}\n",
    "for word in words:\n",
    "    letter = word[0]\n",
    "    by_letter.setdefault(letter, []).append(word)\n",
    "by_letter"
   ]
  },
  {
   "cell_type": "markdown",
   "id": "28fa2019",
   "metadata": {
    "hidden": true
   },
   "source": [
    "The built-in collections module has a useful class, defaultdict, which makes this\n",
    "even easier. To create one, you pass a type or function for generating the default value\n",
    "for each slot in the dict:"
   ]
  },
  {
   "cell_type": "code",
   "execution_count": 126,
   "id": "d3024842",
   "metadata": {
    "ExecuteTime": {
     "end_time": "2022-10-06T16:18:32.784689Z",
     "start_time": "2022-10-06T16:18:32.769783Z"
    },
    "hidden": true
   },
   "outputs": [
    {
     "data": {
      "text/plain": [
       "defaultdict(list, {'a': ['apple', 'atom'], 'b': ['bat', 'bar', 'book']})"
      ]
     },
     "execution_count": 126,
     "metadata": {},
     "output_type": "execute_result"
    }
   ],
   "source": [
    "from collections import defaultdict\n",
    "words = ['apple', 'bat', 'bar', 'atom', 'book']\n",
    "by_letter = defaultdict(list)\n",
    "for word in words:\n",
    "    by_letter[word[0]].append(word)\n",
    "\n",
    "by_letter"
   ]
  },
  {
   "cell_type": "markdown",
   "id": "5408e269",
   "metadata": {
    "hidden": true
   },
   "source": [
    "### Valid dict key types\n",
    "While the values of a dict can be any Python object, **the keys generally have to be immutable objects like scalar types (int, float, string) or tuples (all the objects in the tuple need to be immutable, too).** The technical term here is hashability. You can check whether an object is hashable (can be used as a key in a dict) with the hash function:"
   ]
  },
  {
   "cell_type": "code",
   "execution_count": 127,
   "id": "97db7e69",
   "metadata": {
    "ExecuteTime": {
     "end_time": "2022-10-06T16:20:34.792026Z",
     "start_time": "2022-10-06T16:20:34.777028Z"
    },
    "hidden": true
   },
   "outputs": [
    {
     "data": {
      "text/plain": [
       "6088722775827506120"
      ]
     },
     "execution_count": 127,
     "metadata": {},
     "output_type": "execute_result"
    }
   ],
   "source": [
    "hash('string')"
   ]
  },
  {
   "cell_type": "code",
   "execution_count": 128,
   "id": "1cc985b5",
   "metadata": {
    "ExecuteTime": {
     "end_time": "2022-10-06T16:21:08.817752Z",
     "start_time": "2022-10-06T16:21:08.806084Z"
    },
    "hidden": true
   },
   "outputs": [
    {
     "data": {
      "text/plain": [
       "-1429464707349485113"
      ]
     },
     "execution_count": 128,
     "metadata": {},
     "output_type": "execute_result"
    }
   ],
   "source": [
    "hash((1, 2, (1, 2)))"
   ]
  },
  {
   "cell_type": "code",
   "execution_count": 130,
   "id": "979484cb",
   "metadata": {
    "ExecuteTime": {
     "end_time": "2022-10-06T16:21:28.960603Z",
     "start_time": "2022-10-06T16:21:28.940665Z"
    },
    "hidden": true
   },
   "outputs": [
    {
     "ename": "TypeError",
     "evalue": "unhashable type: 'list'",
     "output_type": "error",
     "traceback": [
      "\u001b[1;31m---------------------------------------------------------------------------\u001b[0m",
      "\u001b[1;31mTypeError\u001b[0m                                 Traceback (most recent call last)",
      "Input \u001b[1;32mIn [130]\u001b[0m, in \u001b[0;36m<cell line: 1>\u001b[1;34m()\u001b[0m\n\u001b[1;32m----> 1\u001b[0m \u001b[38;5;28;43mhash\u001b[39;49m\u001b[43m(\u001b[49m\u001b[43m(\u001b[49m\u001b[38;5;241;43m1\u001b[39;49m\u001b[43m,\u001b[49m\u001b[43m \u001b[49m\u001b[38;5;241;43m2\u001b[39;49m\u001b[43m,\u001b[49m\u001b[43m \u001b[49m\u001b[43m[\u001b[49m\u001b[38;5;241;43m1\u001b[39;49m\u001b[43m,\u001b[49m\u001b[43m \u001b[49m\u001b[38;5;241;43m2\u001b[39;49m\u001b[43m]\u001b[49m\u001b[43m)\u001b[49m\u001b[43m)\u001b[49m\n",
      "\u001b[1;31mTypeError\u001b[0m: unhashable type: 'list'"
     ]
    }
   ],
   "source": [
    "hash((1, 2, [1, 2]))"
   ]
  },
  {
   "cell_type": "markdown",
   "id": "21e625ba",
   "metadata": {
    "hidden": true
   },
   "source": [
    "To use a list as a key, one option is to convert it to a tuple, which can be hashed as long as its elements also can:"
   ]
  },
  {
   "cell_type": "code",
   "execution_count": 131,
   "id": "fedfe9fa",
   "metadata": {
    "ExecuteTime": {
     "end_time": "2022-10-07T02:49:12.869821Z",
     "start_time": "2022-10-07T02:49:12.859827Z"
    },
    "hidden": true
   },
   "outputs": [
    {
     "data": {
      "text/plain": [
       "{(1, 2, 4): 5}"
      ]
     },
     "execution_count": 131,
     "metadata": {},
     "output_type": "execute_result"
    }
   ],
   "source": [
    "d = {}\n",
    "d[tuple([1, 2, 4])] = 5\n",
    "d"
   ]
  },
  {
   "cell_type": "markdown",
   "id": "6af3a156",
   "metadata": {
    "hidden": true
   },
   "source": [
    "## set\n",
    "A set is **an unordered collection of unique elements.** You can think of them like dicts, but keys only, no values. A set can be created in two ways: via the set function or via a set literal with curly braces:"
   ]
  },
  {
   "cell_type": "code",
   "execution_count": 132,
   "id": "1b35c505",
   "metadata": {
    "ExecuteTime": {
     "end_time": "2022-10-07T02:51:17.522620Z",
     "start_time": "2022-10-07T02:51:17.514453Z"
    },
    "hidden": true
   },
   "outputs": [
    {
     "data": {
      "text/plain": [
       "{1, 2, 3}"
      ]
     },
     "execution_count": 132,
     "metadata": {},
     "output_type": "execute_result"
    }
   ],
   "source": [
    "set([2, 2, 2, 1, 3, 3])"
   ]
  },
  {
   "cell_type": "code",
   "execution_count": 133,
   "id": "e302e050",
   "metadata": {
    "ExecuteTime": {
     "end_time": "2022-10-07T02:51:27.641427Z",
     "start_time": "2022-10-07T02:51:27.630786Z"
    },
    "hidden": true
   },
   "outputs": [
    {
     "data": {
      "text/plain": [
       "{1, 2, 3}"
      ]
     },
     "execution_count": 133,
     "metadata": {},
     "output_type": "execute_result"
    }
   ],
   "source": [
    "{2, 2, 2, 1, 3, 3}"
   ]
  },
  {
   "cell_type": "markdown",
   "id": "8ed7786f",
   "metadata": {
    "hidden": true
   },
   "source": [
    "Sets support mathematical set operations like union, intersection, difference, and symmetric difference."
   ]
  },
  {
   "cell_type": "code",
   "execution_count": 134,
   "id": "22d1c918",
   "metadata": {
    "ExecuteTime": {
     "end_time": "2022-10-07T02:55:07.755084Z",
     "start_time": "2022-10-07T02:55:07.744851Z"
    },
    "hidden": true
   },
   "outputs": [],
   "source": [
    "a = {1, 2, 3, 4, 5}\n",
    "b = {3, 4, 5, 6, 7, 8}"
   ]
  },
  {
   "cell_type": "code",
   "execution_count": 140,
   "id": "624636c3",
   "metadata": {
    "ExecuteTime": {
     "end_time": "2022-10-07T03:05:04.563402Z",
     "start_time": "2022-10-07T03:05:04.559370Z"
    },
    "hidden": true
   },
   "outputs": [
    {
     "data": {
      "text/plain": [
       "({1, 2, 3, 4, 5, 6, 7, 8}, {1, 2, 3, 4, 5, 6, 7, 8})"
      ]
     },
     "execution_count": 140,
     "metadata": {},
     "output_type": "execute_result"
    }
   ],
   "source": [
    "a.union(b), a | b"
   ]
  },
  {
   "cell_type": "markdown",
   "id": "92a75a59",
   "metadata": {
    "hidden": true
   },
   "source": [
    "The intersection contains the elements occurring in both sets. The & operator or the intersection method can be used:"
   ]
  },
  {
   "cell_type": "code",
   "execution_count": 139,
   "id": "c5ebdf4c",
   "metadata": {
    "ExecuteTime": {
     "end_time": "2022-10-07T03:04:55.239095Z",
     "start_time": "2022-10-07T03:04:55.223326Z"
    },
    "hidden": true
   },
   "outputs": [
    {
     "data": {
      "text/plain": [
       "({3, 4, 5}, {3, 4, 5})"
      ]
     },
     "execution_count": 139,
     "metadata": {},
     "output_type": "execute_result"
    }
   ],
   "source": [
    "a.intersection(b), a & b"
   ]
  },
  {
   "cell_type": "markdown",
   "id": "81b87357",
   "metadata": {
    "hidden": true
   },
   "source": [
    "|Function|Alternative syntax|Description|\n",
    "|---|---|---|\n",
    "a.add(x)|N/A|Add element x to the set a\n",
    "a.clear()|N/A|Reset the set a to an empty state, discarding all of its elements\n",
    "a.remove(x)|N/A|Remove element x from the set a\n",
    "a.pop()|N/A|Remove an arbitrary element from the set a, raising KeyError if the set is empty\n",
    "a.union(b)|a \\| b|All of the unique elements in a and b\n",
    "a.update(b)|a \\|= b|Set the contents of a to be the union of the elements in a and b\n",
    "a.intersection(b)| a & b|All of the elements in both a and b\n",
    "a.intersection_update(b)|a &= b|Set the contents of a to be the intersection of the elements in a and b \n",
    "a.difference(b)|a - b|The elements in a that are not in b\n",
    "a.difference_update(b)|a -= b|Set a to the elements in a that are not in b\n",
    "a.symmetric_difference(b)|a ^ b|All of the elements in either a or b but not both\n",
    "a.symmetric_difference_update(b)|a ^= b|Set a to contain the elements in either a or b but not both\n",
    "a.issubset(b)|N/A|True if the elements of a are all contained in b\n",
    "a.issuperset(b)|N/A|True if the elements of b are all contained in a\n",
    "a.isdisjoint(b)|N/A|True if a and b have no elements in common"
   ]
  },
  {
   "cell_type": "markdown",
   "id": "b80a60d2",
   "metadata": {
    "hidden": true
   },
   "source": [
    "All of the logical set operations have in-place counterparts, which enable you to\n",
    "replace the contents of the set on the left side of the operation with the result. For\n",
    "very large sets, this may be more efficient:"
   ]
  },
  {
   "cell_type": "code",
   "execution_count": 142,
   "id": "4709439b",
   "metadata": {
    "ExecuteTime": {
     "end_time": "2022-10-07T06:29:41.265984Z",
     "start_time": "2022-10-07T06:29:41.253983Z"
    },
    "hidden": true
   },
   "outputs": [
    {
     "data": {
      "text/plain": [
       "{1, 2, 3, 4, 5, 6, 7, 8}"
      ]
     },
     "execution_count": 142,
     "metadata": {},
     "output_type": "execute_result"
    }
   ],
   "source": [
    "c = a.copy()\n",
    "c |= b\n",
    "c"
   ]
  },
  {
   "cell_type": "code",
   "execution_count": 143,
   "id": "63eb1c0e",
   "metadata": {
    "ExecuteTime": {
     "end_time": "2022-10-07T06:29:59.288160Z",
     "start_time": "2022-10-07T06:29:59.278161Z"
    },
    "hidden": true
   },
   "outputs": [
    {
     "data": {
      "text/plain": [
       "{3, 4, 5, 6, 7, 8}"
      ]
     },
     "execution_count": 143,
     "metadata": {},
     "output_type": "execute_result"
    }
   ],
   "source": [
    "d = c.copy()\n",
    "d &= b\n",
    "d"
   ]
  },
  {
   "cell_type": "markdown",
   "id": "8453bc64",
   "metadata": {
    "hidden": true
   },
   "source": [
    "Like dicts, set elements generally must be immutable. To have list-like elements, you\n",
    "must convert it to a tuple:"
   ]
  },
  {
   "cell_type": "code",
   "execution_count": 146,
   "id": "4f698d66",
   "metadata": {
    "ExecuteTime": {
     "end_time": "2022-10-07T06:34:48.709859Z",
     "start_time": "2022-10-07T06:34:48.698000Z"
    },
    "hidden": true
   },
   "outputs": [
    {
     "data": {
      "text/plain": [
       "{(1, 2, 3, 4, 5)}"
      ]
     },
     "execution_count": 146,
     "metadata": {},
     "output_type": "execute_result"
    }
   ],
   "source": [
    "my_data = [1, 2, 3, 4, 5]\n",
    "my_set = {tuple(my_data)}\n",
    "my_set"
   ]
  },
  {
   "cell_type": "markdown",
   "id": "b5e9eed0",
   "metadata": {
    "hidden": true
   },
   "source": [
    "You can also check if a set is a subset of (is contained in) or a superset of (contains all\n",
    "elements of) another set:"
   ]
  },
  {
   "cell_type": "code",
   "execution_count": 148,
   "id": "4ff01ddf",
   "metadata": {
    "ExecuteTime": {
     "end_time": "2022-10-07T06:45:09.541889Z",
     "start_time": "2022-10-07T06:45:09.521872Z"
    },
    "hidden": true
   },
   "outputs": [
    {
     "data": {
      "text/plain": [
       "(True, True)"
      ]
     },
     "execution_count": 148,
     "metadata": {},
     "output_type": "execute_result"
    }
   ],
   "source": [
    "a_set = {1, 2, 3, 4, 5}\n",
    "{1, 2, 3}.issubset(a_set), a_set.issuperset({1, 2, 3})"
   ]
  },
  {
   "cell_type": "markdown",
   "id": "ca308bd2",
   "metadata": {
    "hidden": true
   },
   "source": [
    "Sets are equal if and only if their contents are equal:"
   ]
  },
  {
   "cell_type": "code",
   "execution_count": 149,
   "id": "0000fff9",
   "metadata": {
    "ExecuteTime": {
     "end_time": "2022-10-07T06:45:55.760972Z",
     "start_time": "2022-10-07T06:45:55.742998Z"
    },
    "hidden": true
   },
   "outputs": [
    {
     "data": {
      "text/plain": [
       "True"
      ]
     },
     "execution_count": 149,
     "metadata": {},
     "output_type": "execute_result"
    }
   ],
   "source": [
    "{1, 2, 3} == {3, 2, 1}"
   ]
  },
  {
   "cell_type": "markdown",
   "id": "0e56fe7a",
   "metadata": {
    "hidden": true
   },
   "source": [
    "## List, Set, and Dict Comprehensions\n",
    "\n",
    "List comprehensions are one of the most-loved Python language features. They allow\n",
    "you to concisely form a new list by filtering the elements of a collection, transforming\n",
    "the elements passing the filter in one concise expression. They take the basic form:\n",
    "```python\n",
    "[expr for val in collection if condition]\n",
    "```\n",
    "This is equivalent to the following for loop:\n",
    "```python\n",
    "result = []\n",
    "for val in collection:\n",
    "    if condition:\n",
    "        result.append(val)\n",
    "```\n",
    "The filter condition can be omitted, leaving only the expression."
   ]
  },
  {
   "cell_type": "code",
   "execution_count": 151,
   "id": "1b63dc5b",
   "metadata": {
    "ExecuteTime": {
     "end_time": "2022-10-07T07:00:47.627152Z",
     "start_time": "2022-10-07T07:00:47.596333Z"
    },
    "hidden": true
   },
   "outputs": [
    {
     "data": {
      "text/plain": [
       "['BAT', 'CAR', 'DOVE', 'PYTHON']"
      ]
     },
     "execution_count": 151,
     "metadata": {},
     "output_type": "execute_result"
    }
   ],
   "source": [
    "strings = ['a', 'as', 'bat', 'car', 'dove', 'python']\n",
    "[x.upper() for x in strings if len(x) > 2]"
   ]
  },
  {
   "cell_type": "markdown",
   "id": "5a0b3924",
   "metadata": {
    "hidden": true
   },
   "source": [
    "Set and dict comprehensions are a natural extension, producing sets and dicts in an\n",
    "idiomatically similar way instead of lists. A dict comprehension looks like this:\n",
    "```python\n",
    "dict_comp = {key-expr : value-expr for value in collection if condition}\n",
    "```\n",
    "\n",
    "A set comprehension looks like the equivalent list comprehension except with curly braces instead of square brackets:\n",
    "```python\n",
    "set_comp = {expr for value in collection if condition}\n",
    "```"
   ]
  },
  {
   "cell_type": "code",
   "execution_count": 153,
   "id": "b4ddbffe",
   "metadata": {
    "ExecuteTime": {
     "end_time": "2022-10-07T07:05:50.080850Z",
     "start_time": "2022-10-07T07:05:50.063827Z"
    },
    "hidden": true
   },
   "outputs": [
    {
     "data": {
      "text/plain": [
       "{1, 2, 3, 4, 6}"
      ]
     },
     "execution_count": 153,
     "metadata": {},
     "output_type": "execute_result"
    }
   ],
   "source": [
    "unique_lengths = {len(x) for x in strings}\n",
    "unique_lengths"
   ]
  },
  {
   "cell_type": "markdown",
   "id": "74ff31b2",
   "metadata": {
    "hidden": true
   },
   "source": [
    "We could also express this more functionally using the map function, introduced shortly:"
   ]
  },
  {
   "cell_type": "code",
   "execution_count": 155,
   "id": "5eeb3888",
   "metadata": {
    "ExecuteTime": {
     "end_time": "2022-10-07T07:06:35.765016Z",
     "start_time": "2022-10-07T07:06:35.746975Z"
    },
    "hidden": true
   },
   "outputs": [
    {
     "data": {
      "text/plain": [
       "{1, 2, 3, 4, 6}"
      ]
     },
     "execution_count": 155,
     "metadata": {},
     "output_type": "execute_result"
    }
   ],
   "source": [
    "set(map(len, strings))"
   ]
  },
  {
   "cell_type": "markdown",
   "id": "54a40c05",
   "metadata": {
    "hidden": true
   },
   "source": [
    "As a simple dict comprehension example, we could create a lookup map of these strings to their locations in the list:"
   ]
  },
  {
   "cell_type": "code",
   "execution_count": 156,
   "id": "4ca405ab",
   "metadata": {
    "ExecuteTime": {
     "end_time": "2022-10-07T07:08:31.826107Z",
     "start_time": "2022-10-07T07:08:31.804639Z"
    },
    "hidden": true
   },
   "outputs": [
    {
     "data": {
      "text/plain": [
       "{'a': 0, 'as': 1, 'bat': 2, 'car': 3, 'dove': 4, 'python': 5}"
      ]
     },
     "execution_count": 156,
     "metadata": {},
     "output_type": "execute_result"
    }
   ],
   "source": [
    "loc_mapping = {val: index for index, val in enumerate(strings)}\n",
    "loc_mapping"
   ]
  },
  {
   "cell_type": "markdown",
   "id": "870b56e1",
   "metadata": {
    "hidden": true
   },
   "source": [
    "### Nested list comprehensions\n",
    "Suppose we have a list of lists containing some English and Spanish names:"
   ]
  },
  {
   "cell_type": "code",
   "execution_count": 158,
   "id": "0e91c931",
   "metadata": {
    "ExecuteTime": {
     "end_time": "2022-10-07T07:13:29.647651Z",
     "start_time": "2022-10-07T07:13:29.629629Z"
    },
    "hidden": true
   },
   "outputs": [],
   "source": [
    "all_data = [['John', 'Emily', 'Michael', 'Mary', 'Steven'],\n",
    "            ['Maria', 'Juan', 'Javier', 'Natalia', 'Pilar']]"
   ]
  },
  {
   "cell_type": "markdown",
   "id": "a07a70c6",
   "metadata": {
    "hidden": true
   },
   "source": [
    "You might have gotten these names from a couple of files and decided to organize\n",
    "them by language. Now, suppose we wanted to get a single list containing all names\n",
    "with two or more e’s in them. We could certainly do this with a simple for loop:"
   ]
  },
  {
   "cell_type": "code",
   "execution_count": 159,
   "id": "89b25d47",
   "metadata": {
    "ExecuteTime": {
     "end_time": "2022-10-07T07:14:42.753122Z",
     "start_time": "2022-10-07T07:14:42.737086Z"
    },
    "hidden": true
   },
   "outputs": [
    {
     "data": {
      "text/plain": [
       "['Steven']"
      ]
     },
     "execution_count": 159,
     "metadata": {},
     "output_type": "execute_result"
    }
   ],
   "source": [
    "name_of_interest = []\n",
    "for names in all_data:\n",
    "    enough_es = [name for name in names if name.count('e') >= 2]\n",
    "    name_of_interest.extend(enough_es)\n",
    "name_of_interest"
   ]
  },
  {
   "cell_type": "markdown",
   "id": "e86746ac",
   "metadata": {
    "hidden": true
   },
   "source": [
    "You can actually wrap this whole operation up in a single nested list comprehension,\n",
    "which will look like:"
   ]
  },
  {
   "cell_type": "code",
   "execution_count": 160,
   "id": "7ac67061",
   "metadata": {
    "ExecuteTime": {
     "end_time": "2022-10-07T07:16:01.116514Z",
     "start_time": "2022-10-07T07:16:01.110514Z"
    },
    "hidden": true
   },
   "outputs": [
    {
     "data": {
      "text/plain": [
       "['Steven']"
      ]
     },
     "execution_count": 160,
     "metadata": {},
     "output_type": "execute_result"
    }
   ],
   "source": [
    "result = [name for names in all_data for name in names if name.count('e') >= 2]\n",
    "result"
   ]
  },
  {
   "cell_type": "markdown",
   "id": "63f1e221",
   "metadata": {
    "hidden": true
   },
   "source": [
    "At first, nested list comprehensions are a bit hard to wrap your head around. The for\n",
    "parts of the list comprehension are arranged according to the order of nesting, and\n",
    "any filter condition is put at the end as before."
   ]
  },
  {
   "cell_type": "code",
   "execution_count": 161,
   "id": "96c7efd8",
   "metadata": {
    "ExecuteTime": {
     "end_time": "2022-10-07T07:34:37.253437Z",
     "start_time": "2022-10-07T07:34:37.236404Z"
    },
    "hidden": true
   },
   "outputs": [
    {
     "data": {
      "text/plain": [
       "[1, 2, 3, 4, 5, 6, 7, 8, 9]"
      ]
     },
     "execution_count": 161,
     "metadata": {},
     "output_type": "execute_result"
    }
   ],
   "source": [
    "some_tuples = [(1, 2, 3), (4, 5, 6), (7, 8, 9)]\n",
    "flattened = [x for tup in some_tuples for x in tup]\n",
    "flattened"
   ]
  },
  {
   "cell_type": "markdown",
   "id": "29fdb2ea",
   "metadata": {
    "hidden": true
   },
   "source": [
    "Keep in mind that the order of the for expressions would be the same if you wrote a nested for loop instead of a list comprehension.\n",
    "\n",
    "You can have arbitrarily many levels of nesting, though if you have more than two or\n",
    "three levels of nesting you should probably start to question whether this makes sense\n",
    "from a code readability standpoint. It’s important to distinguish the syntax just shown\n",
    "from a list comprehension inside a list comprehension, which is also perfectly valid:"
   ]
  },
  {
   "cell_type": "code",
   "execution_count": 162,
   "id": "1c99f8c6",
   "metadata": {
    "ExecuteTime": {
     "end_time": "2022-10-07T09:02:14.221805Z",
     "start_time": "2022-10-07T09:02:14.213802Z"
    },
    "hidden": true
   },
   "outputs": [
    {
     "data": {
      "text/plain": [
       "[[1, 2, 3], [4, 5, 6], [7, 8, 9]]"
      ]
     },
     "execution_count": 162,
     "metadata": {},
     "output_type": "execute_result"
    }
   ],
   "source": [
    "[[x for x in tup] for tup in some_tuples]"
   ]
  },
  {
   "cell_type": "markdown",
   "id": "1b1e732d",
   "metadata": {},
   "source": [
    "# Functions"
   ]
  },
  {
   "cell_type": "markdown",
   "id": "ede3b50d",
   "metadata": {},
   "source": [
    "Functions are declared with the def keyword and returned from with the return keyword:"
   ]
  },
  {
   "cell_type": "code",
   "execution_count": 163,
   "id": "01c98cee",
   "metadata": {
    "ExecuteTime": {
     "end_time": "2022-10-07T10:22:36.221893Z",
     "start_time": "2022-10-07T10:22:36.214373Z"
    }
   },
   "outputs": [],
   "source": [
    "def my_function(x, y, z=1.5):\n",
    "    if z > 1:\n",
    "        return z * (x + y)\n",
    "    else:\n",
    "        return z / (x + y)"
   ]
  },
  {
   "cell_type": "markdown",
   "id": "3aa3454b",
   "metadata": {},
   "source": [
    "There is no issue with having multiple return statements. If Python reaches the end\n",
    "of a function without encountering a return statement, None is returned automatically.\n",
    "\n",
    "Each function can have positional arguments and keyword arguments. Keyword arguments are most commonly used to specify default values or optional arguments. In\n",
    "the preceding function, x and y are positional arguments while z is a keyword argument."
   ]
  },
  {
   "cell_type": "code",
   "execution_count": 166,
   "id": "b6b37719",
   "metadata": {
    "ExecuteTime": {
     "end_time": "2022-10-07T10:45:29.998085Z",
     "start_time": "2022-10-07T10:45:29.983917Z"
    }
   },
   "outputs": [
    {
     "data": {
      "text/plain": [
       "(9, 17.5, 45.0)"
      ]
     },
     "execution_count": 166,
     "metadata": {},
     "output_type": "execute_result"
    }
   ],
   "source": [
    "my_function(1, 2, z=3), my_function(3, 2, 3.5), my_function(10, 20)"
   ]
  },
  {
   "cell_type": "markdown",
   "id": "9084395f",
   "metadata": {},
   "source": [
    "**The main restriction on function arguments is that the keyword arguments must follow the positional arguments (if any).**\n",
    "\n",
    "It is possible to use keywords for passing positional arguments as\n",
    "well. In the preceding example, we could also have written:"
   ]
  },
  {
   "cell_type": "code",
   "execution_count": 167,
   "id": "a42578a2",
   "metadata": {
    "ExecuteTime": {
     "end_time": "2022-10-07T10:47:10.271215Z",
     "start_time": "2022-10-07T10:47:10.263132Z"
    }
   },
   "outputs": [
    {
     "data": {
      "text/plain": [
       "(77, 77)"
      ]
     },
     "execution_count": 167,
     "metadata": {},
     "output_type": "execute_result"
    }
   ],
   "source": [
    "my_function(x=5, y=6, z=7), my_function(y=6, x=5, z=7)"
   ]
  },
  {
   "cell_type": "markdown",
   "id": "4b2cc550",
   "metadata": {},
   "source": [
    "In some cases this can help with readability.\n",
    "\n",
    "## Namespaces, Scope, and Local Functions\n",
    "Functions can access variables in two different scopes: global and local. An alternative and more descriptive name describing a variable scope in Python is a namespace. Any variables that are assigned within a function by default are assigned to the local namespace. The local namespace is created when the function is called and immediately populated by the function’s arguments. After the function is finished, the local namespace is destroyed.\n",
    "\n",
    "Assigning variables outside of the function’s scope is possible, but those variables must be declared as global via the global keyword:"
   ]
  },
  {
   "cell_type": "code",
   "execution_count": 168,
   "id": "7133fb64",
   "metadata": {
    "ExecuteTime": {
     "end_time": "2022-10-07T10:54:10.441758Z",
     "start_time": "2022-10-07T10:54:10.426972Z"
    }
   },
   "outputs": [
    {
     "name": "stdout",
     "output_type": "stream",
     "text": [
      "[]\n"
     ]
    }
   ],
   "source": [
    "a = None\n",
    "def bind_a_variable():\n",
    "    global a\n",
    "    a = []\n",
    "bind_a_variable()\n",
    "print(a)"
   ]
  },
  {
   "cell_type": "markdown",
   "id": "5ea7ffcd",
   "metadata": {},
   "source": [
    "**I generally discourage use of the global keyword. Typically global\n",
    "variables are used to store some kind of state in a system. If you\n",
    "find yourself using a lot of them, it may indicate a need for object-\n",
    "oriented programming (using classes).**\n",
    "\n",
    "## Returning Multiple Values\n",
    "\n",
    "When I first programmed in Python after having programmed in C++, one\n",
    "of my favorite features was the ability to return multiple values from a function with\n",
    "simple syntax."
   ]
  },
  {
   "cell_type": "code",
   "execution_count": 170,
   "id": "39325134",
   "metadata": {
    "ExecuteTime": {
     "end_time": "2022-10-07T10:57:44.989806Z",
     "start_time": "2022-10-07T10:57:44.979588Z"
    }
   },
   "outputs": [],
   "source": [
    "def f():\n",
    "    a = 6\n",
    "    b = 7\n",
    "    c = 8\n",
    "    return a, b, c\n",
    "a, b, c = f()"
   ]
  },
  {
   "cell_type": "markdown",
   "id": "71b9c154",
   "metadata": {},
   "source": [
    "What’s happening here is that the function is actually just returning one object, namely a tuple, which is then being unpacked into the result variables. In the preceding example, we could have done this instead:"
   ]
  },
  {
   "cell_type": "code",
   "execution_count": 172,
   "id": "bdc8f299",
   "metadata": {
    "ExecuteTime": {
     "end_time": "2022-10-07T10:59:32.953939Z",
     "start_time": "2022-10-07T10:59:32.935942Z"
    }
   },
   "outputs": [
    {
     "data": {
      "text/plain": [
       "(6, 7, 8)"
      ]
     },
     "execution_count": 172,
     "metadata": {},
     "output_type": "execute_result"
    }
   ],
   "source": [
    "return_value = f()\n",
    "return_value"
   ]
  },
  {
   "cell_type": "markdown",
   "id": "357c3efd",
   "metadata": {},
   "source": [
    "## Functions Are Objects\n",
    "Since Python functions are objects, many constructs can be easily expressed that are\n",
    "difficult to do in other languages."
   ]
  },
  {
   "cell_type": "code",
   "execution_count": 173,
   "id": "405877d1",
   "metadata": {
    "ExecuteTime": {
     "end_time": "2022-10-07T11:04:00.732719Z",
     "start_time": "2022-10-07T11:04:00.717699Z"
    }
   },
   "outputs": [],
   "source": [
    "states = [' Alabama ', 'Georgia!', 'Georgia', 'georgia', 'FlOrIda', \n",
    "          'south carolina##', 'West virginia?']"
   ]
  },
  {
   "cell_type": "markdown",
   "id": "b56da34a",
   "metadata": {},
   "source": [
    "Lots of things need to happen to make this list of strings uniform and\n",
    "ready for analysis: stripping whitespace, removing punctuation symbols, and standardizing on proper capitalization. One way to do this is to use built-in string methods along with the re standard library module for regular expressions:"
   ]
  },
  {
   "cell_type": "code",
   "execution_count": 176,
   "id": "458799cd",
   "metadata": {
    "ExecuteTime": {
     "end_time": "2022-10-07T12:57:39.033666Z",
     "start_time": "2022-10-07T12:57:39.003466Z"
    }
   },
   "outputs": [
    {
     "data": {
      "text/plain": [
       "['Alabama',\n",
       " 'Georgia',\n",
       " 'Georgia',\n",
       " 'Georgia',\n",
       " 'Florida',\n",
       " 'South Carolina',\n",
       " 'West Virginia']"
      ]
     },
     "execution_count": 176,
     "metadata": {},
     "output_type": "execute_result"
    }
   ],
   "source": [
    "import re\n",
    "def clean_strings(strings):\n",
    "    result = []\n",
    "    for value in strings:\n",
    "        value = value.strip()\n",
    "        value = re.sub('[!#?]', '', value)\n",
    "        value = value.title()\n",
    "        result.append(value)\n",
    "    return result\n",
    "clean_strings(states)"
   ]
  },
  {
   "cell_type": "markdown",
   "id": "70243ed7",
   "metadata": {},
   "source": [
    "An alternative approach that you may find useful is to make a list of the operations you want to apply to a particular set of strings:"
   ]
  },
  {
   "cell_type": "code",
   "execution_count": 178,
   "id": "0cefc11b",
   "metadata": {
    "ExecuteTime": {
     "end_time": "2022-10-07T13:52:08.369211Z",
     "start_time": "2022-10-07T13:52:08.353178Z"
    }
   },
   "outputs": [
    {
     "data": {
      "text/plain": [
       "['Alabama',\n",
       " 'Georgia',\n",
       " 'Georgia',\n",
       " 'Georgia',\n",
       " 'Florida',\n",
       " 'South Carolina',\n",
       " 'West Virginia']"
      ]
     },
     "execution_count": 178,
     "metadata": {},
     "output_type": "execute_result"
    }
   ],
   "source": [
    "def remove_punctuation(value):\n",
    "    return re.sub('[!#?]', '', value)\n",
    "\n",
    "clean_ops = [str.strip, remove_punctuation, str.title]\n",
    "\n",
    "def clean_strings(strings, ops):\n",
    "    result = []\n",
    "    for value in strings:\n",
    "        for function in ops:\n",
    "            value = function(value)\n",
    "        result.append(value)\n",
    "    return result\n",
    "\n",
    "clean_strings(states, clean_ops)"
   ]
  },
  {
   "cell_type": "markdown",
   "id": "1da0d906",
   "metadata": {},
   "source": [
    "You can use functions as arguments to other functions like the built-in map function,\n",
    "which applies a function to a sequence of some kind:"
   ]
  },
  {
   "cell_type": "code",
   "execution_count": 179,
   "id": "d8b3571c",
   "metadata": {
    "ExecuteTime": {
     "end_time": "2022-10-07T14:03:29.338851Z",
     "start_time": "2022-10-07T14:03:29.320810Z"
    }
   },
   "outputs": [
    {
     "name": "stdout",
     "output_type": "stream",
     "text": [
      " Alabama \n",
      "Georgia\n",
      "Georgia\n",
      "georgia\n",
      "FlOrIda\n",
      "south carolina\n",
      "West virginia\n"
     ]
    }
   ],
   "source": [
    "for x in map(remove_punctuation, states):\n",
    "    print(x)"
   ]
  },
  {
   "cell_type": "markdown",
   "id": "21d241a9",
   "metadata": {},
   "source": [
    "## Anonymous (Lambda) Functions\n",
    "Python has support for so-called anonymous or lambda functions, which are a way of\n",
    "writing functions consisting of a single statement, the result of which is the return\n",
    "value. They are defined with the lambda keyword, which has no meaning other than\n",
    "“we are declaring an anonymous function”:"
   ]
  },
  {
   "cell_type": "code",
   "execution_count": 182,
   "id": "41d48879",
   "metadata": {
    "ExecuteTime": {
     "end_time": "2022-10-07T14:07:00.074058Z",
     "start_time": "2022-10-07T14:07:00.063383Z"
    }
   },
   "outputs": [],
   "source": [
    "def short_function(x):\n",
    "    return x * 2\n",
    "\n",
    "equiv_anon = lambda x: x * 2"
   ]
  },
  {
   "cell_type": "markdown",
   "id": "3707bcf0",
   "metadata": {},
   "source": [
    "They are especially\n",
    "convenient in data analysis because, as you’ll see, there are many cases where data\n",
    "transformation functions will take functions as arguments. It’s often less typing (and\n",
    "clearer) to pass a lambda function as opposed to writing a full-out function declara‐\n",
    "tion or even assigning the lambda function to a local variable."
   ]
  },
  {
   "cell_type": "code",
   "execution_count": 183,
   "id": "9c00aea9",
   "metadata": {
    "ExecuteTime": {
     "end_time": "2022-10-07T14:08:46.448868Z",
     "start_time": "2022-10-07T14:08:46.440346Z"
    }
   },
   "outputs": [
    {
     "data": {
      "text/plain": [
       "[8, 0, 2, 10, 12]"
      ]
     },
     "execution_count": 183,
     "metadata": {},
     "output_type": "execute_result"
    }
   ],
   "source": [
    "def apply_to_list(some_list, f):\n",
    "    return [f(x) for x in some_list]\n",
    "\n",
    "ints = [4, 0, 1, 5, 6]\n",
    "apply_to_list(ints, lambda x: x * 2)"
   ]
  },
  {
   "cell_type": "code",
   "execution_count": 185,
   "id": "87f58098",
   "metadata": {
    "ExecuteTime": {
     "end_time": "2022-10-07T14:10:45.209322Z",
     "start_time": "2022-10-07T14:10:45.202322Z"
    }
   },
   "outputs": [
    {
     "data": {
      "text/plain": [
       "['aaaa', 'foo', 'abab', 'bar', 'card']"
      ]
     },
     "execution_count": 185,
     "metadata": {},
     "output_type": "execute_result"
    }
   ],
   "source": [
    "strings = ['foo', 'card', 'bar', 'aaaa', 'abab']\n",
    "strings.sort(key=lambda x: len(set(list(x))))\n",
    "strings"
   ]
  },
  {
   "cell_type": "markdown",
   "id": "11a37ec7",
   "metadata": {},
   "source": [
    "One reason lambda functions are called anonymous functions is\n",
    "that , unlike functions declared with the def keyword, the function\n",
    "object itself is never given an explicit __name__ attribute.\n",
    "\n",
    "## Currying: Partial Argument Application\n",
    "Currying is computer science jargon (named after the mathematician Haskell Curry)\n",
    "that means deriving new functions from existing ones by partial argument application. "
   ]
  },
  {
   "cell_type": "code",
   "execution_count": 186,
   "id": "7c3826cc",
   "metadata": {
    "ExecuteTime": {
     "end_time": "2022-10-07T14:14:57.786111Z",
     "start_time": "2022-10-07T14:14:57.778500Z"
    }
   },
   "outputs": [],
   "source": [
    "def add_numbers(x, y):\n",
    "    return x + y"
   ]
  },
  {
   "cell_type": "markdown",
   "id": "16d2eea2",
   "metadata": {},
   "source": [
    "Using this function, we could derive a new function of one variable, add_five, that adds 5 to its argument:"
   ]
  },
  {
   "cell_type": "code",
   "execution_count": 187,
   "id": "404487a8",
   "metadata": {
    "ExecuteTime": {
     "end_time": "2022-10-07T14:16:02.654091Z",
     "start_time": "2022-10-07T14:16:02.646577Z"
    }
   },
   "outputs": [],
   "source": [
    "add_five = lambda y: add_numbers(5, y)"
   ]
  },
  {
   "cell_type": "markdown",
   "id": "9c8e5d1c",
   "metadata": {},
   "source": [
    "The second argument to add_numbers is said to be curried. There’s nothing very fancy\n",
    "here, as all we’ve really done is define a new function that calls an existing function.\n",
    "The built-in functools module can simplify this process using the partial function:"
   ]
  },
  {
   "cell_type": "code",
   "execution_count": 188,
   "id": "536c9a2d",
   "metadata": {
    "ExecuteTime": {
     "end_time": "2022-10-07T14:17:56.894686Z",
     "start_time": "2022-10-07T14:17:56.885450Z"
    }
   },
   "outputs": [],
   "source": [
    "from functools import partial\n",
    "add_five = partial(add_numbers, 5)"
   ]
  },
  {
   "cell_type": "markdown",
   "id": "be24c1c1",
   "metadata": {},
   "source": [
    "## Generators\n",
    "Having a consistent way to iterate over sequences, like objects in a list or lines in a\n",
    "file, is an important Python feature. This is accomplished by means of the iterator\n",
    "protocol, a generic way to make objects iterable."
   ]
  },
  {
   "cell_type": "code",
   "execution_count": 190,
   "id": "47079435",
   "metadata": {
    "ExecuteTime": {
     "end_time": "2022-10-07T14:20:47.938483Z",
     "start_time": "2022-10-07T14:20:47.933485Z"
    }
   },
   "outputs": [
    {
     "name": "stdout",
     "output_type": "stream",
     "text": [
      "a\n",
      "b\n",
      "c\n"
     ]
    }
   ],
   "source": [
    "some_dict = {'a': 1, 'b': 2, 'c': 3}\n",
    "for key in some_dict:\n",
    "    print(key)"
   ]
  },
  {
   "cell_type": "markdown",
   "id": "187159c3",
   "metadata": {},
   "source": [
    "When you write ```for key in some_dict```, the Python interpreter first attempts to create an iterator out of some_dict:"
   ]
  },
  {
   "cell_type": "code",
   "execution_count": 191,
   "id": "df7f67f7",
   "metadata": {
    "ExecuteTime": {
     "end_time": "2022-10-07T14:22:26.628810Z",
     "start_time": "2022-10-07T14:22:26.618671Z"
    }
   },
   "outputs": [
    {
     "data": {
      "text/plain": [
       "<dict_keyiterator at 0x21759199f40>"
      ]
     },
     "execution_count": 191,
     "metadata": {},
     "output_type": "execute_result"
    }
   ],
   "source": [
    "dict_iterator = iter(some_dict)\n",
    "dict_iterator"
   ]
  },
  {
   "cell_type": "markdown",
   "id": "5c8f6aa5",
   "metadata": {},
   "source": [
    "An iterator is any object that will yield objects to the Python interpreter when used in\n",
    "a context like a for loop. Most methods expecting a list or list-like object will also\n",
    "accept any iterable object. This includes built-in methods such as min, max, and sum,\n",
    "and type constructors like list and tuple:"
   ]
  },
  {
   "cell_type": "code",
   "execution_count": 192,
   "id": "b8a1bd56",
   "metadata": {
    "ExecuteTime": {
     "end_time": "2022-10-07T14:24:30.688752Z",
     "start_time": "2022-10-07T14:24:30.673137Z"
    }
   },
   "outputs": [
    {
     "data": {
      "text/plain": [
       "['a', 'b', 'c']"
      ]
     },
     "execution_count": 192,
     "metadata": {},
     "output_type": "execute_result"
    }
   ],
   "source": [
    "list(dict_iterator)"
   ]
  },
  {
   "cell_type": "markdown",
   "id": "95a04161",
   "metadata": {},
   "source": [
    "A generator is a concise way to construct a new iterable object. Whereas normal functions execute and return a single result at a time, generators return a sequence of\n",
    "multiple results lazily, pausing after each one until the next one is requested. To create\n",
    "a generator, use the yield keyword instead of return in a function:"
   ]
  },
  {
   "cell_type": "code",
   "execution_count": 193,
   "id": "c2157764",
   "metadata": {
    "ExecuteTime": {
     "end_time": "2022-10-07T14:28:50.086344Z",
     "start_time": "2022-10-07T14:28:50.075306Z"
    }
   },
   "outputs": [],
   "source": [
    "def squares(n=10):\n",
    "    print('Generating squares from 1 to {0}'.format(n ** 2))\n",
    "    for i in range(1, n + 1):\n",
    "        yield i ** 2"
   ]
  },
  {
   "cell_type": "markdown",
   "id": "3385da70",
   "metadata": {},
   "source": [
    "When you actually call the generator, no code is immediately executed:"
   ]
  },
  {
   "cell_type": "code",
   "execution_count": 194,
   "id": "d01e6f6a",
   "metadata": {
    "ExecuteTime": {
     "end_time": "2022-10-07T14:29:15.900403Z",
     "start_time": "2022-10-07T14:29:15.885369Z"
    }
   },
   "outputs": [
    {
     "data": {
      "text/plain": [
       "<generator object squares at 0x0000021759990820>"
      ]
     },
     "execution_count": 194,
     "metadata": {},
     "output_type": "execute_result"
    }
   ],
   "source": [
    "gen = squares()\n",
    "gen"
   ]
  },
  {
   "cell_type": "markdown",
   "id": "e8bcb5ef",
   "metadata": {},
   "source": [
    "It is not until you request elements from the generator that it begins executing its\n",
    "code:"
   ]
  },
  {
   "cell_type": "code",
   "execution_count": 195,
   "id": "3d10fb3b",
   "metadata": {
    "ExecuteTime": {
     "end_time": "2022-10-07T14:31:27.329379Z",
     "start_time": "2022-10-07T14:31:27.325381Z"
    }
   },
   "outputs": [
    {
     "name": "stdout",
     "output_type": "stream",
     "text": [
      "Generating squares from 1 to 100\n",
      "1 4 9 16 25 36 49 64 81 100 "
     ]
    }
   ],
   "source": [
    "for x in gen:\n",
    "    print(x, end=' ')"
   ]
  },
  {
   "cell_type": "code",
   "execution_count": null,
   "id": "5e7c4ba2",
   "metadata": {},
   "outputs": [],
   "source": []
  },
  {
   "cell_type": "code",
   "execution_count": null,
   "id": "1004a90c",
   "metadata": {},
   "outputs": [],
   "source": []
  },
  {
   "cell_type": "code",
   "execution_count": null,
   "id": "e0e9c99a",
   "metadata": {},
   "outputs": [],
   "source": []
  },
  {
   "cell_type": "code",
   "execution_count": null,
   "id": "9c6e674a",
   "metadata": {},
   "outputs": [],
   "source": []
  },
  {
   "cell_type": "code",
   "execution_count": null,
   "id": "1c16889b",
   "metadata": {},
   "outputs": [],
   "source": []
  },
  {
   "cell_type": "code",
   "execution_count": null,
   "id": "35a931aa",
   "metadata": {},
   "outputs": [],
   "source": []
  },
  {
   "cell_type": "code",
   "execution_count": null,
   "id": "109b26ba",
   "metadata": {},
   "outputs": [],
   "source": []
  },
  {
   "cell_type": "code",
   "execution_count": null,
   "id": "117cbef3",
   "metadata": {},
   "outputs": [],
   "source": []
  },
  {
   "cell_type": "code",
   "execution_count": null,
   "id": "ea52c6af",
   "metadata": {},
   "outputs": [],
   "source": []
  },
  {
   "cell_type": "code",
   "execution_count": null,
   "id": "229deccf",
   "metadata": {},
   "outputs": [],
   "source": []
  },
  {
   "cell_type": "code",
   "execution_count": null,
   "id": "308b671e",
   "metadata": {},
   "outputs": [],
   "source": []
  },
  {
   "cell_type": "code",
   "execution_count": null,
   "id": "87c681e6",
   "metadata": {},
   "outputs": [],
   "source": []
  },
  {
   "cell_type": "code",
   "execution_count": null,
   "id": "be7e611f",
   "metadata": {},
   "outputs": [],
   "source": []
  },
  {
   "cell_type": "code",
   "execution_count": null,
   "id": "accecc89",
   "metadata": {},
   "outputs": [],
   "source": []
  },
  {
   "cell_type": "code",
   "execution_count": null,
   "id": "5d31cc81",
   "metadata": {},
   "outputs": [],
   "source": []
  },
  {
   "cell_type": "code",
   "execution_count": null,
   "id": "8891901c",
   "metadata": {},
   "outputs": [],
   "source": []
  },
  {
   "cell_type": "code",
   "execution_count": null,
   "id": "4e6240fc",
   "metadata": {},
   "outputs": [],
   "source": []
  },
  {
   "cell_type": "code",
   "execution_count": null,
   "id": "3374a723",
   "metadata": {},
   "outputs": [],
   "source": []
  },
  {
   "cell_type": "code",
   "execution_count": null,
   "id": "9fadce54",
   "metadata": {},
   "outputs": [],
   "source": []
  },
  {
   "cell_type": "code",
   "execution_count": null,
   "id": "fc155074",
   "metadata": {},
   "outputs": [],
   "source": []
  },
  {
   "cell_type": "code",
   "execution_count": null,
   "id": "eca5f250",
   "metadata": {},
   "outputs": [],
   "source": []
  },
  {
   "cell_type": "code",
   "execution_count": null,
   "id": "f4e27bbb",
   "metadata": {},
   "outputs": [],
   "source": []
  },
  {
   "cell_type": "code",
   "execution_count": null,
   "id": "a896852a",
   "metadata": {},
   "outputs": [],
   "source": []
  },
  {
   "cell_type": "code",
   "execution_count": null,
   "id": "f8f43351",
   "metadata": {},
   "outputs": [],
   "source": []
  },
  {
   "cell_type": "code",
   "execution_count": null,
   "id": "8c6f624a",
   "metadata": {},
   "outputs": [],
   "source": []
  },
  {
   "cell_type": "code",
   "execution_count": null,
   "id": "934abab9",
   "metadata": {},
   "outputs": [],
   "source": []
  },
  {
   "cell_type": "code",
   "execution_count": null,
   "id": "208bc78e",
   "metadata": {},
   "outputs": [],
   "source": []
  },
  {
   "cell_type": "code",
   "execution_count": null,
   "id": "030909a1",
   "metadata": {},
   "outputs": [],
   "source": []
  },
  {
   "cell_type": "code",
   "execution_count": null,
   "id": "8c55c076",
   "metadata": {},
   "outputs": [],
   "source": []
  },
  {
   "cell_type": "code",
   "execution_count": null,
   "id": "0a54b017",
   "metadata": {},
   "outputs": [],
   "source": []
  },
  {
   "cell_type": "code",
   "execution_count": null,
   "id": "886dcd8f",
   "metadata": {},
   "outputs": [],
   "source": []
  },
  {
   "cell_type": "code",
   "execution_count": null,
   "id": "1153cd26",
   "metadata": {},
   "outputs": [],
   "source": []
  },
  {
   "cell_type": "code",
   "execution_count": null,
   "id": "12385935",
   "metadata": {},
   "outputs": [],
   "source": []
  },
  {
   "cell_type": "code",
   "execution_count": null,
   "id": "2e961383",
   "metadata": {},
   "outputs": [],
   "source": []
  },
  {
   "cell_type": "code",
   "execution_count": null,
   "id": "f346769e",
   "metadata": {},
   "outputs": [],
   "source": []
  },
  {
   "cell_type": "code",
   "execution_count": null,
   "id": "989360cd",
   "metadata": {},
   "outputs": [],
   "source": []
  },
  {
   "cell_type": "code",
   "execution_count": null,
   "id": "19cc832e",
   "metadata": {},
   "outputs": [],
   "source": []
  },
  {
   "cell_type": "code",
   "execution_count": null,
   "id": "3f7596f3",
   "metadata": {},
   "outputs": [],
   "source": []
  },
  {
   "cell_type": "code",
   "execution_count": null,
   "id": "6db6d34a",
   "metadata": {},
   "outputs": [],
   "source": []
  },
  {
   "cell_type": "code",
   "execution_count": null,
   "id": "d7b51eaf",
   "metadata": {},
   "outputs": [],
   "source": []
  },
  {
   "cell_type": "code",
   "execution_count": null,
   "id": "b1051222",
   "metadata": {},
   "outputs": [],
   "source": []
  },
  {
   "cell_type": "code",
   "execution_count": null,
   "id": "ea88c9f4",
   "metadata": {},
   "outputs": [],
   "source": []
  },
  {
   "cell_type": "code",
   "execution_count": null,
   "id": "2f66e1f9",
   "metadata": {},
   "outputs": [],
   "source": []
  },
  {
   "cell_type": "code",
   "execution_count": null,
   "id": "232c3fa1",
   "metadata": {},
   "outputs": [],
   "source": []
  },
  {
   "cell_type": "code",
   "execution_count": null,
   "id": "068cd6b8",
   "metadata": {},
   "outputs": [],
   "source": []
  },
  {
   "cell_type": "code",
   "execution_count": null,
   "id": "d3ea3f19",
   "metadata": {},
   "outputs": [],
   "source": []
  },
  {
   "cell_type": "code",
   "execution_count": null,
   "id": "cf820754",
   "metadata": {},
   "outputs": [],
   "source": []
  },
  {
   "cell_type": "code",
   "execution_count": null,
   "id": "7a667586",
   "metadata": {},
   "outputs": [],
   "source": []
  },
  {
   "cell_type": "code",
   "execution_count": null,
   "id": "0bb59e28",
   "metadata": {},
   "outputs": [],
   "source": []
  },
  {
   "cell_type": "code",
   "execution_count": null,
   "id": "95318f66",
   "metadata": {},
   "outputs": [],
   "source": []
  },
  {
   "cell_type": "code",
   "execution_count": null,
   "id": "04b6bdb2",
   "metadata": {},
   "outputs": [],
   "source": []
  },
  {
   "cell_type": "code",
   "execution_count": null,
   "id": "de4736c3",
   "metadata": {},
   "outputs": [],
   "source": []
  },
  {
   "cell_type": "code",
   "execution_count": null,
   "id": "6bc4de36",
   "metadata": {},
   "outputs": [],
   "source": []
  },
  {
   "cell_type": "code",
   "execution_count": null,
   "id": "305e7687",
   "metadata": {},
   "outputs": [],
   "source": []
  },
  {
   "cell_type": "code",
   "execution_count": null,
   "id": "e184cffc",
   "metadata": {},
   "outputs": [],
   "source": []
  },
  {
   "cell_type": "code",
   "execution_count": null,
   "id": "dbbc0b8d",
   "metadata": {},
   "outputs": [],
   "source": []
  },
  {
   "cell_type": "code",
   "execution_count": null,
   "id": "dd9a6292",
   "metadata": {},
   "outputs": [],
   "source": []
  },
  {
   "cell_type": "code",
   "execution_count": null,
   "id": "3fa7169c",
   "metadata": {},
   "outputs": [],
   "source": []
  },
  {
   "cell_type": "code",
   "execution_count": null,
   "id": "bcba8a6c",
   "metadata": {},
   "outputs": [],
   "source": []
  },
  {
   "cell_type": "code",
   "execution_count": null,
   "id": "6b8f5b98",
   "metadata": {},
   "outputs": [],
   "source": []
  },
  {
   "cell_type": "code",
   "execution_count": null,
   "id": "53a3bc49",
   "metadata": {},
   "outputs": [],
   "source": []
  },
  {
   "cell_type": "code",
   "execution_count": null,
   "id": "9469216b",
   "metadata": {},
   "outputs": [],
   "source": []
  },
  {
   "cell_type": "code",
   "execution_count": null,
   "id": "30b82a50",
   "metadata": {},
   "outputs": [],
   "source": []
  },
  {
   "cell_type": "code",
   "execution_count": null,
   "id": "0fca5272",
   "metadata": {},
   "outputs": [],
   "source": []
  },
  {
   "cell_type": "code",
   "execution_count": null,
   "id": "2612aa40",
   "metadata": {},
   "outputs": [],
   "source": []
  },
  {
   "cell_type": "code",
   "execution_count": null,
   "id": "4ebfc2fc",
   "metadata": {},
   "outputs": [],
   "source": []
  },
  {
   "cell_type": "code",
   "execution_count": null,
   "id": "77cc8189",
   "metadata": {},
   "outputs": [],
   "source": []
  },
  {
   "cell_type": "code",
   "execution_count": null,
   "id": "dbe6ad95",
   "metadata": {},
   "outputs": [],
   "source": []
  },
  {
   "cell_type": "code",
   "execution_count": null,
   "id": "f7aeaf03",
   "metadata": {},
   "outputs": [],
   "source": []
  },
  {
   "cell_type": "code",
   "execution_count": null,
   "id": "bc5c7472",
   "metadata": {},
   "outputs": [],
   "source": []
  },
  {
   "cell_type": "code",
   "execution_count": null,
   "id": "95a31bdf",
   "metadata": {},
   "outputs": [],
   "source": []
  },
  {
   "cell_type": "code",
   "execution_count": null,
   "id": "c70e652e",
   "metadata": {},
   "outputs": [],
   "source": []
  },
  {
   "cell_type": "code",
   "execution_count": null,
   "id": "626d0ae8",
   "metadata": {},
   "outputs": [],
   "source": []
  },
  {
   "cell_type": "code",
   "execution_count": null,
   "id": "f5ea6a47",
   "metadata": {},
   "outputs": [],
   "source": []
  },
  {
   "cell_type": "code",
   "execution_count": null,
   "id": "a65bb41f",
   "metadata": {},
   "outputs": [],
   "source": []
  },
  {
   "cell_type": "code",
   "execution_count": null,
   "id": "2234bcbc",
   "metadata": {},
   "outputs": [],
   "source": []
  },
  {
   "cell_type": "code",
   "execution_count": null,
   "id": "c6adca23",
   "metadata": {},
   "outputs": [],
   "source": []
  },
  {
   "cell_type": "code",
   "execution_count": null,
   "id": "3a4ac88b",
   "metadata": {},
   "outputs": [],
   "source": []
  },
  {
   "cell_type": "code",
   "execution_count": null,
   "id": "4e223cbf",
   "metadata": {},
   "outputs": [],
   "source": []
  },
  {
   "cell_type": "code",
   "execution_count": null,
   "id": "87ad6b2b",
   "metadata": {},
   "outputs": [],
   "source": []
  },
  {
   "cell_type": "code",
   "execution_count": null,
   "id": "36766b07",
   "metadata": {},
   "outputs": [],
   "source": []
  },
  {
   "cell_type": "code",
   "execution_count": null,
   "id": "23bef0fe",
   "metadata": {},
   "outputs": [],
   "source": []
  },
  {
   "cell_type": "code",
   "execution_count": null,
   "id": "1e918a5b",
   "metadata": {},
   "outputs": [],
   "source": []
  },
  {
   "cell_type": "code",
   "execution_count": null,
   "id": "d420c030",
   "metadata": {},
   "outputs": [],
   "source": []
  },
  {
   "cell_type": "code",
   "execution_count": null,
   "id": "934fa7d3",
   "metadata": {},
   "outputs": [],
   "source": []
  },
  {
   "cell_type": "code",
   "execution_count": null,
   "id": "a8687523",
   "metadata": {},
   "outputs": [],
   "source": []
  },
  {
   "cell_type": "code",
   "execution_count": null,
   "id": "06b78860",
   "metadata": {},
   "outputs": [],
   "source": []
  },
  {
   "cell_type": "code",
   "execution_count": null,
   "id": "9063e355",
   "metadata": {},
   "outputs": [],
   "source": []
  },
  {
   "cell_type": "code",
   "execution_count": null,
   "id": "ce17153b",
   "metadata": {},
   "outputs": [],
   "source": []
  },
  {
   "cell_type": "code",
   "execution_count": null,
   "id": "b0d9fc7c",
   "metadata": {},
   "outputs": [],
   "source": []
  },
  {
   "cell_type": "code",
   "execution_count": null,
   "id": "41d83078",
   "metadata": {},
   "outputs": [],
   "source": []
  },
  {
   "cell_type": "code",
   "execution_count": null,
   "id": "85d85133",
   "metadata": {},
   "outputs": [],
   "source": []
  },
  {
   "cell_type": "code",
   "execution_count": null,
   "id": "92ecbb96",
   "metadata": {},
   "outputs": [],
   "source": []
  }
 ],
 "metadata": {
  "kernelspec": {
   "display_name": "Python 3 (ipykernel)",
   "language": "python",
   "name": "python3"
  },
  "language_info": {
   "codemirror_mode": {
    "name": "ipython",
    "version": 3
   },
   "file_extension": ".py",
   "mimetype": "text/x-python",
   "name": "python",
   "nbconvert_exporter": "python",
   "pygments_lexer": "ipython3",
   "version": "3.9.12"
  },
  "latex_envs": {
   "LaTeX_envs_menu_present": true,
   "autoclose": false,
   "autocomplete": true,
   "bibliofile": "biblio.bib",
   "cite_by": "apalike",
   "current_citInitial": 1,
   "eqLabelWithNumbers": true,
   "eqNumInitial": 1,
   "hotkeys": {
    "equation": "Ctrl-E",
    "itemize": "Ctrl-I"
   },
   "labels_anchors": false,
   "latex_user_defs": false,
   "report_style_numbering": false,
   "user_envs_cfg": false
  },
  "toc": {
   "base_numbering": 1,
   "nav_menu": {},
   "number_sections": true,
   "sideBar": true,
   "skip_h1_title": false,
   "title_cell": "Table of Contents",
   "title_sidebar": "Contents",
   "toc_cell": false,
   "toc_position": {},
   "toc_section_display": true,
   "toc_window_display": false
  },
  "varInspector": {
   "cols": {
    "lenName": 16,
    "lenType": 16,
    "lenVar": 40
   },
   "kernels_config": {
    "python": {
     "delete_cmd_postfix": "",
     "delete_cmd_prefix": "del ",
     "library": "var_list.py",
     "varRefreshCmd": "print(var_dic_list())"
    },
    "r": {
     "delete_cmd_postfix": ") ",
     "delete_cmd_prefix": "rm(",
     "library": "var_list.r",
     "varRefreshCmd": "cat(var_dic_list()) "
    }
   },
   "types_to_exclude": [
    "module",
    "function",
    "builtin_function_or_method",
    "instance",
    "_Feature"
   ],
   "window_display": false
  },
  "vp": {
   "vp_config_version": "1.0.0",
   "vp_menu_width": 273,
   "vp_note_display": false,
   "vp_note_width": 0,
   "vp_position": {
    "width": 278
   },
   "vp_section_display": false,
   "vp_signature": "VisualPython"
  }
 },
 "nbformat": 4,
 "nbformat_minor": 5
}
